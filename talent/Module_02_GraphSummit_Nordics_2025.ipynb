{
 "cells": [
  {
   "cell_type": "markdown",
   "metadata": {},
   "source": [
    "# Module objectives\n",
    "- Creating a graph from unstructured data input\n"
   ]
  },
  {
   "cell_type": "code",
   "metadata": {
    "id": "FHKg4DVZiQ98",
    "ExecuteTime": {
     "end_time": "2025-03-11T04:41:22.541082Z",
     "start_time": "2025-03-11T04:41:22.532204Z"
    }
   },
   "source": "#%pip install graphdatascience neo4j dotenv pydantic",
   "outputs": [],
   "execution_count": 1
  },
  {
   "cell_type": "markdown",
   "metadata": {
    "id": "ynPe6RLRWSKd"
   },
   "source": [
    "# Setup"
   ]
  },
  {
   "cell_type": "markdown",
   "metadata": {
    "id": "09qvRMrxye7l"
   },
   "source": [
    "Import our usual suspects"
   ]
  },
  {
   "cell_type": "code",
   "metadata": {
    "id": "BOfc_-mllcUE",
    "ExecuteTime": {
     "end_time": "2025-03-11T04:41:24.619236Z",
     "start_time": "2025-03-11T04:41:24.166980Z"
    }
   },
   "source": [
    "import os\n",
    "from dotenv import load_dotenv\n",
    "from neo4j import Query, GraphDatabase, RoutingControl, Result"
   ],
   "outputs": [],
   "execution_count": 2
  },
  {
   "cell_type": "markdown",
   "metadata": {
    "id": "pa61u1jfyk3t"
   },
   "source": [
    "Load env variables"
   ]
  },
  {
   "cell_type": "code",
   "metadata": {
    "id": "CHR_0lmElZ-R",
    "ExecuteTime": {
     "end_time": "2025-03-11T04:41:26.135533Z",
     "start_time": "2025-03-11T04:41:26.132351Z"
    }
   },
   "source": [
    "load_dotenv('ws.env', override=True)\n",
    "# Neo4j\n",
    "HOST = os.getenv('NEO4J_URI')\n",
    "USERNAME = os.getenv('NEO4J_USERNAME')\n",
    "PASSWORD = os.getenv('NEO4J_PASSWORD')\n",
    "DATABASE = os.getenv('NEO4J_DATABASE', 'neo4j')\n",
    "\n",
    "# AI\n",
    "OPENAI_API_KEY = os.getenv('OPENAI_API_KEY')\n",
    "os.environ['OPENAI_API_KEY']=OPENAI_API_KEY"
   ],
   "outputs": [],
   "execution_count": 3
  },
  {
   "cell_type": "markdown",
   "metadata": {},
   "source": [
    "Connect to neo4j db"
   ]
  },
  {
   "cell_type": "code",
   "metadata": {
    "id": "5w4eCb7xZZ-S",
    "ExecuteTime": {
     "end_time": "2025-03-11T04:41:28.486759Z",
     "start_time": "2025-03-11T04:41:27.846814Z"
    }
   },
   "source": [
    "driver = GraphDatabase.driver(\n",
    "    HOST,\n",
    "    auth=(USERNAME, PASSWORD)\n",
    ")\n",
    "driver.verify_connectivity(database=DATABASE)"
   ],
   "outputs": [
    {
     "name": "stderr",
     "output_type": "stream",
     "text": [
      "/Users/zachblumenfeld/opt/anaconda3/envs/genai-workshop-2025-3/lib/python3.11/site-packages/neo4j/_sync/driver.py:1075: ExperimentalWarning: All configuration key-word arguments to verify_connectivity() are experimental. They might be changed or removed in any future version without prior notice.\n",
      "  experimental_warn(\n"
     ]
    }
   ],
   "execution_count": 4
  },
  {
   "cell_type": "markdown",
   "metadata": {},
   "source": [
    "# Unstructured data"
   ]
  },
  {
   "cell_type": "code",
   "metadata": {
    "ExecuteTime": {
     "end_time": "2025-03-11T04:41:32.752508Z",
     "start_time": "2025-03-11T04:41:32.750381Z"
    }
   },
   "source": [
    "list_of_bio = [\n",
    "    ''' \n",
    "    Kristof \"speedy gonzales\" Neys, Graph Data Science Director at Neo4j. Kristof excel at Machine \n",
    "    Learning and has written more Quantified Path Patterns in Cypher than anyone else. Want to know more,\n",
    "    drop him an email at kristof.neys@neo4j.com\n",
    "    ''',\n",
    "    ''' \n",
    "    Håkan Löfqvist, Solutions Engineer at Neo4j. Håkan prefer using java \n",
    "    over python, but nothing beats hacking cypher queries and using Graph Technology \n",
    "    to deliver insane success :) Email: hakan.lofqvist@neo4j.com\n",
    "    ''',\n",
    "]\n",
    "print(list_of_bio)"
   ],
   "outputs": [
    {
     "name": "stdout",
     "output_type": "stream",
     "text": [
      "[' \\n    Kristof \"speedy gonzales\" Neys, Graph Data Science Director at Neo4j. Kristof excel at Machine \\n    Learning and has written more Quantified Path Patterns in Cypher than anyone else. Want to know more,\\n    drop him an email at kristof.neys@neo4j.com\\n    ', ' \\n    Håkan Löfqvist, Solutions Engineer at Neo4j. Håkan prefer using java \\n    over python, but nothing beats hacking cypher queries and using Graph Technology \\n    to deliver insane success :) Email: hakan.lofqvist@neo4j.com\\n    ']\n"
     ]
    }
   ],
   "execution_count": 5
  },
  {
   "cell_type": "markdown",
   "metadata": {},
   "source": [
    "## Define domain model"
   ]
  },
  {
   "cell_type": "code",
   "metadata": {
    "ExecuteTime": {
     "end_time": "2025-03-11T04:41:46.725748Z",
     "start_time": "2025-03-11T04:41:46.723550Z"
    }
   },
   "source": [
    "#%pip install pydantic\n",
    "#%pip install openai"
   ],
   "outputs": [],
   "execution_count": 6
  },
  {
   "cell_type": "code",
   "metadata": {
    "ExecuteTime": {
     "end_time": "2025-03-11T04:41:48.468718Z",
     "start_time": "2025-03-11T04:41:48.378878Z"
    }
   },
   "source": [
    "from typing import List, Optional\n",
    "from pydantic import BaseModel, Field, validator\n",
    "\n",
    "\n",
    "class Skill(BaseModel):\n",
    "    \"\"\"\n",
    "    Represents a professional skill or knwoledge of a person.\n",
    "    \"\"\"\n",
    "    name: str = Field(..., description=\"Sortened name of the skill\")\n",
    "    \n",
    "\n",
    "class Person(BaseModel):\n",
    "    \"\"\"\n",
    "    Represents a person with a name.\n",
    "    \"\"\"\n",
    "    name: str = Field(..., description=\"Full name of person\")\n",
    "    email: str = Field(..., description=\"A persons email address\")\n",
    "    skills: List[Skill] = Field(\n",
    "        ...,\n",
    "        description=\"List of skills known by the person\"\n",
    "    )"
   ],
   "outputs": [],
   "execution_count": 7
  },
  {
   "cell_type": "code",
   "metadata": {
    "ExecuteTime": {
     "end_time": "2025-03-11T04:41:49.308982Z",
     "start_time": "2025-03-11T04:41:49.306629Z"
    }
   },
   "source": [
    "system_message = \"\"\"\n",
    "You are an expert in extracting structured information from person resumes.\n",
    "Identify key details such as:\n",
    "- Name of the person\n",
    "- Email address of the person\n",
    "- Skills known by the person\n",
    "\n",
    "Present the extracted information in a clear, structured format. Be concise, focusing on:\n",
    "- Key skills\n",
    "- Full name of person\n",
    "Ignore nick names, titles or roles and company information be short and consise with skills\"\"\""
   ],
   "outputs": [],
   "execution_count": 8
  },
  {
   "cell_type": "code",
   "metadata": {
    "ExecuteTime": {
     "end_time": "2025-03-11T04:41:50.476900Z",
     "start_time": "2025-03-11T04:41:50.120458Z"
    }
   },
   "source": [
    "from openai import OpenAI\n",
    "import json\n",
    "client = OpenAI()\n",
    "def extract(document, model=\"gpt-4o\", temperature=0):\n",
    "    response = client.beta.chat.completions.parse(\n",
    "        model=model,\n",
    "        temperature=temperature,\n",
    "        messages=[\n",
    "            {\"role\": \"system\", \"content\": system_message},\n",
    "            {\"role\": \"user\", \"content\": document},\n",
    "        ],\n",
    "        response_format=Person,\n",
    "    )\n",
    "    return json.loads(response.choices[0].message.content)"
   ],
   "outputs": [],
   "execution_count": 9
  },
  {
   "cell_type": "code",
   "metadata": {
    "ExecuteTime": {
     "end_time": "2025-03-11T04:41:53.713911Z",
     "start_time": "2025-03-11T04:41:51.205374Z"
    }
   },
   "source": [
    "rows = []\n",
    "for text in list_of_bio:\n",
    "    data = extract(text)\n",
    "    rows.append(data)\n",
    "rows"
   ],
   "outputs": [
    {
     "data": {
      "text/plain": [
       "[{'name': 'Kristof Neys',\n",
       "  'email': 'kristof.neys@neo4j.com',\n",
       "  'skills': [{'name': 'Machine Learning'}, {'name': 'Cypher'}]},\n",
       " {'name': 'Håkan Löfqvist',\n",
       "  'email': 'hakan.lofqvist@neo4j.com',\n",
       "  'skills': [{'name': 'Java'},\n",
       "   {'name': 'Cypher Queries'},\n",
       "   {'name': 'Graph Technology'}]}]"
      ]
     },
     "execution_count": 10,
     "metadata": {},
     "output_type": "execute_result"
    }
   ],
   "execution_count": 10
  },
  {
   "cell_type": "code",
   "metadata": {
    "ExecuteTime": {
     "end_time": "2025-03-11T04:41:53.717937Z",
     "start_time": "2025-03-11T04:41:53.715052Z"
    }
   },
   "source": [
    "class PersonList(BaseModel):\n",
    "    persons:List[Person]\n",
    "\n",
    "structured_data = PersonList.model_validate({'persons':rows})\n",
    "print(structured_data.model_dump())"
   ],
   "outputs": [
    {
     "name": "stdout",
     "output_type": "stream",
     "text": [
      "{'persons': [{'name': 'Kristof Neys', 'email': 'kristof.neys@neo4j.com', 'skills': [{'name': 'Machine Learning'}, {'name': 'Cypher'}]}, {'name': 'Håkan Löfqvist', 'email': 'hakan.lofqvist@neo4j.com', 'skills': [{'name': 'Java'}, {'name': 'Cypher Queries'}, {'name': 'Graph Technology'}]}]}\n"
     ]
    }
   ],
   "execution_count": 11
  },
  {
   "cell_type": "markdown",
   "metadata": {
    "id": "0OMlYdxHWZLx"
   },
   "source": [
    "# Graph creation\n",
    "Now that data is structured and validated, we can save it to the database"
   ]
  },
  {
   "cell_type": "code",
   "metadata": {
    "ExecuteTime": {
     "end_time": "2025-03-11T04:41:55.492647Z",
     "start_time": "2025-03-11T04:41:55.010571Z"
    }
   },
   "source": [
    "records, summary, keys = driver.execute_query(\n",
    "    '''\n",
    "        unwind $rows as row\n",
    "        merge (p:Person{email:row.email})\n",
    "        set p.name = row.name\n",
    "        with p, row\n",
    "        foreach(skill in row.skills | merge (s:Skill{name:skill.name}) merge (p)-[:KNOWS]->(s) )\n",
    "        return count(*) as rows_processed\n",
    "    ''',\n",
    "    database_=DATABASE,\n",
    "    routing_=RoutingControl.WRITE,\n",
    "    rows = rows\n",
    ")"
   ],
   "outputs": [],
   "execution_count": 12
  },
  {
   "metadata": {},
   "cell_type": "code",
   "outputs": [],
   "execution_count": null,
   "source": ""
  }
 ],
 "metadata": {
  "colab": {
   "provenance": []
  },
  "kernelspec": {
   "display_name": "notebooks_new",
   "language": "python",
   "name": "python3"
  },
  "language_info": {
   "codemirror_mode": {
    "name": "ipython",
    "version": 3
   },
   "file_extension": ".py",
   "mimetype": "text/x-python",
   "name": "python",
   "nbconvert_exporter": "python",
   "pygments_lexer": "ipython3",
   "version": "3.11.0"
  }
 },
 "nbformat": 4,
 "nbformat_minor": 0
}
