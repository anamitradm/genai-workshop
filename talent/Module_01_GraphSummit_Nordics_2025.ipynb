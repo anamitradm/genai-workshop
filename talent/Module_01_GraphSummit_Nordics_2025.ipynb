{
 "cells": [
  {
   "cell_type": "markdown",
   "metadata": {},
   "source": [
    "# Module objectives\n",
    "- Creating a graph from structured data input\n",
    "- Basic Cypher Queries & Pattern Matching\n",
    "- Basic Vector Search\n",
    "- Feature engineering with Graph Algorithms\n"
   ]
  },
  {
   "cell_type": "code",
   "metadata": {
    "id": "FHKg4DVZiQ98",
    "ExecuteTime": {
     "end_time": "2025-03-11T06:11:53.909573Z",
     "start_time": "2025-03-11T06:11:51.641839Z"
    }
   },
   "source": "%pip install graphdatascience neo4j dotenv matplotlib langchain langchain-openai langgraph pydantic",
   "outputs": [
    {
     "name": "stdout",
     "output_type": "stream",
     "text": [
      "Requirement already satisfied: graphdatascience in /Users/zachblumenfeld/opt/anaconda3/envs/genai-workshop-2025-3/lib/python3.11/site-packages (1.14)\r\n",
      "Requirement already satisfied: neo4j in /Users/zachblumenfeld/opt/anaconda3/envs/genai-workshop-2025-3/lib/python3.11/site-packages (5.28.1)\r\n",
      "Requirement already satisfied: dotenv in /Users/zachblumenfeld/opt/anaconda3/envs/genai-workshop-2025-3/lib/python3.11/site-packages (0.9.9)\r\n",
      "Requirement already satisfied: matplotlib in /Users/zachblumenfeld/opt/anaconda3/envs/genai-workshop-2025-3/lib/python3.11/site-packages (3.10.1)\r\n",
      "Requirement already satisfied: langchain in /Users/zachblumenfeld/opt/anaconda3/envs/genai-workshop-2025-3/lib/python3.11/site-packages (0.3.20)\r\n",
      "Requirement already satisfied: langchain-openai in /Users/zachblumenfeld/opt/anaconda3/envs/genai-workshop-2025-3/lib/python3.11/site-packages (0.3.8)\r\n",
      "Collecting langgraph\r\n",
      "  Downloading langgraph-0.3.5-py3-none-any.whl.metadata (17 kB)\r\n",
      "Requirement already satisfied: pydantic in /Users/zachblumenfeld/opt/anaconda3/envs/genai-workshop-2025-3/lib/python3.11/site-packages (2.10.6)\r\n",
      "Requirement already satisfied: multimethod<3.0,>=1.0 in /Users/zachblumenfeld/opt/anaconda3/envs/genai-workshop-2025-3/lib/python3.11/site-packages (from graphdatascience) (2.0)\r\n",
      "Requirement already satisfied: numpy<2.3 in /Users/zachblumenfeld/opt/anaconda3/envs/genai-workshop-2025-3/lib/python3.11/site-packages (from graphdatascience) (2.2.3)\r\n",
      "Requirement already satisfied: pandas<3.0,>=1.0 in /Users/zachblumenfeld/opt/anaconda3/envs/genai-workshop-2025-3/lib/python3.11/site-packages (from graphdatascience) (2.2.3)\r\n",
      "Requirement already satisfied: pyarrow<20.0,>=16.0 in /Users/zachblumenfeld/opt/anaconda3/envs/genai-workshop-2025-3/lib/python3.11/site-packages (from graphdatascience) (19.0.1)\r\n",
      "Requirement already satisfied: textdistance<5.0,>=4.0 in /Users/zachblumenfeld/opt/anaconda3/envs/genai-workshop-2025-3/lib/python3.11/site-packages (from graphdatascience) (4.6.3)\r\n",
      "Requirement already satisfied: tqdm<5.0,>=4.0 in /Users/zachblumenfeld/opt/anaconda3/envs/genai-workshop-2025-3/lib/python3.11/site-packages (from graphdatascience) (4.67.1)\r\n",
      "Requirement already satisfied: typing-extensions<5.0,>=4.0 in /Users/zachblumenfeld/opt/anaconda3/envs/genai-workshop-2025-3/lib/python3.11/site-packages (from graphdatascience) (4.12.2)\r\n",
      "Requirement already satisfied: requests in /Users/zachblumenfeld/opt/anaconda3/envs/genai-workshop-2025-3/lib/python3.11/site-packages (from graphdatascience) (2.32.3)\r\n",
      "Requirement already satisfied: tenacity>=9.0 in /Users/zachblumenfeld/opt/anaconda3/envs/genai-workshop-2025-3/lib/python3.11/site-packages (from graphdatascience) (9.0.0)\r\n",
      "Requirement already satisfied: pytz in /Users/zachblumenfeld/opt/anaconda3/envs/genai-workshop-2025-3/lib/python3.11/site-packages (from neo4j) (2025.1)\r\n",
      "Requirement already satisfied: python-dotenv in /Users/zachblumenfeld/opt/anaconda3/envs/genai-workshop-2025-3/lib/python3.11/site-packages (from dotenv) (1.0.1)\r\n",
      "Requirement already satisfied: contourpy>=1.0.1 in /Users/zachblumenfeld/opt/anaconda3/envs/genai-workshop-2025-3/lib/python3.11/site-packages (from matplotlib) (1.3.1)\r\n",
      "Requirement already satisfied: cycler>=0.10 in /Users/zachblumenfeld/opt/anaconda3/envs/genai-workshop-2025-3/lib/python3.11/site-packages (from matplotlib) (0.12.1)\r\n",
      "Requirement already satisfied: fonttools>=4.22.0 in /Users/zachblumenfeld/opt/anaconda3/envs/genai-workshop-2025-3/lib/python3.11/site-packages (from matplotlib) (4.56.0)\r\n",
      "Requirement already satisfied: kiwisolver>=1.3.1 in /Users/zachblumenfeld/opt/anaconda3/envs/genai-workshop-2025-3/lib/python3.11/site-packages (from matplotlib) (1.4.8)\r\n",
      "Requirement already satisfied: packaging>=20.0 in /Users/zachblumenfeld/opt/anaconda3/envs/genai-workshop-2025-3/lib/python3.11/site-packages (from matplotlib) (24.2)\r\n",
      "Requirement already satisfied: pillow>=8 in /Users/zachblumenfeld/opt/anaconda3/envs/genai-workshop-2025-3/lib/python3.11/site-packages (from matplotlib) (11.1.0)\r\n",
      "Requirement already satisfied: pyparsing>=2.3.1 in /Users/zachblumenfeld/opt/anaconda3/envs/genai-workshop-2025-3/lib/python3.11/site-packages (from matplotlib) (3.2.1)\r\n",
      "Requirement already satisfied: python-dateutil>=2.7 in /Users/zachblumenfeld/opt/anaconda3/envs/genai-workshop-2025-3/lib/python3.11/site-packages (from matplotlib) (2.9.0.post0)\r\n",
      "Requirement already satisfied: langchain-core<1.0.0,>=0.3.41 in /Users/zachblumenfeld/opt/anaconda3/envs/genai-workshop-2025-3/lib/python3.11/site-packages (from langchain) (0.3.43)\r\n",
      "Requirement already satisfied: langchain-text-splitters<1.0.0,>=0.3.6 in /Users/zachblumenfeld/opt/anaconda3/envs/genai-workshop-2025-3/lib/python3.11/site-packages (from langchain) (0.3.6)\r\n",
      "Requirement already satisfied: langsmith<0.4,>=0.1.17 in /Users/zachblumenfeld/opt/anaconda3/envs/genai-workshop-2025-3/lib/python3.11/site-packages (from langchain) (0.3.13)\r\n",
      "Requirement already satisfied: SQLAlchemy<3,>=1.4 in /Users/zachblumenfeld/opt/anaconda3/envs/genai-workshop-2025-3/lib/python3.11/site-packages (from langchain) (2.0.38)\r\n",
      "Requirement already satisfied: PyYAML>=5.3 in /Users/zachblumenfeld/opt/anaconda3/envs/genai-workshop-2025-3/lib/python3.11/site-packages (from langchain) (6.0.2)\r\n",
      "Requirement already satisfied: openai<2.0.0,>=1.58.1 in /Users/zachblumenfeld/opt/anaconda3/envs/genai-workshop-2025-3/lib/python3.11/site-packages (from langchain-openai) (1.65.5)\r\n",
      "Requirement already satisfied: tiktoken<1,>=0.7 in /Users/zachblumenfeld/opt/anaconda3/envs/genai-workshop-2025-3/lib/python3.11/site-packages (from langchain-openai) (0.9.0)\r\n",
      "Collecting langgraph-checkpoint<3.0.0,>=2.0.10 (from langgraph)\r\n",
      "  Downloading langgraph_checkpoint-2.0.18-py3-none-any.whl.metadata (4.6 kB)\r\n",
      "Collecting langgraph-prebuilt<0.2,>=0.1.1 (from langgraph)\r\n",
      "  Downloading langgraph_prebuilt-0.1.2-py3-none-any.whl.metadata (5.0 kB)\r\n",
      "Collecting langgraph-sdk<0.2.0,>=0.1.42 (from langgraph)\r\n",
      "  Downloading langgraph_sdk-0.1.55-py3-none-any.whl.metadata (1.8 kB)\r\n",
      "Requirement already satisfied: annotated-types>=0.6.0 in /Users/zachblumenfeld/opt/anaconda3/envs/genai-workshop-2025-3/lib/python3.11/site-packages (from pydantic) (0.7.0)\r\n",
      "Requirement already satisfied: pydantic-core==2.27.2 in /Users/zachblumenfeld/opt/anaconda3/envs/genai-workshop-2025-3/lib/python3.11/site-packages (from pydantic) (2.27.2)\r\n",
      "Requirement already satisfied: jsonpatch<2.0,>=1.33 in /Users/zachblumenfeld/opt/anaconda3/envs/genai-workshop-2025-3/lib/python3.11/site-packages (from langchain-core<1.0.0,>=0.3.41->langchain) (1.33)\r\n",
      "Collecting msgpack<2.0.0,>=1.1.0 (from langgraph-checkpoint<3.0.0,>=2.0.10->langgraph)\r\n",
      "  Using cached msgpack-1.1.0-cp311-cp311-macosx_11_0_arm64.whl.metadata (8.4 kB)\r\n",
      "Requirement already satisfied: httpx>=0.25.2 in /Users/zachblumenfeld/opt/anaconda3/envs/genai-workshop-2025-3/lib/python3.11/site-packages (from langgraph-sdk<0.2.0,>=0.1.42->langgraph) (0.27.0)\r\n",
      "Requirement already satisfied: orjson>=3.10.1 in /Users/zachblumenfeld/opt/anaconda3/envs/genai-workshop-2025-3/lib/python3.11/site-packages (from langgraph-sdk<0.2.0,>=0.1.42->langgraph) (3.10.15)\r\n",
      "Requirement already satisfied: requests-toolbelt<2.0.0,>=1.0.0 in /Users/zachblumenfeld/opt/anaconda3/envs/genai-workshop-2025-3/lib/python3.11/site-packages (from langsmith<0.4,>=0.1.17->langchain) (1.0.0)\r\n",
      "Requirement already satisfied: zstandard<0.24.0,>=0.23.0 in /Users/zachblumenfeld/opt/anaconda3/envs/genai-workshop-2025-3/lib/python3.11/site-packages (from langsmith<0.4,>=0.1.17->langchain) (0.23.0)\r\n",
      "Requirement already satisfied: anyio<5,>=3.5.0 in /Users/zachblumenfeld/opt/anaconda3/envs/genai-workshop-2025-3/lib/python3.11/site-packages (from openai<2.0.0,>=1.58.1->langchain-openai) (4.6.2)\r\n",
      "Requirement already satisfied: distro<2,>=1.7.0 in /Users/zachblumenfeld/opt/anaconda3/envs/genai-workshop-2025-3/lib/python3.11/site-packages (from openai<2.0.0,>=1.58.1->langchain-openai) (1.9.0)\r\n",
      "Requirement already satisfied: jiter<1,>=0.4.0 in /Users/zachblumenfeld/opt/anaconda3/envs/genai-workshop-2025-3/lib/python3.11/site-packages (from openai<2.0.0,>=1.58.1->langchain-openai) (0.9.0)\r\n",
      "Requirement already satisfied: sniffio in /Users/zachblumenfeld/opt/anaconda3/envs/genai-workshop-2025-3/lib/python3.11/site-packages (from openai<2.0.0,>=1.58.1->langchain-openai) (1.3.0)\r\n",
      "Requirement already satisfied: tzdata>=2022.7 in /Users/zachblumenfeld/opt/anaconda3/envs/genai-workshop-2025-3/lib/python3.11/site-packages (from pandas<3.0,>=1.0->graphdatascience) (2025.1)\r\n",
      "Requirement already satisfied: six>=1.5 in /Users/zachblumenfeld/opt/anaconda3/envs/genai-workshop-2025-3/lib/python3.11/site-packages (from python-dateutil>=2.7->matplotlib) (1.16.0)\r\n",
      "Requirement already satisfied: charset-normalizer<4,>=2 in /Users/zachblumenfeld/opt/anaconda3/envs/genai-workshop-2025-3/lib/python3.11/site-packages (from requests->graphdatascience) (3.3.2)\r\n",
      "Requirement already satisfied: idna<4,>=2.5 in /Users/zachblumenfeld/opt/anaconda3/envs/genai-workshop-2025-3/lib/python3.11/site-packages (from requests->graphdatascience) (3.7)\r\n",
      "Requirement already satisfied: urllib3<3,>=1.21.1 in /Users/zachblumenfeld/opt/anaconda3/envs/genai-workshop-2025-3/lib/python3.11/site-packages (from requests->graphdatascience) (2.3.0)\r\n",
      "Requirement already satisfied: certifi>=2017.4.17 in /Users/zachblumenfeld/opt/anaconda3/envs/genai-workshop-2025-3/lib/python3.11/site-packages (from requests->graphdatascience) (2025.1.31)\r\n",
      "Requirement already satisfied: regex>=2022.1.18 in /Users/zachblumenfeld/opt/anaconda3/envs/genai-workshop-2025-3/lib/python3.11/site-packages (from tiktoken<1,>=0.7->langchain-openai) (2024.11.6)\r\n",
      "Requirement already satisfied: httpcore==1.* in /Users/zachblumenfeld/opt/anaconda3/envs/genai-workshop-2025-3/lib/python3.11/site-packages (from httpx>=0.25.2->langgraph-sdk<0.2.0,>=0.1.42->langgraph) (1.0.2)\r\n",
      "Requirement already satisfied: h11<0.15,>=0.13 in /Users/zachblumenfeld/opt/anaconda3/envs/genai-workshop-2025-3/lib/python3.11/site-packages (from httpcore==1.*->httpx>=0.25.2->langgraph-sdk<0.2.0,>=0.1.42->langgraph) (0.14.0)\r\n",
      "Requirement already satisfied: jsonpointer>=1.9 in /Users/zachblumenfeld/opt/anaconda3/envs/genai-workshop-2025-3/lib/python3.11/site-packages (from jsonpatch<2.0,>=1.33->langchain-core<1.0.0,>=0.3.41->langchain) (3.0.0)\r\n",
      "Downloading langgraph-0.3.5-py3-none-any.whl (131 kB)\r\n",
      "Downloading langgraph_checkpoint-2.0.18-py3-none-any.whl (39 kB)\r\n",
      "Downloading langgraph_prebuilt-0.1.2-py3-none-any.whl (24 kB)\r\n",
      "Downloading langgraph_sdk-0.1.55-py3-none-any.whl (45 kB)\r\n",
      "Using cached msgpack-1.1.0-cp311-cp311-macosx_11_0_arm64.whl (81 kB)\r\n",
      "Installing collected packages: msgpack, langgraph-sdk, langgraph-checkpoint, langgraph-prebuilt, langgraph\r\n",
      "Successfully installed langgraph-0.3.5 langgraph-checkpoint-2.0.18 langgraph-prebuilt-0.1.2 langgraph-sdk-0.1.55 msgpack-1.1.0\r\n",
      "Note: you may need to restart the kernel to use updated packages.\n"
     ]
    }
   ],
   "execution_count": 46
  },
  {
   "cell_type": "markdown",
   "metadata": {
    "id": "ynPe6RLRWSKd"
   },
   "source": "## Setup"
  },
  {
   "cell_type": "markdown",
   "metadata": {
    "id": "09qvRMrxye7l"
   },
   "source": [
    "Import our usual suspects"
   ]
  },
  {
   "cell_type": "code",
   "metadata": {
    "id": "BOfc_-mllcUE",
    "ExecuteTime": {
     "end_time": "2025-03-11T04:37:22.108673Z",
     "start_time": "2025-03-11T04:37:22.103571Z"
    }
   },
   "source": [
    "import os\n",
    "import pandas as pd\n",
    "from dotenv import load_dotenv\n",
    "from graphdatascience import GraphDataScience\n",
    "from neo4j import Query, GraphDatabase, RoutingControl, Result"
   ],
   "outputs": [],
   "execution_count": 7
  },
  {
   "cell_type": "markdown",
   "metadata": {
    "id": "pa61u1jfyk3t"
   },
   "source": [
    "Load env variables"
   ]
  },
  {
   "cell_type": "code",
   "metadata": {
    "id": "CHR_0lmElZ-R",
    "ExecuteTime": {
     "end_time": "2025-03-11T04:37:22.732191Z",
     "start_time": "2025-03-11T04:37:22.728581Z"
    }
   },
   "source": [
    "load_dotenv('ws.env', override=True)\n",
    "# Neo4j\n",
    "HOST = os.getenv('NEO4J_URI')\n",
    "USERNAME = os.getenv('NEO4J_USERNAME')\n",
    "PASSWORD = os.getenv('NEO4J_PASSWORD')\n",
    "DATABASE = os.getenv('NEO4J_DATABASE', 'neo4j')\n",
    "\n",
    "# AI\n",
    "LLM = os.getenv('LLM')\n",
    "OPENAI_API_KEY = os.getenv('OPENAI_API_KEY')\n",
    "os.environ['OPENAI_API_KEY']=OPENAI_API_KEY"
   ],
   "outputs": [],
   "execution_count": 8
  },
  {
   "cell_type": "markdown",
   "metadata": {},
   "source": [
    "Connect to neo4j db"
   ]
  },
  {
   "cell_type": "code",
   "metadata": {
    "id": "5w4eCb7xZZ-S",
    "ExecuteTime": {
     "end_time": "2025-03-11T04:37:24.218255Z",
     "start_time": "2025-03-11T04:37:23.746535Z"
    }
   },
   "source": [
    "driver = GraphDatabase.driver(\n",
    "    HOST,\n",
    "    auth=(USERNAME, PASSWORD)\n",
    ")\n",
    "driver.verify_connectivity(database=DATABASE)"
   ],
   "outputs": [
    {
     "name": "stderr",
     "output_type": "stream",
     "text": [
      "/Users/zachblumenfeld/opt/anaconda3/envs/genai-workshop-2025-3/lib/python3.11/site-packages/neo4j/_sync/driver.py:1075: ExperimentalWarning: All configuration key-word arguments to verify_connectivity() are experimental. They might be changed or removed in any future version without prior notice.\n",
      "  experimental_warn(\n"
     ]
    }
   ],
   "execution_count": 9
  },
  {
   "cell_type": "markdown",
   "metadata": {
    "id": "0OMlYdxHWZLx"
   },
   "source": "## Graph Creation"
  },
  {
   "cell_type": "code",
   "metadata": {
    "id": "cAf_0sYwZZ-S",
    "ExecuteTime": {
     "end_time": "2025-03-11T04:37:24.552845Z",
     "start_time": "2025-03-11T04:37:24.550839Z"
    }
   },
   "source": [
    "## Utility - not needed for this small dataset, but as best practice example\n",
    "def split_dataframe(df, chunk_size = 50_000):\n",
    "    chunks = list()\n",
    "    num_chunks = len(df) // chunk_size + 1\n",
    "    for i in range(num_chunks):\n",
    "        chunks.append(df[i*chunk_size:(i+1)*chunk_size])\n",
    "    return chunks"
   ],
   "outputs": [],
   "execution_count": 10
  },
  {
   "cell_type": "code",
   "metadata": {
    "id": "HWJbMUtJeOcv",
    "ExecuteTime": {
     "end_time": "2025-03-11T04:37:25.329420Z",
     "start_time": "2025-03-11T04:37:25.200415Z"
    }
   },
   "source": [
    "# Load synthetic Skills dataset\n",
    "url = \"https://raw.githubusercontent.com/Kristof-Neys/Neo4j_demos/main/expanded_skills.csv\"\n",
    "skills_csv = pd.read_csv(url)\n",
    "\n",
    "# Display the first few rows of the DataFrame\n",
    "skills_csv.head(30)"
   ],
   "outputs": [
    {
     "data": {
      "text/plain": [
       "                           email                 name  \\\n",
       "0         thomas.nelson@test.org        Thomas Nelson   \n",
       "1            lucy.clark@test.org           Lucy Clark   \n",
       "2       richard.jackson@test.org      Richard Jackson   \n",
       "3           amelia.hall@test.org          Amelia Hall   \n",
       "4            david.hill@test.org           David Hill   \n",
       "5   christopher.johnson@test.org  Christopher Johnson   \n",
       "6         amelia.martin@test.org        Amelia Martin   \n",
       "7           daniel.hill@test.org          Daniel Hill   \n",
       "8           alice.white@test.org          Alice White   \n",
       "9           lucy.taylor@test.org          Lucy Taylor   \n",
       "10          lucy.turner@test.org          Lucy Turner   \n",
       "11          elena.young@test.org          Elena Young   \n",
       "12       richard.taylor@test.org       Richard Taylor   \n",
       "13      joseph.mitchell@test.org      Joseph Mitchell   \n",
       "14       sophie.jackson@test.org       Sophie Jackson   \n",
       "15         joseph.lopez@test.org         Joseph Lopez   \n",
       "16       ryan.rodriguez@test.org       Ryan Rodriguez   \n",
       "17          lucy.martin@test.org          Lucy Martin   \n",
       "18      victoria.thomas@test.org      Victoria Thomas   \n",
       "19         joshua.lopez@test.org         Joshua Lopez   \n",
       "20           alice.hill@test.org           Alice Hill   \n",
       "21           mia.nelson@test.org           Mia Nelson   \n",
       "22          david.lopez@test.org          David Lopez   \n",
       "23       isabella.jones@test.org       Isabella Jones   \n",
       "24       natalie.miller@test.org       Natalie Miller   \n",
       "25     natalie.thompson@test.org     Natalie Thompson   \n",
       "26      hannah.campbell@test.org      Hannah Campbell   \n",
       "27           brian.hill@test.org           Brian Hill   \n",
       "28         brian.carter@test.org         Brian Carter   \n",
       "29         thomas.brown@test.org         Thomas Brown   \n",
       "\n",
       "                                               skills  \n",
       "0                                Security, Pandas, Go  \n",
       "1                    WordPress, Scrum, Go, SQL, Linux  \n",
       "2          System Design, PyTorch, Express.js, DevOps  \n",
       "3                               Agile, CSS3, R, Azure  \n",
       "4                                Java, Scrum, Angular  \n",
       "5                          Tableau, Flask, API Design  \n",
       "6                    CI/CD, Kotlin, HTML5, TensorFlow  \n",
       "7     System Design, Git, Cypher, Pandas, Spring Boot  \n",
       "8                            Spark, Agile, JavaScript  \n",
       "9          Flask, Tableau, CI/CD, Rust, System Design  \n",
       "10      Express.js, Big Data, Scala, Security, Docker  \n",
       "11             Scala, TensorFlow, Blockchain, Angular  \n",
       "12         Cloud Architecture, Kotlin, Angular, Agile  \n",
       "13                 System Design, Spark, Vue.js, Ruby  \n",
       "14                   Linux, Angular, Security, Pandas  \n",
       "15                 CI/CD, Django, TypeScript, Testing  \n",
       "16                       Power BI, DevOps, JavaScript  \n",
       "17              Flask, DevOps, Machine Learning, Rust  \n",
       "18              API Design, Cloud Architecture, Swift  \n",
       "19     Pandas, Scala, Express.js, Blockchain, Jenkins  \n",
       "20        Blockchain, Cloud Architecture, Spring Boot  \n",
       "21          AWS, Swift, WordPress, Security, Big Data  \n",
       "22                           WordPress, Security, PHP  \n",
       "23     Scrum, ReactJS, TensorFlow, Cloud Architecture  \n",
       "24   Testing, Azure, Go, Machine Learning, Express.js  \n",
       "25  System Design, TypeScript, Angular, Spark, Jen...  \n",
       "26   API Design, JavaScript, DevOps, Power BI, Vue.js  \n",
       "27              Machine Learning, System Design, CSS3  \n",
       "28                    Vue.js, Git, SQL, Testing, Rust  \n",
       "29                          Docker, Java, Security, R  "
      ],
      "text/html": [
       "<div>\n",
       "<style scoped>\n",
       "    .dataframe tbody tr th:only-of-type {\n",
       "        vertical-align: middle;\n",
       "    }\n",
       "\n",
       "    .dataframe tbody tr th {\n",
       "        vertical-align: top;\n",
       "    }\n",
       "\n",
       "    .dataframe thead th {\n",
       "        text-align: right;\n",
       "    }\n",
       "</style>\n",
       "<table border=\"1\" class=\"dataframe\">\n",
       "  <thead>\n",
       "    <tr style=\"text-align: right;\">\n",
       "      <th></th>\n",
       "      <th>email</th>\n",
       "      <th>name</th>\n",
       "      <th>skills</th>\n",
       "    </tr>\n",
       "  </thead>\n",
       "  <tbody>\n",
       "    <tr>\n",
       "      <th>0</th>\n",
       "      <td>thomas.nelson@test.org</td>\n",
       "      <td>Thomas Nelson</td>\n",
       "      <td>Security, Pandas, Go</td>\n",
       "    </tr>\n",
       "    <tr>\n",
       "      <th>1</th>\n",
       "      <td>lucy.clark@test.org</td>\n",
       "      <td>Lucy Clark</td>\n",
       "      <td>WordPress, Scrum, Go, SQL, Linux</td>\n",
       "    </tr>\n",
       "    <tr>\n",
       "      <th>2</th>\n",
       "      <td>richard.jackson@test.org</td>\n",
       "      <td>Richard Jackson</td>\n",
       "      <td>System Design, PyTorch, Express.js, DevOps</td>\n",
       "    </tr>\n",
       "    <tr>\n",
       "      <th>3</th>\n",
       "      <td>amelia.hall@test.org</td>\n",
       "      <td>Amelia Hall</td>\n",
       "      <td>Agile, CSS3, R, Azure</td>\n",
       "    </tr>\n",
       "    <tr>\n",
       "      <th>4</th>\n",
       "      <td>david.hill@test.org</td>\n",
       "      <td>David Hill</td>\n",
       "      <td>Java, Scrum, Angular</td>\n",
       "    </tr>\n",
       "    <tr>\n",
       "      <th>5</th>\n",
       "      <td>christopher.johnson@test.org</td>\n",
       "      <td>Christopher Johnson</td>\n",
       "      <td>Tableau, Flask, API Design</td>\n",
       "    </tr>\n",
       "    <tr>\n",
       "      <th>6</th>\n",
       "      <td>amelia.martin@test.org</td>\n",
       "      <td>Amelia Martin</td>\n",
       "      <td>CI/CD, Kotlin, HTML5, TensorFlow</td>\n",
       "    </tr>\n",
       "    <tr>\n",
       "      <th>7</th>\n",
       "      <td>daniel.hill@test.org</td>\n",
       "      <td>Daniel Hill</td>\n",
       "      <td>System Design, Git, Cypher, Pandas, Spring Boot</td>\n",
       "    </tr>\n",
       "    <tr>\n",
       "      <th>8</th>\n",
       "      <td>alice.white@test.org</td>\n",
       "      <td>Alice White</td>\n",
       "      <td>Spark, Agile, JavaScript</td>\n",
       "    </tr>\n",
       "    <tr>\n",
       "      <th>9</th>\n",
       "      <td>lucy.taylor@test.org</td>\n",
       "      <td>Lucy Taylor</td>\n",
       "      <td>Flask, Tableau, CI/CD, Rust, System Design</td>\n",
       "    </tr>\n",
       "    <tr>\n",
       "      <th>10</th>\n",
       "      <td>lucy.turner@test.org</td>\n",
       "      <td>Lucy Turner</td>\n",
       "      <td>Express.js, Big Data, Scala, Security, Docker</td>\n",
       "    </tr>\n",
       "    <tr>\n",
       "      <th>11</th>\n",
       "      <td>elena.young@test.org</td>\n",
       "      <td>Elena Young</td>\n",
       "      <td>Scala, TensorFlow, Blockchain, Angular</td>\n",
       "    </tr>\n",
       "    <tr>\n",
       "      <th>12</th>\n",
       "      <td>richard.taylor@test.org</td>\n",
       "      <td>Richard Taylor</td>\n",
       "      <td>Cloud Architecture, Kotlin, Angular, Agile</td>\n",
       "    </tr>\n",
       "    <tr>\n",
       "      <th>13</th>\n",
       "      <td>joseph.mitchell@test.org</td>\n",
       "      <td>Joseph Mitchell</td>\n",
       "      <td>System Design, Spark, Vue.js, Ruby</td>\n",
       "    </tr>\n",
       "    <tr>\n",
       "      <th>14</th>\n",
       "      <td>sophie.jackson@test.org</td>\n",
       "      <td>Sophie Jackson</td>\n",
       "      <td>Linux, Angular, Security, Pandas</td>\n",
       "    </tr>\n",
       "    <tr>\n",
       "      <th>15</th>\n",
       "      <td>joseph.lopez@test.org</td>\n",
       "      <td>Joseph Lopez</td>\n",
       "      <td>CI/CD, Django, TypeScript, Testing</td>\n",
       "    </tr>\n",
       "    <tr>\n",
       "      <th>16</th>\n",
       "      <td>ryan.rodriguez@test.org</td>\n",
       "      <td>Ryan Rodriguez</td>\n",
       "      <td>Power BI, DevOps, JavaScript</td>\n",
       "    </tr>\n",
       "    <tr>\n",
       "      <th>17</th>\n",
       "      <td>lucy.martin@test.org</td>\n",
       "      <td>Lucy Martin</td>\n",
       "      <td>Flask, DevOps, Machine Learning, Rust</td>\n",
       "    </tr>\n",
       "    <tr>\n",
       "      <th>18</th>\n",
       "      <td>victoria.thomas@test.org</td>\n",
       "      <td>Victoria Thomas</td>\n",
       "      <td>API Design, Cloud Architecture, Swift</td>\n",
       "    </tr>\n",
       "    <tr>\n",
       "      <th>19</th>\n",
       "      <td>joshua.lopez@test.org</td>\n",
       "      <td>Joshua Lopez</td>\n",
       "      <td>Pandas, Scala, Express.js, Blockchain, Jenkins</td>\n",
       "    </tr>\n",
       "    <tr>\n",
       "      <th>20</th>\n",
       "      <td>alice.hill@test.org</td>\n",
       "      <td>Alice Hill</td>\n",
       "      <td>Blockchain, Cloud Architecture, Spring Boot</td>\n",
       "    </tr>\n",
       "    <tr>\n",
       "      <th>21</th>\n",
       "      <td>mia.nelson@test.org</td>\n",
       "      <td>Mia Nelson</td>\n",
       "      <td>AWS, Swift, WordPress, Security, Big Data</td>\n",
       "    </tr>\n",
       "    <tr>\n",
       "      <th>22</th>\n",
       "      <td>david.lopez@test.org</td>\n",
       "      <td>David Lopez</td>\n",
       "      <td>WordPress, Security, PHP</td>\n",
       "    </tr>\n",
       "    <tr>\n",
       "      <th>23</th>\n",
       "      <td>isabella.jones@test.org</td>\n",
       "      <td>Isabella Jones</td>\n",
       "      <td>Scrum, ReactJS, TensorFlow, Cloud Architecture</td>\n",
       "    </tr>\n",
       "    <tr>\n",
       "      <th>24</th>\n",
       "      <td>natalie.miller@test.org</td>\n",
       "      <td>Natalie Miller</td>\n",
       "      <td>Testing, Azure, Go, Machine Learning, Express.js</td>\n",
       "    </tr>\n",
       "    <tr>\n",
       "      <th>25</th>\n",
       "      <td>natalie.thompson@test.org</td>\n",
       "      <td>Natalie Thompson</td>\n",
       "      <td>System Design, TypeScript, Angular, Spark, Jen...</td>\n",
       "    </tr>\n",
       "    <tr>\n",
       "      <th>26</th>\n",
       "      <td>hannah.campbell@test.org</td>\n",
       "      <td>Hannah Campbell</td>\n",
       "      <td>API Design, JavaScript, DevOps, Power BI, Vue.js</td>\n",
       "    </tr>\n",
       "    <tr>\n",
       "      <th>27</th>\n",
       "      <td>brian.hill@test.org</td>\n",
       "      <td>Brian Hill</td>\n",
       "      <td>Machine Learning, System Design, CSS3</td>\n",
       "    </tr>\n",
       "    <tr>\n",
       "      <th>28</th>\n",
       "      <td>brian.carter@test.org</td>\n",
       "      <td>Brian Carter</td>\n",
       "      <td>Vue.js, Git, SQL, Testing, Rust</td>\n",
       "    </tr>\n",
       "    <tr>\n",
       "      <th>29</th>\n",
       "      <td>thomas.brown@test.org</td>\n",
       "      <td>Thomas Brown</td>\n",
       "      <td>Docker, Java, Security, R</td>\n",
       "    </tr>\n",
       "  </tbody>\n",
       "</table>\n",
       "</div>"
      ]
     },
     "execution_count": 11,
     "metadata": {},
     "output_type": "execute_result"
    }
   ],
   "execution_count": 11
  },
  {
   "cell_type": "code",
   "metadata": {
    "id": "7tdxbTD_ZZ-T",
    "ExecuteTime": {
     "end_time": "2025-03-11T04:37:25.739980Z",
     "start_time": "2025-03-11T04:37:25.735442Z"
    }
   },
   "source": [
    "# Convert skills column from comma separated string to List\n",
    "skills_csv['skills'] = skills_csv['skills'].str.split(', ')\n",
    "skills_csv.head()"
   ],
   "outputs": [
    {
     "data": {
      "text/plain": [
       "                      email             name  \\\n",
       "0    thomas.nelson@test.org    Thomas Nelson   \n",
       "1       lucy.clark@test.org       Lucy Clark   \n",
       "2  richard.jackson@test.org  Richard Jackson   \n",
       "3      amelia.hall@test.org      Amelia Hall   \n",
       "4       david.hill@test.org       David Hill   \n",
       "\n",
       "                                         skills  \n",
       "0                        [Security, Pandas, Go]  \n",
       "1            [WordPress, Scrum, Go, SQL, Linux]  \n",
       "2  [System Design, PyTorch, Express.js, DevOps]  \n",
       "3                       [Agile, CSS3, R, Azure]  \n",
       "4                        [Java, Scrum, Angular]  "
      ],
      "text/html": [
       "<div>\n",
       "<style scoped>\n",
       "    .dataframe tbody tr th:only-of-type {\n",
       "        vertical-align: middle;\n",
       "    }\n",
       "\n",
       "    .dataframe tbody tr th {\n",
       "        vertical-align: top;\n",
       "    }\n",
       "\n",
       "    .dataframe thead th {\n",
       "        text-align: right;\n",
       "    }\n",
       "</style>\n",
       "<table border=\"1\" class=\"dataframe\">\n",
       "  <thead>\n",
       "    <tr style=\"text-align: right;\">\n",
       "      <th></th>\n",
       "      <th>email</th>\n",
       "      <th>name</th>\n",
       "      <th>skills</th>\n",
       "    </tr>\n",
       "  </thead>\n",
       "  <tbody>\n",
       "    <tr>\n",
       "      <th>0</th>\n",
       "      <td>thomas.nelson@test.org</td>\n",
       "      <td>Thomas Nelson</td>\n",
       "      <td>[Security, Pandas, Go]</td>\n",
       "    </tr>\n",
       "    <tr>\n",
       "      <th>1</th>\n",
       "      <td>lucy.clark@test.org</td>\n",
       "      <td>Lucy Clark</td>\n",
       "      <td>[WordPress, Scrum, Go, SQL, Linux]</td>\n",
       "    </tr>\n",
       "    <tr>\n",
       "      <th>2</th>\n",
       "      <td>richard.jackson@test.org</td>\n",
       "      <td>Richard Jackson</td>\n",
       "      <td>[System Design, PyTorch, Express.js, DevOps]</td>\n",
       "    </tr>\n",
       "    <tr>\n",
       "      <th>3</th>\n",
       "      <td>amelia.hall@test.org</td>\n",
       "      <td>Amelia Hall</td>\n",
       "      <td>[Agile, CSS3, R, Azure]</td>\n",
       "    </tr>\n",
       "    <tr>\n",
       "      <th>4</th>\n",
       "      <td>david.hill@test.org</td>\n",
       "      <td>David Hill</td>\n",
       "      <td>[Java, Scrum, Angular]</td>\n",
       "    </tr>\n",
       "  </tbody>\n",
       "</table>\n",
       "</div>"
      ]
     },
     "execution_count": 12,
     "metadata": {},
     "output_type": "execute_result"
    }
   ],
   "execution_count": 12
  },
  {
   "cell_type": "markdown",
   "metadata": {
    "id": "k5QJiOUfZZ-T"
   },
   "source": [
    "### Schema"
   ]
  },
  {
   "cell_type": "code",
   "metadata": {
    "id": "cdTfdAyV2ZaR",
    "ExecuteTime": {
     "end_time": "2025-03-11T04:37:27.347312Z",
     "start_time": "2025-03-11T04:37:26.748028Z"
    }
   },
   "source": [
    "schema_statements = [\n",
    "    'create constraint if not exists for (n:Person) require (n.email) is node key',\n",
    "    'create constraint if not exists for (n:Skill) require (n.name) is node key',\n",
    "]\n",
    "for statement in schema_statements:\n",
    "    driver.execute_query(\n",
    "        statement,\n",
    "        database_=DATABASE,\n",
    "        routing_=RoutingControl.WRITE\n",
    "    )\n",
    "\n",
    "# Fetch all constraints\n",
    "schema_result_df  = driver.execute_query(\n",
    "    'show constraints',\n",
    "    database_=DATABASE,\n",
    "    routing_=RoutingControl.READ,\n",
    "    result_transformer_= lambda r: r.to_df()\n",
    ")\n",
    "schema_result_df.head(100)\n"
   ],
   "outputs": [
    {
     "data": {
      "text/plain": [
       "   id                 name      type entityType labelsOrTypes properties  \\\n",
       "0   5  constraint_63bf11a1  NODE_KEY       NODE       [Skill]     [name]   \n",
       "1   3  constraint_d3bfd313  NODE_KEY       NODE      [Person]    [email]   \n",
       "\n",
       "            ownedIndex propertyType  \n",
       "0  constraint_63bf11a1         None  \n",
       "1  constraint_d3bfd313         None  "
      ],
      "text/html": [
       "<div>\n",
       "<style scoped>\n",
       "    .dataframe tbody tr th:only-of-type {\n",
       "        vertical-align: middle;\n",
       "    }\n",
       "\n",
       "    .dataframe tbody tr th {\n",
       "        vertical-align: top;\n",
       "    }\n",
       "\n",
       "    .dataframe thead th {\n",
       "        text-align: right;\n",
       "    }\n",
       "</style>\n",
       "<table border=\"1\" class=\"dataframe\">\n",
       "  <thead>\n",
       "    <tr style=\"text-align: right;\">\n",
       "      <th></th>\n",
       "      <th>id</th>\n",
       "      <th>name</th>\n",
       "      <th>type</th>\n",
       "      <th>entityType</th>\n",
       "      <th>labelsOrTypes</th>\n",
       "      <th>properties</th>\n",
       "      <th>ownedIndex</th>\n",
       "      <th>propertyType</th>\n",
       "    </tr>\n",
       "  </thead>\n",
       "  <tbody>\n",
       "    <tr>\n",
       "      <th>0</th>\n",
       "      <td>5</td>\n",
       "      <td>constraint_63bf11a1</td>\n",
       "      <td>NODE_KEY</td>\n",
       "      <td>NODE</td>\n",
       "      <td>[Skill]</td>\n",
       "      <td>[name]</td>\n",
       "      <td>constraint_63bf11a1</td>\n",
       "      <td>None</td>\n",
       "    </tr>\n",
       "    <tr>\n",
       "      <th>1</th>\n",
       "      <td>3</td>\n",
       "      <td>constraint_d3bfd313</td>\n",
       "      <td>NODE_KEY</td>\n",
       "      <td>NODE</td>\n",
       "      <td>[Person]</td>\n",
       "      <td>[email]</td>\n",
       "      <td>constraint_d3bfd313</td>\n",
       "      <td>None</td>\n",
       "    </tr>\n",
       "  </tbody>\n",
       "</table>\n",
       "</div>"
      ]
     },
     "execution_count": 13,
     "metadata": {},
     "output_type": "execute_result"
    }
   ],
   "execution_count": 13
  },
  {
   "cell_type": "code",
   "metadata": {
    "id": "uduojIopm0qV",
    "ExecuteTime": {
     "end_time": "2025-03-11T04:37:28.001055Z",
     "start_time": "2025-03-11T04:37:27.361409Z"
    }
   },
   "source": [
    "# Create a graph for (:Person)-[:KNOWS]->(:Skill)\n",
    "for chunk in split_dataframe(skills_csv):\n",
    "    records, summary, keys = driver.execute_query(\n",
    "        '''\n",
    "            unwind $rows as row\n",
    "            merge (p:Person{email:row.email})\n",
    "            set p.name = row.name\n",
    "            with p, row\n",
    "            foreach(skill in row.skills | merge (s:Skill{name:skill}) merge (p)-[:KNOWS]->(s) )\n",
    "            return count(*) as rows_processed\n",
    "        ''',\n",
    "        database_=DATABASE,\n",
    "        routing_=RoutingControl.WRITE,\n",
    "        rows = chunk.to_dict('records')\n",
    "    )"
   ],
   "outputs": [],
   "execution_count": 14
  },
  {
   "cell_type": "markdown",
   "metadata": {
    "id": "rZo7Gln2jJcF"
   },
   "source": "## Basic navigation of graph with cypher"
  },
  {
   "cell_type": "code",
   "metadata": {
    "id": "70-xbOfgjQsY",
    "ExecuteTime": {
     "end_time": "2025-03-11T04:37:28.191581Z",
     "start_time": "2025-03-11T04:37:28.035622Z"
    }
   },
   "source": [
    "# What persons are in the database?\n",
    "driver.execute_query(\n",
    "    '''\n",
    "    match (p:Person)\n",
    "    return p.name as person_name\n",
    "    ''',\n",
    "    database_=DATABASE,\n",
    "    routing_=RoutingControl.READ,\n",
    "    result_transformer_= lambda r: r.to_df()\n",
    ").head()"
   ],
   "outputs": [
    {
     "data": {
      "text/plain": [
       "       person_name\n",
       "0    Thomas Nelson\n",
       "1       Lucy Clark\n",
       "2  Richard Jackson\n",
       "3      Amelia Hall\n",
       "4       David Hill"
      ],
      "text/html": [
       "<div>\n",
       "<style scoped>\n",
       "    .dataframe tbody tr th:only-of-type {\n",
       "        vertical-align: middle;\n",
       "    }\n",
       "\n",
       "    .dataframe tbody tr th {\n",
       "        vertical-align: top;\n",
       "    }\n",
       "\n",
       "    .dataframe thead th {\n",
       "        text-align: right;\n",
       "    }\n",
       "</style>\n",
       "<table border=\"1\" class=\"dataframe\">\n",
       "  <thead>\n",
       "    <tr style=\"text-align: right;\">\n",
       "      <th></th>\n",
       "      <th>person_name</th>\n",
       "    </tr>\n",
       "  </thead>\n",
       "  <tbody>\n",
       "    <tr>\n",
       "      <th>0</th>\n",
       "      <td>Thomas Nelson</td>\n",
       "    </tr>\n",
       "    <tr>\n",
       "      <th>1</th>\n",
       "      <td>Lucy Clark</td>\n",
       "    </tr>\n",
       "    <tr>\n",
       "      <th>2</th>\n",
       "      <td>Richard Jackson</td>\n",
       "    </tr>\n",
       "    <tr>\n",
       "      <th>3</th>\n",
       "      <td>Amelia Hall</td>\n",
       "    </tr>\n",
       "    <tr>\n",
       "      <th>4</th>\n",
       "      <td>David Hill</td>\n",
       "    </tr>\n",
       "  </tbody>\n",
       "</table>\n",
       "</div>"
      ]
     },
     "execution_count": 15,
     "metadata": {},
     "output_type": "execute_result"
    }
   ],
   "execution_count": 15
  },
  {
   "cell_type": "code",
   "metadata": {
    "id": "volCOjn_jjm3",
    "ExecuteTime": {
     "end_time": "2025-03-11T04:37:28.707631Z",
     "start_time": "2025-03-11T04:37:28.517183Z"
    }
   },
   "source": [
    "# What skills does each person know?\n",
    "driver.execute_query(\n",
    "    '''\n",
    "    match (p:Person)-[:KNOWS]->(s:Skill)\n",
    "    return p.email as email, p.name as person_name,collect(s.name) as skills\n",
    "    ''',\n",
    "    database_=DATABASE,\n",
    "    routing_=RoutingControl.READ,\n",
    "    result_transformer_= lambda r: r.to_df()\n",
    ").head()"
   ],
   "outputs": [
    {
     "data": {
      "text/plain": [
       "                          email          person_name  \\\n",
       "0  christopher.johnson@test.org  Christopher Johnson   \n",
       "1      victoria.thomas@test.org      Victoria Thomas   \n",
       "2      hannah.campbell@test.org      Hannah Campbell   \n",
       "3        brian.jackson@test.org        Brian Jackson   \n",
       "4          john.walker@test.org          John Walker   \n",
       "\n",
       "                                              skills  \n",
       "0                       [API Design, Flask, Tableau]  \n",
       "1            [API Design, Cloud Architecture, Swift]  \n",
       "2  [API Design, DevOps, JavaScript, Power BI, Vue...  \n",
       "3  [API Design, Cloud Architecture, Jenkins, Proj...  \n",
       "4                       [API Design, Django, Python]  "
      ],
      "text/html": [
       "<div>\n",
       "<style scoped>\n",
       "    .dataframe tbody tr th:only-of-type {\n",
       "        vertical-align: middle;\n",
       "    }\n",
       "\n",
       "    .dataframe tbody tr th {\n",
       "        vertical-align: top;\n",
       "    }\n",
       "\n",
       "    .dataframe thead th {\n",
       "        text-align: right;\n",
       "    }\n",
       "</style>\n",
       "<table border=\"1\" class=\"dataframe\">\n",
       "  <thead>\n",
       "    <tr style=\"text-align: right;\">\n",
       "      <th></th>\n",
       "      <th>email</th>\n",
       "      <th>person_name</th>\n",
       "      <th>skills</th>\n",
       "    </tr>\n",
       "  </thead>\n",
       "  <tbody>\n",
       "    <tr>\n",
       "      <th>0</th>\n",
       "      <td>christopher.johnson@test.org</td>\n",
       "      <td>Christopher Johnson</td>\n",
       "      <td>[API Design, Flask, Tableau]</td>\n",
       "    </tr>\n",
       "    <tr>\n",
       "      <th>1</th>\n",
       "      <td>victoria.thomas@test.org</td>\n",
       "      <td>Victoria Thomas</td>\n",
       "      <td>[API Design, Cloud Architecture, Swift]</td>\n",
       "    </tr>\n",
       "    <tr>\n",
       "      <th>2</th>\n",
       "      <td>hannah.campbell@test.org</td>\n",
       "      <td>Hannah Campbell</td>\n",
       "      <td>[API Design, DevOps, JavaScript, Power BI, Vue...</td>\n",
       "    </tr>\n",
       "    <tr>\n",
       "      <th>3</th>\n",
       "      <td>brian.jackson@test.org</td>\n",
       "      <td>Brian Jackson</td>\n",
       "      <td>[API Design, Cloud Architecture, Jenkins, Proj...</td>\n",
       "    </tr>\n",
       "    <tr>\n",
       "      <th>4</th>\n",
       "      <td>john.walker@test.org</td>\n",
       "      <td>John Walker</td>\n",
       "      <td>[API Design, Django, Python]</td>\n",
       "    </tr>\n",
       "  </tbody>\n",
       "</table>\n",
       "</div>"
      ]
     },
     "execution_count": 16,
     "metadata": {},
     "output_type": "execute_result"
    }
   ],
   "execution_count": 16
  },
  {
   "cell_type": "code",
   "metadata": {
    "id": "2yddechtj2MB",
    "ExecuteTime": {
     "end_time": "2025-03-11T04:37:29.177664Z",
     "start_time": "2025-03-11T04:37:28.984835Z"
    }
   },
   "source": [
    "# What are the most frequent skills?\n",
    "driver.execute_query(\n",
    "    '''\n",
    "    match (p:Person)-[:KNOWS]->(s:Skill)\n",
    "    return s.name, count(distinct p) as knownByCount order by knownByCount desc limit 10\n",
    "    ''',\n",
    "    database_=DATABASE,\n",
    "    routing_=RoutingControl.READ,\n",
    "    result_transformer_= lambda r: r.to_df()\n",
    ").head()"
   ],
   "outputs": [
    {
     "data": {
      "text/plain": [
       "          s.name  knownByCount\n",
       "0  System Design            14\n",
       "1          Agile            13\n",
       "2       Security            13\n",
       "3        Angular            13\n",
       "4     Blockchain            11"
      ],
      "text/html": [
       "<div>\n",
       "<style scoped>\n",
       "    .dataframe tbody tr th:only-of-type {\n",
       "        vertical-align: middle;\n",
       "    }\n",
       "\n",
       "    .dataframe tbody tr th {\n",
       "        vertical-align: top;\n",
       "    }\n",
       "\n",
       "    .dataframe thead th {\n",
       "        text-align: right;\n",
       "    }\n",
       "</style>\n",
       "<table border=\"1\" class=\"dataframe\">\n",
       "  <thead>\n",
       "    <tr style=\"text-align: right;\">\n",
       "      <th></th>\n",
       "      <th>s.name</th>\n",
       "      <th>knownByCount</th>\n",
       "    </tr>\n",
       "  </thead>\n",
       "  <tbody>\n",
       "    <tr>\n",
       "      <th>0</th>\n",
       "      <td>System Design</td>\n",
       "      <td>14</td>\n",
       "    </tr>\n",
       "    <tr>\n",
       "      <th>1</th>\n",
       "      <td>Agile</td>\n",
       "      <td>13</td>\n",
       "    </tr>\n",
       "    <tr>\n",
       "      <th>2</th>\n",
       "      <td>Security</td>\n",
       "      <td>13</td>\n",
       "    </tr>\n",
       "    <tr>\n",
       "      <th>3</th>\n",
       "      <td>Angular</td>\n",
       "      <td>13</td>\n",
       "    </tr>\n",
       "    <tr>\n",
       "      <th>4</th>\n",
       "      <td>Blockchain</td>\n",
       "      <td>11</td>\n",
       "    </tr>\n",
       "  </tbody>\n",
       "</table>\n",
       "</div>"
      ]
     },
     "execution_count": 17,
     "metadata": {},
     "output_type": "execute_result"
    }
   ],
   "execution_count": 17
  },
  {
   "metadata": {
    "ExecuteTime": {
     "end_time": "2025-03-11T04:37:29.689084Z",
     "start_time": "2025-03-11T04:37:29.482088Z"
    }
   },
   "cell_type": "code",
   "source": [
    "# Which people share the most skills?\n",
    "driver.execute_query(\n",
    "    '''\n",
    "    match (p1:Person)-[:KNOWS]->(s:Skill)<-[:KNOWS]-(p2)\n",
    "    where p1 < p2\n",
    "    return p1.name as name1, p2.name as name2, collect(s.name) as skills, count(s) AS skillsCount\n",
    "    order by skillsCount desc limit 10\n",
    "    ''',\n",
    "    database_=DATABASE,\n",
    "    routing_=RoutingControl.READ,\n",
    "    result_transformer_= lambda r: r.to_df()\n",
    ").head()"
   ],
   "outputs": [
    {
     "data": {
      "text/plain": [
       "             name1                name2                                skills  \\\n",
       "0  Isabella Martin     Matthew Mitchell                [Blockchain, HTML5, R]   \n",
       "1     Joseph Lopez  Christopher Jackson        [Django, Linux, System Design]   \n",
       "2    Joseph Martin          Kevin Young               [Agile, Linux, ReactJS]   \n",
       "3    Matthew Scott      David Rodriguez                [Azure, Cypher, Scrum]   \n",
       "4      Daniel Hill          Daniel Hall  [Cypher, Spring Boot, System Design]   \n",
       "\n",
       "   skillsCount  \n",
       "0            3  \n",
       "1            3  \n",
       "2            3  \n",
       "3            3  \n",
       "4            3  "
      ],
      "text/html": [
       "<div>\n",
       "<style scoped>\n",
       "    .dataframe tbody tr th:only-of-type {\n",
       "        vertical-align: middle;\n",
       "    }\n",
       "\n",
       "    .dataframe tbody tr th {\n",
       "        vertical-align: top;\n",
       "    }\n",
       "\n",
       "    .dataframe thead th {\n",
       "        text-align: right;\n",
       "    }\n",
       "</style>\n",
       "<table border=\"1\" class=\"dataframe\">\n",
       "  <thead>\n",
       "    <tr style=\"text-align: right;\">\n",
       "      <th></th>\n",
       "      <th>name1</th>\n",
       "      <th>name2</th>\n",
       "      <th>skills</th>\n",
       "      <th>skillsCount</th>\n",
       "    </tr>\n",
       "  </thead>\n",
       "  <tbody>\n",
       "    <tr>\n",
       "      <th>0</th>\n",
       "      <td>Isabella Martin</td>\n",
       "      <td>Matthew Mitchell</td>\n",
       "      <td>[Blockchain, HTML5, R]</td>\n",
       "      <td>3</td>\n",
       "    </tr>\n",
       "    <tr>\n",
       "      <th>1</th>\n",
       "      <td>Joseph Lopez</td>\n",
       "      <td>Christopher Jackson</td>\n",
       "      <td>[Django, Linux, System Design]</td>\n",
       "      <td>3</td>\n",
       "    </tr>\n",
       "    <tr>\n",
       "      <th>2</th>\n",
       "      <td>Joseph Martin</td>\n",
       "      <td>Kevin Young</td>\n",
       "      <td>[Agile, Linux, ReactJS]</td>\n",
       "      <td>3</td>\n",
       "    </tr>\n",
       "    <tr>\n",
       "      <th>3</th>\n",
       "      <td>Matthew Scott</td>\n",
       "      <td>David Rodriguez</td>\n",
       "      <td>[Azure, Cypher, Scrum]</td>\n",
       "      <td>3</td>\n",
       "    </tr>\n",
       "    <tr>\n",
       "      <th>4</th>\n",
       "      <td>Daniel Hill</td>\n",
       "      <td>Daniel Hall</td>\n",
       "      <td>[Cypher, Spring Boot, System Design]</td>\n",
       "      <td>3</td>\n",
       "    </tr>\n",
       "  </tbody>\n",
       "</table>\n",
       "</div>"
      ]
     },
     "execution_count": 18,
     "metadata": {},
     "output_type": "execute_result"
    }
   ],
   "execution_count": 18
  },
  {
   "metadata": {
    "ExecuteTime": {
     "end_time": "2025-03-11T04:37:30.460538Z",
     "start_time": "2025-03-11T04:37:30.349827Z"
    }
   },
   "cell_type": "code",
   "source": [
    "# Which people have the most skills in common?\n",
    "driver.execute_query(\n",
    "'''\n",
    "match (p1:Person)-[:KNOWS]->(s:Skill)<-[:KNOWS]-(p2)\n",
    "where p1 < p2\n",
    "return p1.name as name1, p2.name as name2, collect(s.name) as skills, count(s) AS skillsCount\n",
    "order by skillsCount desc limit 10\n",
    "''',\n",
    "database_ = DATABASE,\n",
    "routing_ = RoutingControl.READ,\n",
    "result_transformer_ = lambda r: r.to_df()\n",
    ")"
   ],
   "outputs": [
    {
     "data": {
      "text/plain": [
       "              name1                name2  \\\n",
       "0   Isabella Martin     Matthew Mitchell   \n",
       "1      Joseph Lopez  Christopher Jackson   \n",
       "2     Joseph Martin          Kevin Young   \n",
       "3     Matthew Scott      David Rodriguez   \n",
       "4       Daniel Hill          Daniel Hall   \n",
       "5    Ryan Rodriguez      Hannah Campbell   \n",
       "6     Charles Jones          John Taylor   \n",
       "7    Brian Thompson           John Baker   \n",
       "8  Natalie Thompson           Ryan Jones   \n",
       "9      Thomas Brown         Amelia Davis   \n",
       "\n",
       "                                 skills  skillsCount  \n",
       "0                [Blockchain, HTML5, R]            3  \n",
       "1        [Django, Linux, System Design]            3  \n",
       "2               [Agile, Linux, ReactJS]            3  \n",
       "3                [Azure, Cypher, Scrum]            3  \n",
       "4  [Cypher, Spring Boot, System Design]            3  \n",
       "5        [DevOps, JavaScript, Power BI]            3  \n",
       "6                   [AWS, CSS3, Pandas]            3  \n",
       "7           [Agile, Data Analysis, PHP]            3  \n",
       "8             [Angular, Jenkins, Spark]            3  \n",
       "9              [Docker, Java, Security]            3  "
      ],
      "text/html": [
       "<div>\n",
       "<style scoped>\n",
       "    .dataframe tbody tr th:only-of-type {\n",
       "        vertical-align: middle;\n",
       "    }\n",
       "\n",
       "    .dataframe tbody tr th {\n",
       "        vertical-align: top;\n",
       "    }\n",
       "\n",
       "    .dataframe thead th {\n",
       "        text-align: right;\n",
       "    }\n",
       "</style>\n",
       "<table border=\"1\" class=\"dataframe\">\n",
       "  <thead>\n",
       "    <tr style=\"text-align: right;\">\n",
       "      <th></th>\n",
       "      <th>name1</th>\n",
       "      <th>name2</th>\n",
       "      <th>skills</th>\n",
       "      <th>skillsCount</th>\n",
       "    </tr>\n",
       "  </thead>\n",
       "  <tbody>\n",
       "    <tr>\n",
       "      <th>0</th>\n",
       "      <td>Isabella Martin</td>\n",
       "      <td>Matthew Mitchell</td>\n",
       "      <td>[Blockchain, HTML5, R]</td>\n",
       "      <td>3</td>\n",
       "    </tr>\n",
       "    <tr>\n",
       "      <th>1</th>\n",
       "      <td>Joseph Lopez</td>\n",
       "      <td>Christopher Jackson</td>\n",
       "      <td>[Django, Linux, System Design]</td>\n",
       "      <td>3</td>\n",
       "    </tr>\n",
       "    <tr>\n",
       "      <th>2</th>\n",
       "      <td>Joseph Martin</td>\n",
       "      <td>Kevin Young</td>\n",
       "      <td>[Agile, Linux, ReactJS]</td>\n",
       "      <td>3</td>\n",
       "    </tr>\n",
       "    <tr>\n",
       "      <th>3</th>\n",
       "      <td>Matthew Scott</td>\n",
       "      <td>David Rodriguez</td>\n",
       "      <td>[Azure, Cypher, Scrum]</td>\n",
       "      <td>3</td>\n",
       "    </tr>\n",
       "    <tr>\n",
       "      <th>4</th>\n",
       "      <td>Daniel Hill</td>\n",
       "      <td>Daniel Hall</td>\n",
       "      <td>[Cypher, Spring Boot, System Design]</td>\n",
       "      <td>3</td>\n",
       "    </tr>\n",
       "    <tr>\n",
       "      <th>5</th>\n",
       "      <td>Ryan Rodriguez</td>\n",
       "      <td>Hannah Campbell</td>\n",
       "      <td>[DevOps, JavaScript, Power BI]</td>\n",
       "      <td>3</td>\n",
       "    </tr>\n",
       "    <tr>\n",
       "      <th>6</th>\n",
       "      <td>Charles Jones</td>\n",
       "      <td>John Taylor</td>\n",
       "      <td>[AWS, CSS3, Pandas]</td>\n",
       "      <td>3</td>\n",
       "    </tr>\n",
       "    <tr>\n",
       "      <th>7</th>\n",
       "      <td>Brian Thompson</td>\n",
       "      <td>John Baker</td>\n",
       "      <td>[Agile, Data Analysis, PHP]</td>\n",
       "      <td>3</td>\n",
       "    </tr>\n",
       "    <tr>\n",
       "      <th>8</th>\n",
       "      <td>Natalie Thompson</td>\n",
       "      <td>Ryan Jones</td>\n",
       "      <td>[Angular, Jenkins, Spark]</td>\n",
       "      <td>3</td>\n",
       "    </tr>\n",
       "    <tr>\n",
       "      <th>9</th>\n",
       "      <td>Thomas Brown</td>\n",
       "      <td>Amelia Davis</td>\n",
       "      <td>[Docker, Java, Security]</td>\n",
       "      <td>3</td>\n",
       "    </tr>\n",
       "  </tbody>\n",
       "</table>\n",
       "</div>"
      ]
     },
     "execution_count": 19,
     "metadata": {},
     "output_type": "execute_result"
    }
   ],
   "execution_count": 19
  },
  {
   "metadata": {
    "ExecuteTime": {
     "end_time": "2025-03-11T04:37:31.530961Z",
     "start_time": "2025-03-11T04:37:31.197767Z"
    }
   },
   "cell_type": "code",
   "source": [
    "# Which people have the most skills overlap?\n",
    "driver.execute_query(\n",
    "    '''\n",
    "    match (p1:Person)-[:KNOWS]->(s:Skill)<-[:KNOWS]-(p2)\n",
    "    where p1 < p2\n",
    "    with p1.name as name1, p2.name as name2, \n",
    "        count{(p1)-[:KNOWS]->()} as p1Skills,\n",
    "        count{(p2)-[:KNOWS]->()} as p2Skills,\n",
    "        collect(s.name) as sharedSkillsList,\n",
    "        toFloat(count(s)) AS sharedSkills\n",
    "    RETURN name1, \n",
    "        name2, \n",
    "        CASE WHEN p1Skills > p2Skills \n",
    "            THEN sharedSkills/p1Skills\n",
    "            ELSE sharedSkills/p2Skills\n",
    "            END AS skillsOverlap,\n",
    "        sharedSkillsList\n",
    "    order by skillsOverlap desc limit 5\n",
    "    ''',\n",
    "    database_ = DATABASE,\n",
    "    routing_ = RoutingControl.READ,\n",
    "    result_transformer_ = lambda r: r.to_df()\n",
    ")"
   ],
   "outputs": [
    {
     "data": {
      "text/plain": [
       "           name1            name2  skillsOverlap         sharedSkillsList\n",
       "0  Matthew Scott  David Rodriguez       0.750000   [Azure, Cypher, Scrum]\n",
       "1    Alice White   Charles Carter       0.666667      [JavaScript, Spark]\n",
       "2     David Hill     Sophie Perez       0.666667         [Angular, Scrum]\n",
       "3  Charles Jones      John Taylor       0.600000      [AWS, CSS3, Pandas]\n",
       "4  Joseph Martin      Kevin Young       0.600000  [Agile, Linux, ReactJS]"
      ],
      "text/html": [
       "<div>\n",
       "<style scoped>\n",
       "    .dataframe tbody tr th:only-of-type {\n",
       "        vertical-align: middle;\n",
       "    }\n",
       "\n",
       "    .dataframe tbody tr th {\n",
       "        vertical-align: top;\n",
       "    }\n",
       "\n",
       "    .dataframe thead th {\n",
       "        text-align: right;\n",
       "    }\n",
       "</style>\n",
       "<table border=\"1\" class=\"dataframe\">\n",
       "  <thead>\n",
       "    <tr style=\"text-align: right;\">\n",
       "      <th></th>\n",
       "      <th>name1</th>\n",
       "      <th>name2</th>\n",
       "      <th>skillsOverlap</th>\n",
       "      <th>sharedSkillsList</th>\n",
       "    </tr>\n",
       "  </thead>\n",
       "  <tbody>\n",
       "    <tr>\n",
       "      <th>0</th>\n",
       "      <td>Matthew Scott</td>\n",
       "      <td>David Rodriguez</td>\n",
       "      <td>0.750000</td>\n",
       "      <td>[Azure, Cypher, Scrum]</td>\n",
       "    </tr>\n",
       "    <tr>\n",
       "      <th>1</th>\n",
       "      <td>Alice White</td>\n",
       "      <td>Charles Carter</td>\n",
       "      <td>0.666667</td>\n",
       "      <td>[JavaScript, Spark]</td>\n",
       "    </tr>\n",
       "    <tr>\n",
       "      <th>2</th>\n",
       "      <td>David Hill</td>\n",
       "      <td>Sophie Perez</td>\n",
       "      <td>0.666667</td>\n",
       "      <td>[Angular, Scrum]</td>\n",
       "    </tr>\n",
       "    <tr>\n",
       "      <th>3</th>\n",
       "      <td>Charles Jones</td>\n",
       "      <td>John Taylor</td>\n",
       "      <td>0.600000</td>\n",
       "      <td>[AWS, CSS3, Pandas]</td>\n",
       "    </tr>\n",
       "    <tr>\n",
       "      <th>4</th>\n",
       "      <td>Joseph Martin</td>\n",
       "      <td>Kevin Young</td>\n",
       "      <td>0.600000</td>\n",
       "      <td>[Agile, Linux, ReactJS]</td>\n",
       "    </tr>\n",
       "  </tbody>\n",
       "</table>\n",
       "</div>"
      ]
     },
     "execution_count": 20,
     "metadata": {},
     "output_type": "execute_result"
    }
   ],
   "execution_count": 20
  },
  {
   "cell_type": "markdown",
   "metadata": {
    "id": "jU696MRBKlne"
   },
   "source": "## Basic Vector Search"
  },
  {
   "cell_type": "code",
   "metadata": {
    "id": "jsSEXph4ZZ-W",
    "ExecuteTime": {
     "end_time": "2025-03-11T04:37:35.756284Z",
     "start_time": "2025-03-11T04:37:34.311677Z"
    }
   },
   "source": [
    "# Import langchain open ai\n",
    "from langchain_openai import OpenAIEmbeddings\n",
    "\n",
    "embeddings = OpenAIEmbeddings(model='text-embedding-ada-002')\n"
   ],
   "outputs": [],
   "execution_count": 21
  },
  {
   "cell_type": "code",
   "metadata": {
    "id": "mZC3AKS9ZZ-W",
    "ExecuteTime": {
     "end_time": "2025-03-11T04:37:36.111616Z",
     "start_time": "2025-03-11T04:37:35.757542Z"
    }
   },
   "source": [
    "skills_df = driver.execute_query(\n",
    "    'match (s:Skill) return s.name as skill',\n",
    "    result_transformer_ = lambda r: r.to_df()\n",
    ")\n",
    "skills_df.head(35)"
   ],
   "outputs": [
    {
     "data": {
      "text/plain": [
       "                 skill\n",
       "0           API Design\n",
       "1                  AWS\n",
       "2                Agile\n",
       "3              Angular\n",
       "4                Azure\n",
       "5             Big Data\n",
       "6           Blockchain\n",
       "7                  C++\n",
       "8                CI/CD\n",
       "9                 CSS3\n",
       "10  Cloud Architecture\n",
       "11              Cypher\n",
       "12       Data Analysis\n",
       "13  Data Visualization\n",
       "14              DevOps\n",
       "15              Django\n",
       "16              Docker\n",
       "17          Express.js\n",
       "18               Flask\n",
       "19                 Git\n",
       "20                  Go\n",
       "21               HTML5\n",
       "22                Java\n",
       "23          JavaScript\n",
       "24             Jenkins\n",
       "25              Kotlin\n",
       "26          Kubernetes\n",
       "27               Linux\n",
       "28    Machine Learning\n",
       "29             Node.js\n",
       "30                 PHP\n",
       "31              Pandas\n",
       "32            Power BI\n",
       "33  Project Management\n",
       "34             PyTorch"
      ],
      "text/html": [
       "<div>\n",
       "<style scoped>\n",
       "    .dataframe tbody tr th:only-of-type {\n",
       "        vertical-align: middle;\n",
       "    }\n",
       "\n",
       "    .dataframe tbody tr th {\n",
       "        vertical-align: top;\n",
       "    }\n",
       "\n",
       "    .dataframe thead th {\n",
       "        text-align: right;\n",
       "    }\n",
       "</style>\n",
       "<table border=\"1\" class=\"dataframe\">\n",
       "  <thead>\n",
       "    <tr style=\"text-align: right;\">\n",
       "      <th></th>\n",
       "      <th>skill</th>\n",
       "    </tr>\n",
       "  </thead>\n",
       "  <tbody>\n",
       "    <tr>\n",
       "      <th>0</th>\n",
       "      <td>API Design</td>\n",
       "    </tr>\n",
       "    <tr>\n",
       "      <th>1</th>\n",
       "      <td>AWS</td>\n",
       "    </tr>\n",
       "    <tr>\n",
       "      <th>2</th>\n",
       "      <td>Agile</td>\n",
       "    </tr>\n",
       "    <tr>\n",
       "      <th>3</th>\n",
       "      <td>Angular</td>\n",
       "    </tr>\n",
       "    <tr>\n",
       "      <th>4</th>\n",
       "      <td>Azure</td>\n",
       "    </tr>\n",
       "    <tr>\n",
       "      <th>5</th>\n",
       "      <td>Big Data</td>\n",
       "    </tr>\n",
       "    <tr>\n",
       "      <th>6</th>\n",
       "      <td>Blockchain</td>\n",
       "    </tr>\n",
       "    <tr>\n",
       "      <th>7</th>\n",
       "      <td>C++</td>\n",
       "    </tr>\n",
       "    <tr>\n",
       "      <th>8</th>\n",
       "      <td>CI/CD</td>\n",
       "    </tr>\n",
       "    <tr>\n",
       "      <th>9</th>\n",
       "      <td>CSS3</td>\n",
       "    </tr>\n",
       "    <tr>\n",
       "      <th>10</th>\n",
       "      <td>Cloud Architecture</td>\n",
       "    </tr>\n",
       "    <tr>\n",
       "      <th>11</th>\n",
       "      <td>Cypher</td>\n",
       "    </tr>\n",
       "    <tr>\n",
       "      <th>12</th>\n",
       "      <td>Data Analysis</td>\n",
       "    </tr>\n",
       "    <tr>\n",
       "      <th>13</th>\n",
       "      <td>Data Visualization</td>\n",
       "    </tr>\n",
       "    <tr>\n",
       "      <th>14</th>\n",
       "      <td>DevOps</td>\n",
       "    </tr>\n",
       "    <tr>\n",
       "      <th>15</th>\n",
       "      <td>Django</td>\n",
       "    </tr>\n",
       "    <tr>\n",
       "      <th>16</th>\n",
       "      <td>Docker</td>\n",
       "    </tr>\n",
       "    <tr>\n",
       "      <th>17</th>\n",
       "      <td>Express.js</td>\n",
       "    </tr>\n",
       "    <tr>\n",
       "      <th>18</th>\n",
       "      <td>Flask</td>\n",
       "    </tr>\n",
       "    <tr>\n",
       "      <th>19</th>\n",
       "      <td>Git</td>\n",
       "    </tr>\n",
       "    <tr>\n",
       "      <th>20</th>\n",
       "      <td>Go</td>\n",
       "    </tr>\n",
       "    <tr>\n",
       "      <th>21</th>\n",
       "      <td>HTML5</td>\n",
       "    </tr>\n",
       "    <tr>\n",
       "      <th>22</th>\n",
       "      <td>Java</td>\n",
       "    </tr>\n",
       "    <tr>\n",
       "      <th>23</th>\n",
       "      <td>JavaScript</td>\n",
       "    </tr>\n",
       "    <tr>\n",
       "      <th>24</th>\n",
       "      <td>Jenkins</td>\n",
       "    </tr>\n",
       "    <tr>\n",
       "      <th>25</th>\n",
       "      <td>Kotlin</td>\n",
       "    </tr>\n",
       "    <tr>\n",
       "      <th>26</th>\n",
       "      <td>Kubernetes</td>\n",
       "    </tr>\n",
       "    <tr>\n",
       "      <th>27</th>\n",
       "      <td>Linux</td>\n",
       "    </tr>\n",
       "    <tr>\n",
       "      <th>28</th>\n",
       "      <td>Machine Learning</td>\n",
       "    </tr>\n",
       "    <tr>\n",
       "      <th>29</th>\n",
       "      <td>Node.js</td>\n",
       "    </tr>\n",
       "    <tr>\n",
       "      <th>30</th>\n",
       "      <td>PHP</td>\n",
       "    </tr>\n",
       "    <tr>\n",
       "      <th>31</th>\n",
       "      <td>Pandas</td>\n",
       "    </tr>\n",
       "    <tr>\n",
       "      <th>32</th>\n",
       "      <td>Power BI</td>\n",
       "    </tr>\n",
       "    <tr>\n",
       "      <th>33</th>\n",
       "      <td>Project Management</td>\n",
       "    </tr>\n",
       "    <tr>\n",
       "      <th>34</th>\n",
       "      <td>PyTorch</td>\n",
       "    </tr>\n",
       "  </tbody>\n",
       "</table>\n",
       "</div>"
      ]
     },
     "execution_count": 22,
     "metadata": {},
     "output_type": "execute_result"
    }
   ],
   "execution_count": 22
  },
  {
   "cell_type": "markdown",
   "metadata": {
    "id": "IKWEZ7oy051q"
   },
   "source": "### STOP STOP STOP - DO NOT PROCEED (YET)"
  },
  {
   "cell_type": "code",
   "metadata": {
    "id": "7QVaEcc3ZZ-W",
    "ExecuteTime": {
     "end_time": "2025-03-11T04:37:53.712084Z",
     "start_time": "2025-03-11T04:37:37.461855Z"
    }
   },
   "source": [
    "# only to be run by instructor (or if you have your own api key)\n",
    "# to-do: Don't do row-by-row, use bulk.\n",
    "\n",
    "#skills_df['embedding'] = skills_df['skill'].apply( lambda skill: embeddings.embed_documents([skill])[0])\n",
    "#skills_df.head()"
   ],
   "outputs": [
    {
     "data": {
      "text/plain": [
       "        skill                                          embedding\n",
       "0  API Design  [0.002335607074201107, -0.021444285288453102, ...\n",
       "1         AWS  [-0.004132895264774561, -0.017077714204788208,...\n",
       "2       Agile  [-0.03577807545661926, -0.01052175834774971, -...\n",
       "3     Angular  [-0.006358983926475048, 0.015042469836771488, ...\n",
       "4       Azure  [0.00941519346088171, -0.026340041309595108, 0..."
      ],
      "text/html": [
       "<div>\n",
       "<style scoped>\n",
       "    .dataframe tbody tr th:only-of-type {\n",
       "        vertical-align: middle;\n",
       "    }\n",
       "\n",
       "    .dataframe tbody tr th {\n",
       "        vertical-align: top;\n",
       "    }\n",
       "\n",
       "    .dataframe thead th {\n",
       "        text-align: right;\n",
       "    }\n",
       "</style>\n",
       "<table border=\"1\" class=\"dataframe\">\n",
       "  <thead>\n",
       "    <tr style=\"text-align: right;\">\n",
       "      <th></th>\n",
       "      <th>skill</th>\n",
       "      <th>embedding</th>\n",
       "    </tr>\n",
       "  </thead>\n",
       "  <tbody>\n",
       "    <tr>\n",
       "      <th>0</th>\n",
       "      <td>API Design</td>\n",
       "      <td>[0.002335607074201107, -0.021444285288453102, ...</td>\n",
       "    </tr>\n",
       "    <tr>\n",
       "      <th>1</th>\n",
       "      <td>AWS</td>\n",
       "      <td>[-0.004132895264774561, -0.017077714204788208,...</td>\n",
       "    </tr>\n",
       "    <tr>\n",
       "      <th>2</th>\n",
       "      <td>Agile</td>\n",
       "      <td>[-0.03577807545661926, -0.01052175834774971, -...</td>\n",
       "    </tr>\n",
       "    <tr>\n",
       "      <th>3</th>\n",
       "      <td>Angular</td>\n",
       "      <td>[-0.006358983926475048, 0.015042469836771488, ...</td>\n",
       "    </tr>\n",
       "    <tr>\n",
       "      <th>4</th>\n",
       "      <td>Azure</td>\n",
       "      <td>[0.00941519346088171, -0.026340041309595108, 0...</td>\n",
       "    </tr>\n",
       "  </tbody>\n",
       "</table>\n",
       "</div>"
      ]
     },
     "execution_count": 23,
     "metadata": {},
     "output_type": "execute_result"
    }
   ],
   "execution_count": 23
  },
  {
   "metadata": {
    "ExecuteTime": {
     "end_time": "2025-03-11T04:37:54.359143Z",
     "start_time": "2025-03-11T04:37:53.713814Z"
    }
   },
   "cell_type": "code",
   "source": [
    "# driver.execute_query(\n",
    "#     '''\n",
    "#      unwind $rows as row\n",
    "#      match (s:Skill{name: row.skill})\n",
    "#      set s.embedding = row.embedding\n",
    "#     ''',\n",
    "#     database_=DATABASE,\n",
    "#     routing_=RoutingControl.WRITE,\n",
    "#     rows =  skills_df.to_dict(orient='records')\n",
    "# )"
   ],
   "outputs": [
    {
     "data": {
      "text/plain": [
       "EagerResult(records=[], summary=<neo4j._work.summary.ResultSummary object at 0x1205fe350>, keys=[])"
      ]
     },
     "execution_count": 24,
     "metadata": {},
     "output_type": "execute_result"
    }
   ],
   "execution_count": 24
  },
  {
   "cell_type": "code",
   "metadata": {
    "ExecuteTime": {
     "end_time": "2025-03-11T04:37:54.963432Z",
     "start_time": "2025-03-11T04:37:54.359958Z"
    }
   },
   "source": [
    "# Todo: Kristof, can you update this so it also has embeddings from text-embedding-ada-002\n",
    "skills_df = pd.read_csv('https://raw.githubusercontent.com/Kristof-Neys/Neo4j_demos/refs/heads/main/skills_embeddings.csv')\n",
    "skills_df['Embedding'] = skills_df['Embedding'].apply( lambda x: [ float(i) for i in x.strip(\"[]\").split(\", \")] )\n",
    "skills_df.head()"
   ],
   "outputs": [
    {
     "data": {
      "text/plain": [
       "         Name                                          Embedding\n",
       "0  API Design  [0.002335607074201107, -0.021444285288453102, ...\n",
       "1         AWS  [-0.004132895264774561, -0.017077714204788208,...\n",
       "2       Agile  [-0.03577807545661926, -0.01052175834774971, -...\n",
       "3     Angular  [-0.006358983926475048, 0.015042469836771488, ...\n",
       "4       Azure  [0.00941519346088171, -0.026340041309595108, 0..."
      ],
      "text/html": [
       "<div>\n",
       "<style scoped>\n",
       "    .dataframe tbody tr th:only-of-type {\n",
       "        vertical-align: middle;\n",
       "    }\n",
       "\n",
       "    .dataframe tbody tr th {\n",
       "        vertical-align: top;\n",
       "    }\n",
       "\n",
       "    .dataframe thead th {\n",
       "        text-align: right;\n",
       "    }\n",
       "</style>\n",
       "<table border=\"1\" class=\"dataframe\">\n",
       "  <thead>\n",
       "    <tr style=\"text-align: right;\">\n",
       "      <th></th>\n",
       "      <th>Name</th>\n",
       "      <th>Embedding</th>\n",
       "    </tr>\n",
       "  </thead>\n",
       "  <tbody>\n",
       "    <tr>\n",
       "      <th>0</th>\n",
       "      <td>API Design</td>\n",
       "      <td>[0.002335607074201107, -0.021444285288453102, ...</td>\n",
       "    </tr>\n",
       "    <tr>\n",
       "      <th>1</th>\n",
       "      <td>AWS</td>\n",
       "      <td>[-0.004132895264774561, -0.017077714204788208,...</td>\n",
       "    </tr>\n",
       "    <tr>\n",
       "      <th>2</th>\n",
       "      <td>Agile</td>\n",
       "      <td>[-0.03577807545661926, -0.01052175834774971, -...</td>\n",
       "    </tr>\n",
       "    <tr>\n",
       "      <th>3</th>\n",
       "      <td>Angular</td>\n",
       "      <td>[-0.006358983926475048, 0.015042469836771488, ...</td>\n",
       "    </tr>\n",
       "    <tr>\n",
       "      <th>4</th>\n",
       "      <td>Azure</td>\n",
       "      <td>[0.00941519346088171, -0.026340041309595108, 0...</td>\n",
       "    </tr>\n",
       "  </tbody>\n",
       "</table>\n",
       "</div>"
      ]
     },
     "execution_count": 25,
     "metadata": {},
     "output_type": "execute_result"
    }
   ],
   "execution_count": 25
  },
  {
   "cell_type": "code",
   "metadata": {
    "id": "-K7yLpGtZZ-W",
    "ExecuteTime": {
     "end_time": "2025-03-11T04:37:55.251199Z",
     "start_time": "2025-03-11T04:37:54.964865Z"
    }
   },
   "source": [
    "# Add embeddings to Skill nodes in database\n",
    "driver.execute_query(\n",
    "    '''\n",
    "     unwind $rows as row\n",
    "     match (s:Skill{name: row.skill})\n",
    "     set s.embedding = row.embedding\n",
    "    ''',\n",
    "    database_=DATABASE,\n",
    "    routing_=RoutingControl.WRITE,\n",
    "    rows =  skills_df.to_dict(orient='records')\n",
    ")"
   ],
   "outputs": [
    {
     "data": {
      "text/plain": [
       "EagerResult(records=[], summary=<neo4j._work.summary.ResultSummary object at 0x121134250>, keys=[])"
      ]
     },
     "execution_count": 26,
     "metadata": {},
     "output_type": "execute_result"
    }
   ],
   "execution_count": 26
  },
  {
   "cell_type": "markdown",
   "metadata": {
    "id": "pH6V2MgzWpN_"
   },
   "source": "### Let's use the semantic meaning to find similarities\n"
  },
  {
   "metadata": {
    "ExecuteTime": {
     "end_time": "2025-03-11T04:37:56.011071Z",
     "start_time": "2025-03-11T04:37:55.252064Z"
    }
   },
   "cell_type": "code",
   "source": [
    "# create vector index on text embeddings\n",
    "driver.execute_query('''\n",
    "create vector index ada_v if not exists for (n:Skill) on (n.embedding)\n",
    "options {indexConfig: {\n",
    " `vector.dimensions`: toInteger($dimension),\n",
    " `vector.similarity_function`: 'cosine'\n",
    "}}\n",
    "''', dimension=1536)\n",
    "\n",
    "# wait for index to come online\n",
    "driver.execute_query('CALL db.awaitIndex(\"ada_v\", 300)')"
   ],
   "outputs": [
    {
     "data": {
      "text/plain": [
       "EagerResult(records=[], summary=<neo4j._work.summary.ResultSummary object at 0x12166c490>, keys=[])"
      ]
     },
     "execution_count": 27,
     "metadata": {},
     "output_type": "execute_result"
    }
   ],
   "execution_count": 27
  },
  {
   "metadata": {
    "ExecuteTime": {
     "end_time": "2025-03-11T04:37:56.455447Z",
     "start_time": "2025-03-11T04:37:56.012633Z"
    }
   },
   "cell_type": "code",
   "source": [
    "# simple vector search\n",
    "skill_search = \"frontend developer\"\n",
    "driver.execute_query(\n",
    "    '''\n",
    "    call db.index.vector.queryNodes('ada_v', 10, $query_vector) yield node, score\n",
    "    return node.name as skill, score\n",
    "    ''',\n",
    "    database_ = DATABASE,\n",
    "    routing_ = RoutingControl.READ,\n",
    "    result_transformer_ = lambda r: r.to_df(),\n",
    "    query_vector = embeddings.embed_query(skill_search)\n",
    ")"
   ],
   "outputs": [
    {
     "data": {
      "text/plain": [
       "        skill     score\n",
       "0       HTML5  0.923508\n",
       "1     ReactJS  0.919846\n",
       "2  Express.js  0.918228\n",
       "3      DevOps  0.917343\n",
       "4  JavaScript  0.916321\n",
       "5     Node.js  0.914276\n",
       "6        Java  0.908401\n",
       "7     Angular  0.907059\n",
       "8        CSS3  0.906677\n",
       "9      Django  0.905594"
      ],
      "text/html": [
       "<div>\n",
       "<style scoped>\n",
       "    .dataframe tbody tr th:only-of-type {\n",
       "        vertical-align: middle;\n",
       "    }\n",
       "\n",
       "    .dataframe tbody tr th {\n",
       "        vertical-align: top;\n",
       "    }\n",
       "\n",
       "    .dataframe thead th {\n",
       "        text-align: right;\n",
       "    }\n",
       "</style>\n",
       "<table border=\"1\" class=\"dataframe\">\n",
       "  <thead>\n",
       "    <tr style=\"text-align: right;\">\n",
       "      <th></th>\n",
       "      <th>skill</th>\n",
       "      <th>score</th>\n",
       "    </tr>\n",
       "  </thead>\n",
       "  <tbody>\n",
       "    <tr>\n",
       "      <th>0</th>\n",
       "      <td>HTML5</td>\n",
       "      <td>0.923508</td>\n",
       "    </tr>\n",
       "    <tr>\n",
       "      <th>1</th>\n",
       "      <td>ReactJS</td>\n",
       "      <td>0.919846</td>\n",
       "    </tr>\n",
       "    <tr>\n",
       "      <th>2</th>\n",
       "      <td>Express.js</td>\n",
       "      <td>0.918228</td>\n",
       "    </tr>\n",
       "    <tr>\n",
       "      <th>3</th>\n",
       "      <td>DevOps</td>\n",
       "      <td>0.917343</td>\n",
       "    </tr>\n",
       "    <tr>\n",
       "      <th>4</th>\n",
       "      <td>JavaScript</td>\n",
       "      <td>0.916321</td>\n",
       "    </tr>\n",
       "    <tr>\n",
       "      <th>5</th>\n",
       "      <td>Node.js</td>\n",
       "      <td>0.914276</td>\n",
       "    </tr>\n",
       "    <tr>\n",
       "      <th>6</th>\n",
       "      <td>Java</td>\n",
       "      <td>0.908401</td>\n",
       "    </tr>\n",
       "    <tr>\n",
       "      <th>7</th>\n",
       "      <td>Angular</td>\n",
       "      <td>0.907059</td>\n",
       "    </tr>\n",
       "    <tr>\n",
       "      <th>8</th>\n",
       "      <td>CSS3</td>\n",
       "      <td>0.906677</td>\n",
       "    </tr>\n",
       "    <tr>\n",
       "      <th>9</th>\n",
       "      <td>Django</td>\n",
       "      <td>0.905594</td>\n",
       "    </tr>\n",
       "  </tbody>\n",
       "</table>\n",
       "</div>"
      ]
     },
     "execution_count": 28,
     "metadata": {},
     "output_type": "execute_result"
    }
   ],
   "execution_count": 28
  },
  {
   "metadata": {
    "ExecuteTime": {
     "end_time": "2025-03-11T04:37:56.644135Z",
     "start_time": "2025-03-11T04:37:56.456263Z"
    }
   },
   "cell_type": "code",
   "source": [
    "# find semantically similar skills (via vector search)\n",
    "driver.execute_query(\n",
    "    '''\n",
    "    match(skill:Skill) with skill order by skill.name limit 5\n",
    "    call db.index.vector.queryNodes('ada_v', 4, skill.embedding) yield node, score\n",
    "    WHERE node.name <> skill.name\n",
    "    return skill.name as skill, score, node.name as to_skill\n",
    "    ''',\n",
    "    database_ = DATABASE,\n",
    "    routing_ = RoutingControl.READ,\n",
    "    result_transformer_ = lambda r: r.to_df()\n",
    ").head()"
   ],
   "outputs": [
    {
     "data": {
      "text/plain": [
       "        skill     score            to_skill\n",
       "0  API Design  0.915894       System Design\n",
       "1  API Design  0.901398  Project Management\n",
       "2  API Design  0.901276          Express.js\n",
       "3         AWS  0.944397               Azure\n",
       "4         AWS  0.905319           WordPress"
      ],
      "text/html": [
       "<div>\n",
       "<style scoped>\n",
       "    .dataframe tbody tr th:only-of-type {\n",
       "        vertical-align: middle;\n",
       "    }\n",
       "\n",
       "    .dataframe tbody tr th {\n",
       "        vertical-align: top;\n",
       "    }\n",
       "\n",
       "    .dataframe thead th {\n",
       "        text-align: right;\n",
       "    }\n",
       "</style>\n",
       "<table border=\"1\" class=\"dataframe\">\n",
       "  <thead>\n",
       "    <tr style=\"text-align: right;\">\n",
       "      <th></th>\n",
       "      <th>skill</th>\n",
       "      <th>score</th>\n",
       "      <th>to_skill</th>\n",
       "    </tr>\n",
       "  </thead>\n",
       "  <tbody>\n",
       "    <tr>\n",
       "      <th>0</th>\n",
       "      <td>API Design</td>\n",
       "      <td>0.915894</td>\n",
       "      <td>System Design</td>\n",
       "    </tr>\n",
       "    <tr>\n",
       "      <th>1</th>\n",
       "      <td>API Design</td>\n",
       "      <td>0.901398</td>\n",
       "      <td>Project Management</td>\n",
       "    </tr>\n",
       "    <tr>\n",
       "      <th>2</th>\n",
       "      <td>API Design</td>\n",
       "      <td>0.901276</td>\n",
       "      <td>Express.js</td>\n",
       "    </tr>\n",
       "    <tr>\n",
       "      <th>3</th>\n",
       "      <td>AWS</td>\n",
       "      <td>0.944397</td>\n",
       "      <td>Azure</td>\n",
       "    </tr>\n",
       "    <tr>\n",
       "      <th>4</th>\n",
       "      <td>AWS</td>\n",
       "      <td>0.905319</td>\n",
       "      <td>WordPress</td>\n",
       "    </tr>\n",
       "  </tbody>\n",
       "</table>\n",
       "</div>"
      ]
     },
     "execution_count": 29,
     "metadata": {},
     "output_type": "execute_result"
    }
   ],
   "execution_count": 29
  },
  {
   "metadata": {
    "ExecuteTime": {
     "end_time": "2025-03-11T04:37:56.956345Z",
     "start_time": "2025-03-11T04:37:56.645028Z"
    }
   },
   "cell_type": "code",
   "source": [
    "# persist semantic relationships for performance\n",
    "driver.execute_query(\n",
    "    '''\n",
    "    match(skill:Skill)\n",
    "    call db.index.vector.queryNodes('ada_v', 20, skill.embedding) yield node, score\n",
    "    WHERE node < skill AND score > 0.9 //choose a reasonable number based on above\n",
    "    MERGE (skill)-[s:SIMILAR_SEMANTIC]->(node)\n",
    "    SET s.score = score\n",
    "    return count(s) AS newRels\n",
    "    ''',\n",
    "    database_ = DATABASE,\n",
    "    routing_ = RoutingControl.WRITE,\n",
    "    result_transformer_ = lambda r: r.to_df()\n",
    ").head()"
   ],
   "outputs": [
    {
     "data": {
      "text/plain": [
       "   newRels\n",
       "0      308"
      ],
      "text/html": [
       "<div>\n",
       "<style scoped>\n",
       "    .dataframe tbody tr th:only-of-type {\n",
       "        vertical-align: middle;\n",
       "    }\n",
       "\n",
       "    .dataframe tbody tr th {\n",
       "        vertical-align: top;\n",
       "    }\n",
       "\n",
       "    .dataframe thead th {\n",
       "        text-align: right;\n",
       "    }\n",
       "</style>\n",
       "<table border=\"1\" class=\"dataframe\">\n",
       "  <thead>\n",
       "    <tr style=\"text-align: right;\">\n",
       "      <th></th>\n",
       "      <th>newRels</th>\n",
       "    </tr>\n",
       "  </thead>\n",
       "  <tbody>\n",
       "    <tr>\n",
       "      <th>0</th>\n",
       "      <td>308</td>\n",
       "    </tr>\n",
       "  </tbody>\n",
       "</table>\n",
       "</div>"
      ]
     },
     "execution_count": 30,
     "metadata": {},
     "output_type": "execute_result"
    }
   ],
   "execution_count": 30
  },
  {
   "cell_type": "code",
   "metadata": {
    "id": "Ld-iLMVIwlnh",
    "ExecuteTime": {
     "end_time": "2025-03-11T04:37:57.099127Z",
     "start_time": "2025-03-11T04:37:56.957033Z"
    }
   },
   "source": [
    "# Let's review persisted semantic relationships for performance\n",
    "driver.execute_query(\n",
    "    '''\n",
    "  MATCH (s:Skill)-[r:SIMILAR_SEMANTIC]-(s2)\n",
    "  WHERE s < s2\n",
    "  RETURN s.name as skill,\n",
    "         r.score as score,\n",
    "         s2.name as to_skill\n",
    "  ORDER by score desc, skill asc\n",
    "    ''',\n",
    "    database_ = DATABASE,\n",
    "    routing_ = RoutingControl.READ,\n",
    "    result_transformer_ = lambda r: r.to_df()\n",
    ").head(10)\n"
   ],
   "outputs": [
    {
     "data": {
      "text/plain": [
       "           skill     score            to_skill\n",
       "0     Express.js  0.954910             Node.js\n",
       "1           Java  0.950760          JavaScript\n",
       "2  Data Analysis  0.949448  Data Visualization\n",
       "3           CSS3  0.946060               HTML5\n",
       "4          Spark  0.945847               Swift\n",
       "5          Scrum  0.945160               Agile\n",
       "6     JavaScript  0.944565                 PHP\n",
       "7          Azure  0.944397                 AWS\n",
       "8          Scala  0.939270               Swift\n",
       "9         Docker  0.936981          Kubernetes"
      ],
      "text/html": [
       "<div>\n",
       "<style scoped>\n",
       "    .dataframe tbody tr th:only-of-type {\n",
       "        vertical-align: middle;\n",
       "    }\n",
       "\n",
       "    .dataframe tbody tr th {\n",
       "        vertical-align: top;\n",
       "    }\n",
       "\n",
       "    .dataframe thead th {\n",
       "        text-align: right;\n",
       "    }\n",
       "</style>\n",
       "<table border=\"1\" class=\"dataframe\">\n",
       "  <thead>\n",
       "    <tr style=\"text-align: right;\">\n",
       "      <th></th>\n",
       "      <th>skill</th>\n",
       "      <th>score</th>\n",
       "      <th>to_skill</th>\n",
       "    </tr>\n",
       "  </thead>\n",
       "  <tbody>\n",
       "    <tr>\n",
       "      <th>0</th>\n",
       "      <td>Express.js</td>\n",
       "      <td>0.954910</td>\n",
       "      <td>Node.js</td>\n",
       "    </tr>\n",
       "    <tr>\n",
       "      <th>1</th>\n",
       "      <td>Java</td>\n",
       "      <td>0.950760</td>\n",
       "      <td>JavaScript</td>\n",
       "    </tr>\n",
       "    <tr>\n",
       "      <th>2</th>\n",
       "      <td>Data Analysis</td>\n",
       "      <td>0.949448</td>\n",
       "      <td>Data Visualization</td>\n",
       "    </tr>\n",
       "    <tr>\n",
       "      <th>3</th>\n",
       "      <td>CSS3</td>\n",
       "      <td>0.946060</td>\n",
       "      <td>HTML5</td>\n",
       "    </tr>\n",
       "    <tr>\n",
       "      <th>4</th>\n",
       "      <td>Spark</td>\n",
       "      <td>0.945847</td>\n",
       "      <td>Swift</td>\n",
       "    </tr>\n",
       "    <tr>\n",
       "      <th>5</th>\n",
       "      <td>Scrum</td>\n",
       "      <td>0.945160</td>\n",
       "      <td>Agile</td>\n",
       "    </tr>\n",
       "    <tr>\n",
       "      <th>6</th>\n",
       "      <td>JavaScript</td>\n",
       "      <td>0.944565</td>\n",
       "      <td>PHP</td>\n",
       "    </tr>\n",
       "    <tr>\n",
       "      <th>7</th>\n",
       "      <td>Azure</td>\n",
       "      <td>0.944397</td>\n",
       "      <td>AWS</td>\n",
       "    </tr>\n",
       "    <tr>\n",
       "      <th>8</th>\n",
       "      <td>Scala</td>\n",
       "      <td>0.939270</td>\n",
       "      <td>Swift</td>\n",
       "    </tr>\n",
       "    <tr>\n",
       "      <th>9</th>\n",
       "      <td>Docker</td>\n",
       "      <td>0.936981</td>\n",
       "      <td>Kubernetes</td>\n",
       "    </tr>\n",
       "  </tbody>\n",
       "</table>\n",
       "</div>"
      ]
     },
     "execution_count": 31,
     "metadata": {},
     "output_type": "execute_result"
    }
   ],
   "execution_count": 31
  },
  {
   "cell_type": "markdown",
   "metadata": {
    "id": "HHo6ciC_u4aS"
   },
   "source": "## Let's do some \"Graph Feature Engineering\" - learn from our connected data...*"
  },
  {
   "metadata": {
    "ExecuteTime": {
     "end_time": "2025-03-11T04:37:57.329001Z",
     "start_time": "2025-03-11T04:37:57.101238Z"
    }
   },
   "cell_type": "code",
   "source": [
    "gds = GraphDataScience.from_neo4j_driver(driver=driver)\n",
    "gds.set_database(DATABASE)\n",
    "gds.version()"
   ],
   "outputs": [
    {
     "data": {
      "text/plain": [
       "'2.15.0'"
      ]
     },
     "execution_count": 32,
     "metadata": {},
     "output_type": "execute_result"
    }
   ],
   "execution_count": 32
  },
  {
   "cell_type": "code",
   "metadata": {
    "id": "sIqScNSZZbxT",
    "ExecuteTime": {
     "end_time": "2025-03-11T04:37:58.438137Z",
     "start_time": "2025-03-11T04:37:57.329878Z"
    }
   },
   "source": [
    "G, res = gds.graph.project(\n",
    "    'skill_BetW_projection',\n",
    "    ['Skill'],\n",
    "    {'SIMILAR_SEMANTIC':{'orientation': 'NATURAL'}}\n",
    ")"
   ],
   "outputs": [],
   "execution_count": 33
  },
  {
   "cell_type": "code",
   "metadata": {
    "id": "XTv0qCSgYnmJ",
    "ExecuteTime": {
     "end_time": "2025-03-11T04:38:01.772488Z",
     "start_time": "2025-03-11T04:38:00.856571Z"
    }
   },
   "source": [
    "BetWresult = gds.betweenness.write(\n",
    "    G,\n",
    "    writeProperty='betweenness'\n",
    ")\n",
    "BetWresult\n"
   ],
   "outputs": [
    {
     "data": {
      "text/plain": [
       "nodePropertiesWritten                                                    54\n",
       "writeMillis                                                              34\n",
       "centralityDistribution    {'min': 0.0, 'max': 54.42553710937499, 'p90': ...\n",
       "postProcessingMillis                                                     33\n",
       "preProcessingMillis                                                      10\n",
       "computeMillis                                                            20\n",
       "configuration             {'writeProperty': 'betweenness', 'jobId': '652...\n",
       "Name: 0, dtype: object"
      ]
     },
     "execution_count": 34,
     "metadata": {},
     "output_type": "execute_result"
    }
   ],
   "execution_count": 34
  },
  {
   "cell_type": "code",
   "metadata": {
    "id": "dnocyEKdiaUS",
    "ExecuteTime": {
     "end_time": "2025-03-11T04:38:02.417692Z",
     "start_time": "2025-03-11T04:38:01.915201Z"
    }
   },
   "source": [
    "G.drop()"
   ],
   "outputs": [
    {
     "data": {
      "text/plain": [
       "graphName                                            skill_BetW_projection\n",
       "database                                                             neo4j\n",
       "databaseLocation                                                     local\n",
       "memoryUsage                                                               \n",
       "sizeInBytes                                                             -1\n",
       "nodeCount                                                               54\n",
       "relationshipCount                                                      308\n",
       "configuration            {'relationshipProjection': {'SIMILAR_SEMANTIC'...\n",
       "density                                                           0.107617\n",
       "creationTime                           2025-03-11T04:37:58.428710898+00:00\n",
       "modificationTime                       2025-03-11T04:37:58.428710898+00:00\n",
       "schema                   {'graphProperties': {}, 'nodes': {'Skill': {}}...\n",
       "schemaWithOrientation    {'graphProperties': {}, 'nodes': {'Skill': {}}...\n",
       "Name: 0, dtype: object"
      ]
     },
     "execution_count": 35,
     "metadata": {},
     "output_type": "execute_result"
    }
   ],
   "execution_count": 35
  },
  {
   "cell_type": "code",
   "metadata": {
    "id": "JAwhe45TiaZC",
    "ExecuteTime": {
     "end_time": "2025-03-11T04:38:03.369755Z",
     "start_time": "2025-03-11T04:38:03.235719Z"
    }
   },
   "source": [
    "bridge_skill = gds.run_cypher('''\n",
    "    MATCH (s:Skill)\n",
    "    RETURN s.name as skill, s.betweenness AS betweenness\n",
    "    ORDER BY betweenness DESC\n",
    "''')\n",
    "\n",
    "bridge_skill.head(10)"
   ],
   "outputs": [
    {
     "data": {
      "text/plain": [
       "        skill  betweenness\n",
       "0       Spark    54.425433\n",
       "1        Ruby    49.402381\n",
       "2       Agile    39.450000\n",
       "3     Testing    37.916667\n",
       "4       Swift    35.271861\n",
       "5  JavaScript    33.442100\n",
       "6         SQL    29.227273\n",
       "7       Azure    27.165909\n",
       "8      Django    26.944481\n",
       "9       Linux    21.025000"
      ],
      "text/html": [
       "<div>\n",
       "<style scoped>\n",
       "    .dataframe tbody tr th:only-of-type {\n",
       "        vertical-align: middle;\n",
       "    }\n",
       "\n",
       "    .dataframe tbody tr th {\n",
       "        vertical-align: top;\n",
       "    }\n",
       "\n",
       "    .dataframe thead th {\n",
       "        text-align: right;\n",
       "    }\n",
       "</style>\n",
       "<table border=\"1\" class=\"dataframe\">\n",
       "  <thead>\n",
       "    <tr style=\"text-align: right;\">\n",
       "      <th></th>\n",
       "      <th>skill</th>\n",
       "      <th>betweenness</th>\n",
       "    </tr>\n",
       "  </thead>\n",
       "  <tbody>\n",
       "    <tr>\n",
       "      <th>0</th>\n",
       "      <td>Spark</td>\n",
       "      <td>54.425433</td>\n",
       "    </tr>\n",
       "    <tr>\n",
       "      <th>1</th>\n",
       "      <td>Ruby</td>\n",
       "      <td>49.402381</td>\n",
       "    </tr>\n",
       "    <tr>\n",
       "      <th>2</th>\n",
       "      <td>Agile</td>\n",
       "      <td>39.450000</td>\n",
       "    </tr>\n",
       "    <tr>\n",
       "      <th>3</th>\n",
       "      <td>Testing</td>\n",
       "      <td>37.916667</td>\n",
       "    </tr>\n",
       "    <tr>\n",
       "      <th>4</th>\n",
       "      <td>Swift</td>\n",
       "      <td>35.271861</td>\n",
       "    </tr>\n",
       "    <tr>\n",
       "      <th>5</th>\n",
       "      <td>JavaScript</td>\n",
       "      <td>33.442100</td>\n",
       "    </tr>\n",
       "    <tr>\n",
       "      <th>6</th>\n",
       "      <td>SQL</td>\n",
       "      <td>29.227273</td>\n",
       "    </tr>\n",
       "    <tr>\n",
       "      <th>7</th>\n",
       "      <td>Azure</td>\n",
       "      <td>27.165909</td>\n",
       "    </tr>\n",
       "    <tr>\n",
       "      <th>8</th>\n",
       "      <td>Django</td>\n",
       "      <td>26.944481</td>\n",
       "    </tr>\n",
       "    <tr>\n",
       "      <th>9</th>\n",
       "      <td>Linux</td>\n",
       "      <td>21.025000</td>\n",
       "    </tr>\n",
       "  </tbody>\n",
       "</table>\n",
       "</div>"
      ]
     },
     "execution_count": 36,
     "metadata": {},
     "output_type": "execute_result"
    }
   ],
   "execution_count": 36
  },
  {
   "cell_type": "markdown",
   "metadata": {
    "id": "lDW645yEwyWK"
   },
   "source": [
    "### Create Talent Segments\n",
    "Cluster talent pool based on shared skills"
   ]
  },
  {
   "metadata": {
    "ExecuteTime": {
     "end_time": "2025-03-11T04:38:06.340449Z",
     "start_time": "2025-03-11T04:38:05.895491Z"
    }
   },
   "cell_type": "code",
   "source": [
    "gds.graph.drop(\"co-skills\", failIfMissing=False)\n",
    "\n",
    "G, result = gds.graph.cypher.project(\n",
    "    \"\"\"\n",
    "    MATCH (p1:Person)-[:KNOWS]->(s)<-[:KNOWS]-(p2)\n",
    "    WHERE p1 < p2\n",
    "    WITH p1, p2, count(s) AS coSkillCount\n",
    "    RETURN gds.graph.project($graph_name, p1, p2, \n",
    "    {relationshipProperties: {coSkillCount: coSkillCount}},\n",
    "    {undirectedRelationshipTypes: ['*']}\n",
    "    )\n",
    "    \"\"\",                   #  Cypher query\n",
    "    database=DATABASE,      #  Target database\n",
    "    graph_name=\"co-skills\",  #  Query parameter\n",
    "    label=\"City\",          #  Query parameter\n",
    "    rel_type=\"FLY_TO\"      #  Query parameter\n",
    ")\n",
    "result"
   ],
   "outputs": [
    {
     "data": {
      "text/plain": [
       "relationshipCount                                                 2606\n",
       "graphName                                                    co-skills\n",
       "query                \\n    MATCH (p1:Person)-[:KNOWS]->(s)<-[:KNOWS...\n",
       "projectMillis                                                      135\n",
       "configuration        {'readConcurrency': 4, 'undirectedRelationship...\n",
       "nodeCount                                                           97\n",
       "dtype: object"
      ]
     },
     "execution_count": 37,
     "metadata": {},
     "output_type": "execute_result"
    }
   ],
   "execution_count": 37
  },
  {
   "metadata": {
    "ExecuteTime": {
     "end_time": "2025-03-11T04:38:07.774554Z",
     "start_time": "2025-03-11T04:38:07.531171Z"
    }
   },
   "cell_type": "code",
   "source": [
    "gds.leiden.write(G, writeProperty='segmentId',\n",
    "                 concurrency=1, \n",
    "                 randomSeed=7474,\n",
    "                 relationshipWeightProperty='coSkillCount')"
   ],
   "outputs": [
    {
     "data": {
      "text/plain": [
       "writeMillis                                                             17\n",
       "nodePropertiesWritten                                                   97\n",
       "ranLevels                                                                3\n",
       "didConverge                                                           True\n",
       "nodeCount                                                               97\n",
       "communityCount                                                           5\n",
       "communityDistribution    {'min': 14, 'p5': 14, 'max': 27, 'p999': 27, '...\n",
       "modularity                                                        0.247738\n",
       "modularities             [0.24036716202753292, 0.24192404865052528, 0.2...\n",
       "postProcessingMillis                                                     2\n",
       "preProcessingMillis                                                      0\n",
       "computeMillis                                                           92\n",
       "configuration            {'writeProperty': 'segmentId', 'randomSeed': 7...\n",
       "Name: 0, dtype: object"
      ]
     },
     "execution_count": 38,
     "metadata": {},
     "output_type": "execute_result"
    }
   ],
   "execution_count": 38
  },
  {
   "metadata": {
    "ExecuteTime": {
     "end_time": "2025-03-11T04:38:08.895046Z",
     "start_time": "2025-03-11T04:38:08.761435Z"
    }
   },
   "cell_type": "code",
   "source": "G.drop()",
   "outputs": [
    {
     "data": {
      "text/plain": [
       "graphName                                                        co-skills\n",
       "database                                                             neo4j\n",
       "databaseLocation                                                     local\n",
       "memoryUsage                                                               \n",
       "sizeInBytes                                                             -1\n",
       "nodeCount                                                               97\n",
       "relationshipCount                                                     2606\n",
       "configuration            {'readConcurrency': 4, 'undirectedRelationship...\n",
       "density                                                           0.279854\n",
       "creationTime                           2025-03-11T04:38:06.332945037+00:00\n",
       "modificationTime                       2025-03-11T04:38:06.332945037+00:00\n",
       "schema                   {'graphProperties': {}, 'nodes': {'__ALL__': {...\n",
       "schemaWithOrientation    {'graphProperties': {}, 'nodes': {'__ALL__': {...\n",
       "Name: 0, dtype: object"
      ]
     },
     "execution_count": 39,
     "metadata": {},
     "output_type": "execute_result"
    }
   ],
   "execution_count": 39
  },
  {
   "metadata": {
    "ExecuteTime": {
     "end_time": "2025-03-11T04:38:09.843625Z",
     "start_time": "2025-03-11T04:38:09.714916Z"
    }
   },
   "cell_type": "code",
   "source": [
    "gds.run_cypher('''\n",
    "    MATCH (n:Person) WHERE (n.segmentId) IS NOT NULL\n",
    "    RETURN n.segmentId AS segmentId, count(n) as size, collect(n.name) AS members\n",
    "''')"
   ],
   "outputs": [
    {
     "data": {
      "text/plain": [
       "   segmentId  size                                            members\n",
       "0          0    19  [Thomas Nelson, Lucy Turner, Sophie Jackson, M...\n",
       "1          1    14  [Lucy Clark, David Hill, Joshua Lopez, Isabell...\n",
       "2          2    27  [Richard Jackson, Daniel Hill, Lucy Taylor, Jo...\n",
       "3          4    21  [Amelia Hall, Christopher Johnson, Alice White...\n",
       "4          3    16  [Amelia Martin, Elena Young, Alice Hill, Charl..."
      ],
      "text/html": [
       "<div>\n",
       "<style scoped>\n",
       "    .dataframe tbody tr th:only-of-type {\n",
       "        vertical-align: middle;\n",
       "    }\n",
       "\n",
       "    .dataframe tbody tr th {\n",
       "        vertical-align: top;\n",
       "    }\n",
       "\n",
       "    .dataframe thead th {\n",
       "        text-align: right;\n",
       "    }\n",
       "</style>\n",
       "<table border=\"1\" class=\"dataframe\">\n",
       "  <thead>\n",
       "    <tr style=\"text-align: right;\">\n",
       "      <th></th>\n",
       "      <th>segmentId</th>\n",
       "      <th>size</th>\n",
       "      <th>members</th>\n",
       "    </tr>\n",
       "  </thead>\n",
       "  <tbody>\n",
       "    <tr>\n",
       "      <th>0</th>\n",
       "      <td>0</td>\n",
       "      <td>19</td>\n",
       "      <td>[Thomas Nelson, Lucy Turner, Sophie Jackson, M...</td>\n",
       "    </tr>\n",
       "    <tr>\n",
       "      <th>1</th>\n",
       "      <td>1</td>\n",
       "      <td>14</td>\n",
       "      <td>[Lucy Clark, David Hill, Joshua Lopez, Isabell...</td>\n",
       "    </tr>\n",
       "    <tr>\n",
       "      <th>2</th>\n",
       "      <td>2</td>\n",
       "      <td>27</td>\n",
       "      <td>[Richard Jackson, Daniel Hill, Lucy Taylor, Jo...</td>\n",
       "    </tr>\n",
       "    <tr>\n",
       "      <th>3</th>\n",
       "      <td>4</td>\n",
       "      <td>21</td>\n",
       "      <td>[Amelia Hall, Christopher Johnson, Alice White...</td>\n",
       "    </tr>\n",
       "    <tr>\n",
       "      <th>4</th>\n",
       "      <td>3</td>\n",
       "      <td>16</td>\n",
       "      <td>[Amelia Martin, Elena Young, Alice Hill, Charl...</td>\n",
       "    </tr>\n",
       "  </tbody>\n",
       "</table>\n",
       "</div>"
      ]
     },
     "execution_count": 40,
     "metadata": {},
     "output_type": "execute_result"
    }
   ],
   "execution_count": 40
  },
  {
   "metadata": {
    "ExecuteTime": {
     "end_time": "2025-03-11T04:38:13.660086Z",
     "start_time": "2025-03-11T04:38:13.507191Z"
    }
   },
   "cell_type": "code",
   "source": [
    "df = gds.run_cypher('''\n",
    "    MATCH (p:Person)-[:KNOWS]->(s) WHERE (p.segmentId) IS NOT NULL\n",
    "    RETURN p.segmentId AS segmentId, s.name as skill, count(*) as cnt\n",
    "    ORDER BY segmentId, cnt DESC\n",
    "''')\n",
    "df.head()"
   ],
   "outputs": [
    {
     "data": {
      "text/plain": [
       "   segmentId     skill  cnt\n",
       "0          0  Security   13\n",
       "1          0    Docker    7\n",
       "2          0  Big Data    4\n",
       "3          0     Scala    4\n",
       "4          0     HTML5    4"
      ],
      "text/html": [
       "<div>\n",
       "<style scoped>\n",
       "    .dataframe tbody tr th:only-of-type {\n",
       "        vertical-align: middle;\n",
       "    }\n",
       "\n",
       "    .dataframe tbody tr th {\n",
       "        vertical-align: top;\n",
       "    }\n",
       "\n",
       "    .dataframe thead th {\n",
       "        text-align: right;\n",
       "    }\n",
       "</style>\n",
       "<table border=\"1\" class=\"dataframe\">\n",
       "  <thead>\n",
       "    <tr style=\"text-align: right;\">\n",
       "      <th></th>\n",
       "      <th>segmentId</th>\n",
       "      <th>skill</th>\n",
       "      <th>cnt</th>\n",
       "    </tr>\n",
       "  </thead>\n",
       "  <tbody>\n",
       "    <tr>\n",
       "      <th>0</th>\n",
       "      <td>0</td>\n",
       "      <td>Security</td>\n",
       "      <td>13</td>\n",
       "    </tr>\n",
       "    <tr>\n",
       "      <th>1</th>\n",
       "      <td>0</td>\n",
       "      <td>Docker</td>\n",
       "      <td>7</td>\n",
       "    </tr>\n",
       "    <tr>\n",
       "      <th>2</th>\n",
       "      <td>0</td>\n",
       "      <td>Big Data</td>\n",
       "      <td>4</td>\n",
       "    </tr>\n",
       "    <tr>\n",
       "      <th>3</th>\n",
       "      <td>0</td>\n",
       "      <td>Scala</td>\n",
       "      <td>4</td>\n",
       "    </tr>\n",
       "    <tr>\n",
       "      <th>4</th>\n",
       "      <td>0</td>\n",
       "      <td>HTML5</td>\n",
       "      <td>4</td>\n",
       "    </tr>\n",
       "  </tbody>\n",
       "</table>\n",
       "</div>"
      ]
     },
     "execution_count": 41,
     "metadata": {},
     "output_type": "execute_result"
    }
   ],
   "execution_count": 41
  },
  {
   "metadata": {
    "ExecuteTime": {
     "end_time": "2025-03-11T04:40:13.037822Z",
     "start_time": "2025-03-11T04:40:12.583891Z"
    }
   },
   "cell_type": "code",
   "source": [
    "import matplotlib.pyplot as plt\n",
    "\n",
    "# Assign unique colors based on cnt ordering from the original DataFrame\n",
    "sorted_skills = df.groupby([\"skill\"])[\"cnt\"].sum().sort_values(ascending=False).index\n",
    "colors = plt.get_cmap(\"tab20\", len(sorted_skills))  # Get a colormap\n",
    "skill_color_map = {skill: colors(i) for i, skill in enumerate(sorted_skills)}\n",
    "\n",
    "# Function to group small categories into \"Other\"\n",
    "def group_small_categories(subset, threshold=5):\n",
    "    total = subset[\"cnt\"].sum()\n",
    "    subset = subset.copy()  # Avoid modifying original dataframe\n",
    "    subset[\"percentage\"] = (subset[\"cnt\"] / total) * 100\n",
    "\n",
    "    # Separate main categories and small ones\n",
    "    main_categories = subset[subset[\"percentage\"] >= threshold]\n",
    "    other_categories = subset[subset[\"percentage\"] < threshold]\n",
    "\n",
    "    if not other_categories.empty:\n",
    "        other_cnt = other_categories[\"cnt\"].sum()\n",
    "        other_row = pd.DataFrame([{\"skill\": \"Other\", \"cnt\": other_cnt, \"percentage\": (other_cnt / total) * 100}])\n",
    "        main_categories = pd.concat([main_categories, other_row], ignore_index=True)\n",
    "\n",
    "    return main_categories\n",
    "\n",
    "# Create pie charts with assigned colors\n",
    "for segment in df[\"segmentId\"].unique():\n",
    "    subset = df[df[\"segmentId\"] == segment].copy()\n",
    "    grouped_subset = group_small_categories(subset)\n",
    "\n",
    "    plt.figure(figsize=(6, 6))\n",
    "    plt.pie(\n",
    "        grouped_subset[\"cnt\"],\n",
    "        labels=grouped_subset[\"skill\"],\n",
    "        autopct=\"%1.1f%%\",\n",
    "        startangle=140,\n",
    "        colors=[skill_color_map.get(skill, \"gray\") for skill in grouped_subset[\"skill\"]],\n",
    "    )\n",
    "    plt.title(f\"Skill Distribution for Segment {segment}\")\n",
    "    plt.show()"
   ],
   "outputs": [
    {
     "data": {
      "text/plain": [
       "<Figure size 600x600 with 1 Axes>"
      ],
      "image/png": "[encoded data removed]"
     },
     "metadata": {},
     "output_type": "display_data"
    },
    {
     "data": {
      "text/plain": [
       "<Figure size 600x600 with 1 Axes>"
      ],
      "image/png": "[encoded data removed]"
     },
     "metadata": {},
     "output_type": "display_data"
    },
    {
     "data": {
      "text/plain": [
       "<Figure size 600x600 with 1 Axes>"
      ],
      "image/png": "[encoded data removed]"
     },
     "metadata": {},
     "output_type": "display_data"
    },
    {
     "data": {
      "text/plain": [
       "<Figure size 600x600 with 1 Axes>"
      ],
      "image/png": "[encoded data removed]"
     },
     "metadata": {},
     "output_type": "display_data"
    },
    {
     "data": {
      "text/plain": [
       "<Figure size 600x600 with 1 Axes>"
      ],
      "image/png": "[encoded data removed]"
     },
     "metadata": {},
     "output_type": "display_data"
    }
   ],
   "execution_count": 44
  },
  {
   "metadata": {},
   "cell_type": "code",
   "outputs": [],
   "execution_count": null,
   "source": ""
  }
 ],
 "metadata": {
  "colab": {
   "provenance": []
  },
  "kernelspec": {
   "display_name": "notebooks_new",
   "language": "python",
   "name": "python3"
  },
  "language_info": {
   "codemirror_mode": {
    "name": "ipython",
    "version": 3
   },
   "file_extension": ".py",
   "mimetype": "text/x-python",
   "name": "python",
   "nbconvert_exporter": "python",
   "pygments_lexer": "ipython3",
   "version": "3.11.0"
  }
 },
 "nbformat": 4,
 "nbformat_minor": 0
}
