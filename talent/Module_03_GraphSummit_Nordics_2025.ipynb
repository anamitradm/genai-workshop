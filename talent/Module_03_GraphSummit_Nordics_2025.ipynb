{
 "cells": [
  {
   "cell_type": "markdown",
   "metadata": {},
   "source": [
    "# Module objectives\n",
    "- Create Retrieval Tools\n",
    "    - skills search\n",
    "    - finding similar people\n",
    "    - aggregation queries\n",
    "- use LLMs and Agents to answer multi-part questions with GraphRAG"
   ]
  },
  {
   "cell_type": "code",
   "metadata": {
    "id": "FHKg4DVZiQ98",
    "ExecuteTime": {
     "end_time": "2025-03-11T04:58:43.511330Z",
     "start_time": "2025-03-11T04:58:43.498746Z"
    }
   },
   "source": "#%pip install graphdatascience neo4j dotenv openai langchain-openai",
   "outputs": [],
   "execution_count": 1
  },
  {
   "cell_type": "markdown",
   "metadata": {
    "id": "ynPe6RLRWSKd"
   },
   "source": "## Setup"
  },
  {
   "cell_type": "markdown",
   "metadata": {
    "id": "09qvRMrxye7l"
   },
   "source": [
    "Import our usual suspects"
   ]
  },
  {
   "cell_type": "code",
   "metadata": {
    "id": "BOfc_-mllcUE",
    "ExecuteTime": {
     "end_time": "2025-03-11T04:58:53.147216Z",
     "start_time": "2025-03-11T04:58:52.413499Z"
    }
   },
   "source": [
    "import os\n",
    "import pandas as pd\n",
    "from dotenv import load_dotenv\n",
    "from graphdatascience import GraphDataScience\n",
    "from neo4j import Query, GraphDatabase, RoutingControl, Result"
   ],
   "outputs": [],
   "execution_count": 2
  },
  {
   "cell_type": "markdown",
   "metadata": {
    "id": "pa61u1jfyk3t"
   },
   "source": [
    "Load env variables"
   ]
  },
  {
   "cell_type": "code",
   "metadata": {
    "id": "CHR_0lmElZ-R",
    "ExecuteTime": {
     "end_time": "2025-03-11T04:58:53.487204Z",
     "start_time": "2025-03-11T04:58:53.483989Z"
    }
   },
   "source": [
    "load_dotenv('ws.env', override=True)\n",
    "# Neo4j\n",
    "HOST = os.getenv('NEO4J_URI')\n",
    "USERNAME = os.getenv('NEO4J_USERNAME')\n",
    "PASSWORD = os.getenv('NEO4J_PASSWORD')\n",
    "DATABASE = os.getenv('NEO4J_DATABASE', 'neo4j')\n",
    "\n",
    "# AI\n",
    "LLM = os.getenv('LLM')\n",
    "OPENAI_API_KEY = os.getenv('OPENAI_API_KEY')\n",
    "os.environ['OPENAI_API_KEY']=OPENAI_API_KEY"
   ],
   "outputs": [],
   "execution_count": 3
  },
  {
   "cell_type": "markdown",
   "metadata": {},
   "source": [
    "Connect to neo4j db"
   ]
  },
  {
   "cell_type": "code",
   "metadata": {
    "id": "5w4eCb7xZZ-S",
    "ExecuteTime": {
     "end_time": "2025-03-11T04:58:55.433455Z",
     "start_time": "2025-03-11T04:58:54.718667Z"
    }
   },
   "source": [
    "driver = GraphDatabase.driver(\n",
    "    HOST,\n",
    "    auth=(USERNAME, PASSWORD)\n",
    ")\n",
    "driver.verify_connectivity(database=DATABASE)"
   ],
   "outputs": [
    {
     "name": "stderr",
     "output_type": "stream",
     "text": [
      "/Users/zachblumenfeld/opt/anaconda3/envs/genai-workshop-2025-3/lib/python3.11/site-packages/neo4j/_sync/driver.py:1075: ExperimentalWarning: All configuration key-word arguments to verify_connectivity() are experimental. They might be changed or removed in any future version without prior notice.\n",
      "  experimental_warn(\n"
     ]
    }
   ],
   "execution_count": 4
  },
  {
   "cell_type": "markdown",
   "metadata": {},
   "source": [
    "### Schema\n",
    "Keeping this in case we need to add in more indexes"
   ]
  },
  {
   "cell_type": "code",
   "metadata": {
    "id": "cdTfdAyV2ZaR",
    "ExecuteTime": {
     "end_time": "2025-03-11T04:58:57.799964Z",
     "start_time": "2025-03-11T04:58:57.379666Z"
    }
   },
   "source": [
    "schema_statements = [\n",
    "    'create constraint if not exists for (n:Person) require (n.email) is node key',\n",
    "    'create constraint if not exists for (n:Skill) require (n.name) is node key',\n",
    "    'create vector index ada_v if not exists for (n:Skill) on (n.embedding)'\n",
    "]\n",
    "for statement in schema_statements:\n",
    "    driver.execute_query(\n",
    "        statement,\n",
    "        database_=DATABASE,\n",
    "        routing_=RoutingControl.WRITE\n",
    "    )\n",
    "\n",
    "# Fetch all indexes\n",
    "schema_result_df  = driver.execute_query(\n",
    "    'show indexes',\n",
    "    database_=DATABASE,\n",
    "    routing_=RoutingControl.READ,\n",
    "    result_transformer_= lambda r: r.to_df()\n",
    ")\n",
    "schema_result_df.head(100)\n"
   ],
   "outputs": [
    {
     "data": {
      "text/plain": [
       "   id                 name   state  populationPercent    type    entityType  \\\n",
       "0   6                ada_v  ONLINE              100.0  VECTOR          NODE   \n",
       "1   4  constraint_63bf11a1  ONLINE              100.0   RANGE          NODE   \n",
       "2   2  constraint_d3bfd313  ONLINE              100.0   RANGE          NODE   \n",
       "3   0       index_343aff4e  ONLINE              100.0  LOOKUP          NODE   \n",
       "4   1       index_f7700477  ONLINE              100.0  LOOKUP  RELATIONSHIP   \n",
       "\n",
       "  labelsOrTypes   properties     indexProvider     owningConstraint  \\\n",
       "0       [Skill]  [embedding]        vector-2.0                 None   \n",
       "1       [Skill]       [name]         range-1.0  constraint_63bf11a1   \n",
       "2      [Person]      [email]         range-1.0  constraint_d3bfd313   \n",
       "3          None         None  token-lookup-1.0                 None   \n",
       "4          None         None  token-lookup-1.0                 None   \n",
       "\n",
       "                              lastRead  readCount  \n",
       "0  2025-03-11T04:37:56.898000000+00:00         60  \n",
       "1  2025-03-11T04:41:55.452000000+00:00        580  \n",
       "2  2025-03-11T04:41:55.449000000+00:00        300  \n",
       "3  2025-03-11T04:38:13.654000000+00:00          8  \n",
       "4                                 None          0  "
      ],
      "text/html": [
       "<div>\n",
       "<style scoped>\n",
       "    .dataframe tbody tr th:only-of-type {\n",
       "        vertical-align: middle;\n",
       "    }\n",
       "\n",
       "    .dataframe tbody tr th {\n",
       "        vertical-align: top;\n",
       "    }\n",
       "\n",
       "    .dataframe thead th {\n",
       "        text-align: right;\n",
       "    }\n",
       "</style>\n",
       "<table border=\"1\" class=\"dataframe\">\n",
       "  <thead>\n",
       "    <tr style=\"text-align: right;\">\n",
       "      <th></th>\n",
       "      <th>id</th>\n",
       "      <th>name</th>\n",
       "      <th>state</th>\n",
       "      <th>populationPercent</th>\n",
       "      <th>type</th>\n",
       "      <th>entityType</th>\n",
       "      <th>labelsOrTypes</th>\n",
       "      <th>properties</th>\n",
       "      <th>indexProvider</th>\n",
       "      <th>owningConstraint</th>\n",
       "      <th>lastRead</th>\n",
       "      <th>readCount</th>\n",
       "    </tr>\n",
       "  </thead>\n",
       "  <tbody>\n",
       "    <tr>\n",
       "      <th>0</th>\n",
       "      <td>6</td>\n",
       "      <td>ada_v</td>\n",
       "      <td>ONLINE</td>\n",
       "      <td>100.0</td>\n",
       "      <td>VECTOR</td>\n",
       "      <td>NODE</td>\n",
       "      <td>[Skill]</td>\n",
       "      <td>[embedding]</td>\n",
       "      <td>vector-2.0</td>\n",
       "      <td>None</td>\n",
       "      <td>2025-03-11T04:37:56.898000000+00:00</td>\n",
       "      <td>60</td>\n",
       "    </tr>\n",
       "    <tr>\n",
       "      <th>1</th>\n",
       "      <td>4</td>\n",
       "      <td>constraint_63bf11a1</td>\n",
       "      <td>ONLINE</td>\n",
       "      <td>100.0</td>\n",
       "      <td>RANGE</td>\n",
       "      <td>NODE</td>\n",
       "      <td>[Skill]</td>\n",
       "      <td>[name]</td>\n",
       "      <td>range-1.0</td>\n",
       "      <td>constraint_63bf11a1</td>\n",
       "      <td>2025-03-11T04:41:55.452000000+00:00</td>\n",
       "      <td>580</td>\n",
       "    </tr>\n",
       "    <tr>\n",
       "      <th>2</th>\n",
       "      <td>2</td>\n",
       "      <td>constraint_d3bfd313</td>\n",
       "      <td>ONLINE</td>\n",
       "      <td>100.0</td>\n",
       "      <td>RANGE</td>\n",
       "      <td>NODE</td>\n",
       "      <td>[Person]</td>\n",
       "      <td>[email]</td>\n",
       "      <td>range-1.0</td>\n",
       "      <td>constraint_d3bfd313</td>\n",
       "      <td>2025-03-11T04:41:55.449000000+00:00</td>\n",
       "      <td>300</td>\n",
       "    </tr>\n",
       "    <tr>\n",
       "      <th>3</th>\n",
       "      <td>0</td>\n",
       "      <td>index_343aff4e</td>\n",
       "      <td>ONLINE</td>\n",
       "      <td>100.0</td>\n",
       "      <td>LOOKUP</td>\n",
       "      <td>NODE</td>\n",
       "      <td>None</td>\n",
       "      <td>None</td>\n",
       "      <td>token-lookup-1.0</td>\n",
       "      <td>None</td>\n",
       "      <td>2025-03-11T04:38:13.654000000+00:00</td>\n",
       "      <td>8</td>\n",
       "    </tr>\n",
       "    <tr>\n",
       "      <th>4</th>\n",
       "      <td>1</td>\n",
       "      <td>index_f7700477</td>\n",
       "      <td>ONLINE</td>\n",
       "      <td>100.0</td>\n",
       "      <td>LOOKUP</td>\n",
       "      <td>RELATIONSHIP</td>\n",
       "      <td>None</td>\n",
       "      <td>None</td>\n",
       "      <td>token-lookup-1.0</td>\n",
       "      <td>None</td>\n",
       "      <td>None</td>\n",
       "      <td>0</td>\n",
       "    </tr>\n",
       "  </tbody>\n",
       "</table>\n",
       "</div>"
      ]
     },
     "execution_count": 5,
     "metadata": {},
     "output_type": "execute_result"
    }
   ],
   "execution_count": 5
  },
  {
   "cell_type": "markdown",
   "metadata": {
    "id": "0OMlYdxHWZLx"
   },
   "source": "## Basic search"
  },
  {
   "cell_type": "code",
   "metadata": {
    "id": "volCOjn_jjm3",
    "ExecuteTime": {
     "end_time": "2025-03-11T04:59:16.921819Z",
     "start_time": "2025-03-11T04:59:16.444230Z"
    }
   },
   "source": [
    "skills = ['Contineous Delivery', 'Cloud Native', 'Security']\n",
    "\n",
    "# Find person given some skills\n",
    "driver.execute_query(\n",
    "    '''\n",
    "    match (p:Person)-[:KNOWS]->(s:Skill)\n",
    "    where s.name in $skills\n",
    "    return \n",
    "        count(*) as rank, \n",
    "        p.email as email, \n",
    "        p.name as person_name, \n",
    "        collect{ match (p)-[:KNOWS]->(anySkill) return anySkill.name } as skills\n",
    "    order by rank desc limit 10\n",
    "    ''',\n",
    "    database_=DATABASE,\n",
    "    routing_=RoutingControl.READ,\n",
    "    result_transformer_= lambda r: r.to_df(),\n",
    "    skills = skills\n",
    ").head(10)"
   ],
   "outputs": [
    {
     "data": {
      "text/plain": [
       "   rank                    email     person_name  \\\n",
       "0     1     lucy.turner@test.org     Lucy Turner   \n",
       "1     1  sophie.jackson@test.org  Sophie Jackson   \n",
       "2     1      mia.nelson@test.org      Mia Nelson   \n",
       "3     1     david.lopez@test.org     David Lopez   \n",
       "4     1    thomas.brown@test.org    Thomas Brown   \n",
       "5     1  isabella.allen@test.org  Isabella Allen   \n",
       "6     1  olivia.johnson@test.org  Olivia Johnson   \n",
       "7     1    amelia.davis@test.org    Amelia Davis   \n",
       "8     1  emily.phillips@test.org  Emily Phillips   \n",
       "9     1   thomas.nelson@test.org   Thomas Nelson   \n",
       "\n",
       "                                              skills  \n",
       "0    [Security, Express.js, Big Data, Scala, Docker]  \n",
       "1                 [Security, Pandas, Linux, Angular]  \n",
       "2        [Security, WordPress, Big Data, Swift, AWS]  \n",
       "3                         [Security, WordPress, PHP]  \n",
       "4                        [Security, R, Java, Docker]  \n",
       "5              [Security, Scala, Cloud Architecture]  \n",
       "6                         [Security, Angular, CI/CD]  \n",
       "7           [Security, PyTorch, Java, HTML5, Docker]  \n",
       "8  [Security, Vue.js, PHP, Kubernetes, Data Visua...  \n",
       "9                             [Security, Pandas, Go]  "
      ],
      "text/html": [
       "<div>\n",
       "<style scoped>\n",
       "    .dataframe tbody tr th:only-of-type {\n",
       "        vertical-align: middle;\n",
       "    }\n",
       "\n",
       "    .dataframe tbody tr th {\n",
       "        vertical-align: top;\n",
       "    }\n",
       "\n",
       "    .dataframe thead th {\n",
       "        text-align: right;\n",
       "    }\n",
       "</style>\n",
       "<table border=\"1\" class=\"dataframe\">\n",
       "  <thead>\n",
       "    <tr style=\"text-align: right;\">\n",
       "      <th></th>\n",
       "      <th>rank</th>\n",
       "      <th>email</th>\n",
       "      <th>person_name</th>\n",
       "      <th>skills</th>\n",
       "    </tr>\n",
       "  </thead>\n",
       "  <tbody>\n",
       "    <tr>\n",
       "      <th>0</th>\n",
       "      <td>1</td>\n",
       "      <td>lucy.turner@test.org</td>\n",
       "      <td>Lucy Turner</td>\n",
       "      <td>[Security, Express.js, Big Data, Scala, Docker]</td>\n",
       "    </tr>\n",
       "    <tr>\n",
       "      <th>1</th>\n",
       "      <td>1</td>\n",
       "      <td>sophie.jackson@test.org</td>\n",
       "      <td>Sophie Jackson</td>\n",
       "      <td>[Security, Pandas, Linux, Angular]</td>\n",
       "    </tr>\n",
       "    <tr>\n",
       "      <th>2</th>\n",
       "      <td>1</td>\n",
       "      <td>mia.nelson@test.org</td>\n",
       "      <td>Mia Nelson</td>\n",
       "      <td>[Security, WordPress, Big Data, Swift, AWS]</td>\n",
       "    </tr>\n",
       "    <tr>\n",
       "      <th>3</th>\n",
       "      <td>1</td>\n",
       "      <td>david.lopez@test.org</td>\n",
       "      <td>David Lopez</td>\n",
       "      <td>[Security, WordPress, PHP]</td>\n",
       "    </tr>\n",
       "    <tr>\n",
       "      <th>4</th>\n",
       "      <td>1</td>\n",
       "      <td>thomas.brown@test.org</td>\n",
       "      <td>Thomas Brown</td>\n",
       "      <td>[Security, R, Java, Docker]</td>\n",
       "    </tr>\n",
       "    <tr>\n",
       "      <th>5</th>\n",
       "      <td>1</td>\n",
       "      <td>isabella.allen@test.org</td>\n",
       "      <td>Isabella Allen</td>\n",
       "      <td>[Security, Scala, Cloud Architecture]</td>\n",
       "    </tr>\n",
       "    <tr>\n",
       "      <th>6</th>\n",
       "      <td>1</td>\n",
       "      <td>olivia.johnson@test.org</td>\n",
       "      <td>Olivia Johnson</td>\n",
       "      <td>[Security, Angular, CI/CD]</td>\n",
       "    </tr>\n",
       "    <tr>\n",
       "      <th>7</th>\n",
       "      <td>1</td>\n",
       "      <td>amelia.davis@test.org</td>\n",
       "      <td>Amelia Davis</td>\n",
       "      <td>[Security, PyTorch, Java, HTML5, Docker]</td>\n",
       "    </tr>\n",
       "    <tr>\n",
       "      <th>8</th>\n",
       "      <td>1</td>\n",
       "      <td>emily.phillips@test.org</td>\n",
       "      <td>Emily Phillips</td>\n",
       "      <td>[Security, Vue.js, PHP, Kubernetes, Data Visua...</td>\n",
       "    </tr>\n",
       "    <tr>\n",
       "      <th>9</th>\n",
       "      <td>1</td>\n",
       "      <td>thomas.nelson@test.org</td>\n",
       "      <td>Thomas Nelson</td>\n",
       "      <td>[Security, Pandas, Go]</td>\n",
       "    </tr>\n",
       "  </tbody>\n",
       "</table>\n",
       "</div>"
      ]
     },
     "execution_count": 6,
     "metadata": {},
     "output_type": "execute_result"
    }
   ],
   "execution_count": 6
  },
  {
   "cell_type": "markdown",
   "metadata": {},
   "source": "## Vector index search"
  },
  {
   "cell_type": "code",
   "metadata": {
    "ExecuteTime": {
     "end_time": "2025-03-11T04:59:30.110843Z",
     "start_time": "2025-03-11T04:59:29.207362Z"
    }
   },
   "source": [
    "# Import langchain open ai\n",
    "from langchain_openai import OpenAIEmbeddings, ChatOpenAI\n",
    "from langchain_core.prompts import ChatPromptTemplate\n",
    "from langchain_core.output_parsers import StrOutputParser"
   ],
   "outputs": [],
   "execution_count": 7
  },
  {
   "cell_type": "code",
   "metadata": {
    "ExecuteTime": {
     "end_time": "2025-03-11T04:59:30.114181Z",
     "start_time": "2025-03-11T04:59:30.112109Z"
    }
   },
   "source": [
    "# from openai import OpenAI\n",
    "# client = OpenAI()\n",
    "# client.models.list()"
   ],
   "outputs": [],
   "execution_count": 8
  },
  {
   "cell_type": "code",
   "metadata": {
    "ExecuteTime": {
     "end_time": "2025-03-11T04:59:31.152923Z",
     "start_time": "2025-03-11T04:59:30.292853Z"
    }
   },
   "source": [
    "embeddings = OpenAIEmbeddings(model='text-embedding-ada-002')\n",
    "v_skills=embeddings.embed_documents(skills)"
   ],
   "outputs": [],
   "execution_count": 9
  },
  {
   "cell_type": "markdown",
   "metadata": {},
   "source": [
    "### Strategy 1\n",
    "We get the approximate top 10 nearest nodes to the search vector `v` and take the 3 first returned. Then put them together in a list (`skill_list`) and does same ranking as before (number of skills)"
   ]
  },
  {
   "cell_type": "code",
   "metadata": {
    "ExecuteTime": {
     "end_time": "2025-03-11T05:01:11.879573Z",
     "start_time": "2025-03-11T05:01:11.477199Z"
    }
   },
   "source": [
    "driver.execute_query(\n",
    "    '''\n",
    "    unwind $v_skills as v\n",
    "    call db.index.vector.queryNodes('ada_v', 10, toFloatList(v)) yield node\n",
    "    with v, collect(node)[0..3] as top3\n",
    "    unwind top3 as s\n",
    "    with collect(s) as skill_list \n",
    "    match (p:Person)-[:KNOWS]->(s)\n",
    "    where s in skill_list\n",
    "    return \n",
    "        count(*) as rank, \n",
    "        p.email as email, \n",
    "        p.name as person_name, \n",
    "        collect{ match (p)-[:KNOWS]->(anySkill) return anySkill.name } as skills\n",
    "    order by rank desc limit 10\n",
    "    ''',\n",
    "    database_=DATABASE,\n",
    "    routing_=RoutingControl.READ,\n",
    "    result_transformer_= lambda r: r.to_df(),\n",
    "    v_skills = v_skills\n",
    ").head(10)"
   ],
   "outputs": [
    {
     "data": {
      "text/plain": [
       "   rank                     email      person_name  \\\n",
       "0     3  david.rodriguez@test.org  David Rodriguez   \n",
       "1     2   olivia.johnson@test.org   Olivia Johnson   \n",
       "2     2    andrew.martin@test.org    Andrew Martin   \n",
       "3     2     joseph.lopez@test.org     Joseph Lopez   \n",
       "4     2   natalie.miller@test.org   Natalie Miller   \n",
       "5     2  andrew.anderson@test.org  Andrew Anderson   \n",
       "6     2   isabella.allen@test.org   Isabella Allen   \n",
       "7     2    matthew.scott@test.org    Matthew Scott   \n",
       "8     2   isabella.jones@test.org   Isabella Jones   \n",
       "9     2    sophia.walker@test.org    Sophia Walker   \n",
       "\n",
       "                                              skills  \n",
       "0                      [Scrum, Azure, Cypher, Spark]  \n",
       "1                         [Security, Angular, CI/CD]  \n",
       "2    [R, Java, Cloud Architecture, Testing, Node.js]  \n",
       "3  [Linux, System Design, CI/CD, Django, TypeScri...  \n",
       "4  [Go, Express.js, Azure, Testing, Machine Learn...  \n",
       "5  [DevOps, Java, Testing, Node.js, Data Visualiz...  \n",
       "6              [Security, Scala, Cloud Architecture]  \n",
       "7                             [Scrum, Azure, Cypher]  \n",
       "8   [Scrum, TensorFlow, Cloud Architecture, ReactJS]  \n",
       "9                       [Scrum, DevOps, Django, C++]  "
      ],
      "text/html": [
       "<div>\n",
       "<style scoped>\n",
       "    .dataframe tbody tr th:only-of-type {\n",
       "        vertical-align: middle;\n",
       "    }\n",
       "\n",
       "    .dataframe tbody tr th {\n",
       "        vertical-align: top;\n",
       "    }\n",
       "\n",
       "    .dataframe thead th {\n",
       "        text-align: right;\n",
       "    }\n",
       "</style>\n",
       "<table border=\"1\" class=\"dataframe\">\n",
       "  <thead>\n",
       "    <tr style=\"text-align: right;\">\n",
       "      <th></th>\n",
       "      <th>rank</th>\n",
       "      <th>email</th>\n",
       "      <th>person_name</th>\n",
       "      <th>skills</th>\n",
       "    </tr>\n",
       "  </thead>\n",
       "  <tbody>\n",
       "    <tr>\n",
       "      <th>0</th>\n",
       "      <td>3</td>\n",
       "      <td>david.rodriguez@test.org</td>\n",
       "      <td>David Rodriguez</td>\n",
       "      <td>[Scrum, Azure, Cypher, Spark]</td>\n",
       "    </tr>\n",
       "    <tr>\n",
       "      <th>1</th>\n",
       "      <td>2</td>\n",
       "      <td>olivia.johnson@test.org</td>\n",
       "      <td>Olivia Johnson</td>\n",
       "      <td>[Security, Angular, CI/CD]</td>\n",
       "    </tr>\n",
       "    <tr>\n",
       "      <th>2</th>\n",
       "      <td>2</td>\n",
       "      <td>andrew.martin@test.org</td>\n",
       "      <td>Andrew Martin</td>\n",
       "      <td>[R, Java, Cloud Architecture, Testing, Node.js]</td>\n",
       "    </tr>\n",
       "    <tr>\n",
       "      <th>3</th>\n",
       "      <td>2</td>\n",
       "      <td>joseph.lopez@test.org</td>\n",
       "      <td>Joseph Lopez</td>\n",
       "      <td>[Linux, System Design, CI/CD, Django, TypeScri...</td>\n",
       "    </tr>\n",
       "    <tr>\n",
       "      <th>4</th>\n",
       "      <td>2</td>\n",
       "      <td>natalie.miller@test.org</td>\n",
       "      <td>Natalie Miller</td>\n",
       "      <td>[Go, Express.js, Azure, Testing, Machine Learn...</td>\n",
       "    </tr>\n",
       "    <tr>\n",
       "      <th>5</th>\n",
       "      <td>2</td>\n",
       "      <td>andrew.anderson@test.org</td>\n",
       "      <td>Andrew Anderson</td>\n",
       "      <td>[DevOps, Java, Testing, Node.js, Data Visualiz...</td>\n",
       "    </tr>\n",
       "    <tr>\n",
       "      <th>6</th>\n",
       "      <td>2</td>\n",
       "      <td>isabella.allen@test.org</td>\n",
       "      <td>Isabella Allen</td>\n",
       "      <td>[Security, Scala, Cloud Architecture]</td>\n",
       "    </tr>\n",
       "    <tr>\n",
       "      <th>7</th>\n",
       "      <td>2</td>\n",
       "      <td>matthew.scott@test.org</td>\n",
       "      <td>Matthew Scott</td>\n",
       "      <td>[Scrum, Azure, Cypher]</td>\n",
       "    </tr>\n",
       "    <tr>\n",
       "      <th>8</th>\n",
       "      <td>2</td>\n",
       "      <td>isabella.jones@test.org</td>\n",
       "      <td>Isabella Jones</td>\n",
       "      <td>[Scrum, TensorFlow, Cloud Architecture, ReactJS]</td>\n",
       "    </tr>\n",
       "    <tr>\n",
       "      <th>9</th>\n",
       "      <td>2</td>\n",
       "      <td>sophia.walker@test.org</td>\n",
       "      <td>Sophia Walker</td>\n",
       "      <td>[Scrum, DevOps, Django, C++]</td>\n",
       "    </tr>\n",
       "  </tbody>\n",
       "</table>\n",
       "</div>"
      ]
     },
     "execution_count": 11,
     "metadata": {},
     "output_type": "execute_result"
    }
   ],
   "execution_count": 11
  },
  {
   "cell_type": "markdown",
   "metadata": {},
   "source": [
    "### Strategy 2\n",
    "Same strategy as before for finding the semantic similar skills, but we do a post sorting based on cosine similarity"
   ]
  },
  {
   "cell_type": "code",
   "metadata": {
    "ExecuteTime": {
     "end_time": "2025-03-11T05:01:21.429172Z",
     "start_time": "2025-03-11T05:01:21.093953Z"
    }
   },
   "source": [
    "driver.execute_query(\n",
    "    '''\n",
    "    unwind $v_skills as v\n",
    "    call db.index.vector.queryNodes('ada_v', 10, toFloatList(v)) yield node\n",
    "    with v, collect(node)[0..3] as top3\n",
    "    unwind top3 as s\n",
    "    with collect(s) as skill_list \n",
    "    match (p:Person)-[:KNOWS]->(s)\n",
    "    where s in skill_list\n",
    "    with p, sum(reduce(res=0.0, x in $v_skills | res + vector.similarity.cosine(x,s.embedding))) as score\n",
    "    return \n",
    "        score as rank, \n",
    "        p.email as email, \n",
    "        p.name as person_name, \n",
    "        collect{ match (p)-[:KNOWS]->(anySkill) return anySkill.name } as skills\n",
    "    order by rank desc limit 10\n",
    "    ''',\n",
    "    database_=DATABASE,\n",
    "    routing_=RoutingControl.READ,\n",
    "    result_transformer_= lambda r: r.to_df(),\n",
    "    v_skills = v_skills\n",
    ").head(10)"
   ],
   "outputs": [
    {
     "data": {
      "text/plain": [
       "       rank                     email      person_name  \\\n",
       "0  8.097379  david.rodriguez@test.org  David Rodriguez   \n",
       "1  5.481543   isabella.allen@test.org   Isabella Allen   \n",
       "2  5.475316   olivia.johnson@test.org   Olivia Johnson   \n",
       "3  5.417244  andrew.anderson@test.org  Andrew Anderson   \n",
       "4  5.414759    andrew.martin@test.org    Andrew Martin   \n",
       "5  5.411052    sophia.walker@test.org    Sophia Walker   \n",
       "6  5.411007   natalie.miller@test.org   Natalie Miller   \n",
       "7  5.408567     sophie.perez@test.org     Sophie Perez   \n",
       "8  5.408567   isabella.jones@test.org   Isabella Jones   \n",
       "9  5.408532     joseph.lopez@test.org     Joseph Lopez   \n",
       "\n",
       "                                              skills  \n",
       "0                      [Scrum, Azure, Cypher, Spark]  \n",
       "1              [Security, Scala, Cloud Architecture]  \n",
       "2                         [Security, Angular, CI/CD]  \n",
       "3  [DevOps, Java, Testing, Node.js, Data Visualiz...  \n",
       "4    [R, Java, Cloud Architecture, Testing, Node.js]  \n",
       "5                       [Scrum, DevOps, Django, C++]  \n",
       "6  [Go, Express.js, Azure, Testing, Machine Learn...  \n",
       "7               [Scrum, Angular, Cloud Architecture]  \n",
       "8   [Scrum, TensorFlow, Cloud Architecture, ReactJS]  \n",
       "9  [Linux, System Design, CI/CD, Django, TypeScri...  "
      ],
      "text/html": [
       "<div>\n",
       "<style scoped>\n",
       "    .dataframe tbody tr th:only-of-type {\n",
       "        vertical-align: middle;\n",
       "    }\n",
       "\n",
       "    .dataframe tbody tr th {\n",
       "        vertical-align: top;\n",
       "    }\n",
       "\n",
       "    .dataframe thead th {\n",
       "        text-align: right;\n",
       "    }\n",
       "</style>\n",
       "<table border=\"1\" class=\"dataframe\">\n",
       "  <thead>\n",
       "    <tr style=\"text-align: right;\">\n",
       "      <th></th>\n",
       "      <th>rank</th>\n",
       "      <th>email</th>\n",
       "      <th>person_name</th>\n",
       "      <th>skills</th>\n",
       "    </tr>\n",
       "  </thead>\n",
       "  <tbody>\n",
       "    <tr>\n",
       "      <th>0</th>\n",
       "      <td>8.097379</td>\n",
       "      <td>david.rodriguez@test.org</td>\n",
       "      <td>David Rodriguez</td>\n",
       "      <td>[Scrum, Azure, Cypher, Spark]</td>\n",
       "    </tr>\n",
       "    <tr>\n",
       "      <th>1</th>\n",
       "      <td>5.481543</td>\n",
       "      <td>isabella.allen@test.org</td>\n",
       "      <td>Isabella Allen</td>\n",
       "      <td>[Security, Scala, Cloud Architecture]</td>\n",
       "    </tr>\n",
       "    <tr>\n",
       "      <th>2</th>\n",
       "      <td>5.475316</td>\n",
       "      <td>olivia.johnson@test.org</td>\n",
       "      <td>Olivia Johnson</td>\n",
       "      <td>[Security, Angular, CI/CD]</td>\n",
       "    </tr>\n",
       "    <tr>\n",
       "      <th>3</th>\n",
       "      <td>5.417244</td>\n",
       "      <td>andrew.anderson@test.org</td>\n",
       "      <td>Andrew Anderson</td>\n",
       "      <td>[DevOps, Java, Testing, Node.js, Data Visualiz...</td>\n",
       "    </tr>\n",
       "    <tr>\n",
       "      <th>4</th>\n",
       "      <td>5.414759</td>\n",
       "      <td>andrew.martin@test.org</td>\n",
       "      <td>Andrew Martin</td>\n",
       "      <td>[R, Java, Cloud Architecture, Testing, Node.js]</td>\n",
       "    </tr>\n",
       "    <tr>\n",
       "      <th>5</th>\n",
       "      <td>5.411052</td>\n",
       "      <td>sophia.walker@test.org</td>\n",
       "      <td>Sophia Walker</td>\n",
       "      <td>[Scrum, DevOps, Django, C++]</td>\n",
       "    </tr>\n",
       "    <tr>\n",
       "      <th>6</th>\n",
       "      <td>5.411007</td>\n",
       "      <td>natalie.miller@test.org</td>\n",
       "      <td>Natalie Miller</td>\n",
       "      <td>[Go, Express.js, Azure, Testing, Machine Learn...</td>\n",
       "    </tr>\n",
       "    <tr>\n",
       "      <th>7</th>\n",
       "      <td>5.408567</td>\n",
       "      <td>sophie.perez@test.org</td>\n",
       "      <td>Sophie Perez</td>\n",
       "      <td>[Scrum, Angular, Cloud Architecture]</td>\n",
       "    </tr>\n",
       "    <tr>\n",
       "      <th>8</th>\n",
       "      <td>5.408567</td>\n",
       "      <td>isabella.jones@test.org</td>\n",
       "      <td>Isabella Jones</td>\n",
       "      <td>[Scrum, TensorFlow, Cloud Architecture, ReactJS]</td>\n",
       "    </tr>\n",
       "    <tr>\n",
       "      <th>9</th>\n",
       "      <td>5.408532</td>\n",
       "      <td>joseph.lopez@test.org</td>\n",
       "      <td>Joseph Lopez</td>\n",
       "      <td>[Linux, System Design, CI/CD, Django, TypeScri...</td>\n",
       "    </tr>\n",
       "  </tbody>\n",
       "</table>\n",
       "</div>"
      ]
     },
     "execution_count": 12,
     "metadata": {},
     "output_type": "execute_result"
    }
   ],
   "execution_count": 12
  },
  {
   "cell_type": "markdown",
   "metadata": {},
   "source": [
    "### Strategy 3\n",
    "We can also look at community membership (from our leiden community detection from before). We could for instance imagining the user wanting to explore the community that looks most relevant.\n"
   ]
  },
  {
   "cell_type": "code",
   "metadata": {
    "ExecuteTime": {
     "end_time": "2025-03-11T05:02:08.434407Z",
     "start_time": "2025-03-11T05:02:08.087130Z"
    }
   },
   "source": [
    "driver.execute_query(\n",
    "    '''\n",
    "    unwind $v_skills as v\n",
    "    call db.index.vector.queryNodes('ada_v', 10, toFloatList(v)) yield node\n",
    "    with v, collect(node)[0..3] as top3\n",
    "    unwind top3 as s\n",
    "    with collect(s) as skill_list \n",
    "    match (p:Person)-[:KNOWS]->(s)\n",
    "    where s in skill_list\n",
    "    with p, sum(reduce(res=0.0, x in $v_skills | res + vector.similarity.cosine(x,s.embedding))) as score\n",
    "    with\n",
    "        p.segmentId as community,\n",
    "        score as rank, \n",
    "        p.email as email, \n",
    "        p.name as person_name, \n",
    "        collect{ match (p)-[:KNOWS]->(anySkill) return anySkill.name order by anySkill.name} as skills\n",
    "    order by rank desc limit 10\n",
    "    return \n",
    "        community,\n",
    "        rank,\n",
    "        email,\n",
    "        person_name,\n",
    "        skills\n",
    "    order by community\n",
    "    ''',\n",
    "    database_=DATABASE,\n",
    "    routing_=RoutingControl.READ,\n",
    "    result_transformer_= lambda r: r.to_df(),\n",
    "    v_skills = v_skills\n",
    ").head(10)"
   ],
   "outputs": [
    {
     "data": {
      "text/plain": [
       "   community      rank                     email      person_name  \\\n",
       "0          0  5.481543   isabella.allen@test.org   Isabella Allen   \n",
       "1          0  5.475316   olivia.johnson@test.org   Olivia Johnson   \n",
       "2          1  8.097379  david.rodriguez@test.org  David Rodriguez   \n",
       "3          1  5.411052    sophia.walker@test.org    Sophia Walker   \n",
       "4          1  5.411007   natalie.miller@test.org   Natalie Miller   \n",
       "5          1  5.408567     sophie.perez@test.org     Sophie Perez   \n",
       "6          1  5.408567   isabella.jones@test.org   Isabella Jones   \n",
       "7          2  5.408532     joseph.lopez@test.org     Joseph Lopez   \n",
       "8          3  5.417244  andrew.anderson@test.org  Andrew Anderson   \n",
       "9          3  5.414759    andrew.martin@test.org    Andrew Martin   \n",
       "\n",
       "                                              skills  \n",
       "0              [Cloud Architecture, Scala, Security]  \n",
       "1                         [Angular, CI/CD, Security]  \n",
       "2                      [Azure, Cypher, Scrum, Spark]  \n",
       "3                       [C++, DevOps, Django, Scrum]  \n",
       "4  [Azure, Express.js, Go, Machine Learning, Test...  \n",
       "5               [Angular, Cloud Architecture, Scrum]  \n",
       "6   [Cloud Architecture, ReactJS, Scrum, TensorFlow]  \n",
       "7  [CI/CD, Django, Linux, ReactJS, System Design,...  \n",
       "8  [Data Visualization, DevOps, Java, Node.js, Te...  \n",
       "9    [Cloud Architecture, Java, Node.js, R, Testing]  "
      ],
      "text/html": [
       "<div>\n",
       "<style scoped>\n",
       "    .dataframe tbody tr th:only-of-type {\n",
       "        vertical-align: middle;\n",
       "    }\n",
       "\n",
       "    .dataframe tbody tr th {\n",
       "        vertical-align: top;\n",
       "    }\n",
       "\n",
       "    .dataframe thead th {\n",
       "        text-align: right;\n",
       "    }\n",
       "</style>\n",
       "<table border=\"1\" class=\"dataframe\">\n",
       "  <thead>\n",
       "    <tr style=\"text-align: right;\">\n",
       "      <th></th>\n",
       "      <th>community</th>\n",
       "      <th>rank</th>\n",
       "      <th>email</th>\n",
       "      <th>person_name</th>\n",
       "      <th>skills</th>\n",
       "    </tr>\n",
       "  </thead>\n",
       "  <tbody>\n",
       "    <tr>\n",
       "      <th>0</th>\n",
       "      <td>0</td>\n",
       "      <td>5.481543</td>\n",
       "      <td>isabella.allen@test.org</td>\n",
       "      <td>Isabella Allen</td>\n",
       "      <td>[Cloud Architecture, Scala, Security]</td>\n",
       "    </tr>\n",
       "    <tr>\n",
       "      <th>1</th>\n",
       "      <td>0</td>\n",
       "      <td>5.475316</td>\n",
       "      <td>olivia.johnson@test.org</td>\n",
       "      <td>Olivia Johnson</td>\n",
       "      <td>[Angular, CI/CD, Security]</td>\n",
       "    </tr>\n",
       "    <tr>\n",
       "      <th>2</th>\n",
       "      <td>1</td>\n",
       "      <td>8.097379</td>\n",
       "      <td>david.rodriguez@test.org</td>\n",
       "      <td>David Rodriguez</td>\n",
       "      <td>[Azure, Cypher, Scrum, Spark]</td>\n",
       "    </tr>\n",
       "    <tr>\n",
       "      <th>3</th>\n",
       "      <td>1</td>\n",
       "      <td>5.411052</td>\n",
       "      <td>sophia.walker@test.org</td>\n",
       "      <td>Sophia Walker</td>\n",
       "      <td>[C++, DevOps, Django, Scrum]</td>\n",
       "    </tr>\n",
       "    <tr>\n",
       "      <th>4</th>\n",
       "      <td>1</td>\n",
       "      <td>5.411007</td>\n",
       "      <td>natalie.miller@test.org</td>\n",
       "      <td>Natalie Miller</td>\n",
       "      <td>[Azure, Express.js, Go, Machine Learning, Test...</td>\n",
       "    </tr>\n",
       "    <tr>\n",
       "      <th>5</th>\n",
       "      <td>1</td>\n",
       "      <td>5.408567</td>\n",
       "      <td>sophie.perez@test.org</td>\n",
       "      <td>Sophie Perez</td>\n",
       "      <td>[Angular, Cloud Architecture, Scrum]</td>\n",
       "    </tr>\n",
       "    <tr>\n",
       "      <th>6</th>\n",
       "      <td>1</td>\n",
       "      <td>5.408567</td>\n",
       "      <td>isabella.jones@test.org</td>\n",
       "      <td>Isabella Jones</td>\n",
       "      <td>[Cloud Architecture, ReactJS, Scrum, TensorFlow]</td>\n",
       "    </tr>\n",
       "    <tr>\n",
       "      <th>7</th>\n",
       "      <td>2</td>\n",
       "      <td>5.408532</td>\n",
       "      <td>joseph.lopez@test.org</td>\n",
       "      <td>Joseph Lopez</td>\n",
       "      <td>[CI/CD, Django, Linux, ReactJS, System Design,...</td>\n",
       "    </tr>\n",
       "    <tr>\n",
       "      <th>8</th>\n",
       "      <td>3</td>\n",
       "      <td>5.417244</td>\n",
       "      <td>andrew.anderson@test.org</td>\n",
       "      <td>Andrew Anderson</td>\n",
       "      <td>[Data Visualization, DevOps, Java, Node.js, Te...</td>\n",
       "    </tr>\n",
       "    <tr>\n",
       "      <th>9</th>\n",
       "      <td>3</td>\n",
       "      <td>5.414759</td>\n",
       "      <td>andrew.martin@test.org</td>\n",
       "      <td>Andrew Martin</td>\n",
       "      <td>[Cloud Architecture, Java, Node.js, R, Testing]</td>\n",
       "    </tr>\n",
       "  </tbody>\n",
       "</table>\n",
       "</div>"
      ]
     },
     "execution_count": 13,
     "metadata": {},
     "output_type": "execute_result"
    }
   ],
   "execution_count": 13
  },
  {
   "cell_type": "markdown",
   "metadata": {},
   "source": "## Agents w/ GraphRAG"
  },
  {
   "metadata": {},
   "cell_type": "markdown",
   "source": "### Retrieval Tools"
  },
  {
   "cell_type": "code",
   "metadata": {
    "ExecuteTime": {
     "end_time": "2025-03-11T06:36:12.067473Z",
     "start_time": "2025-03-11T06:36:12.021686Z"
    }
   },
   "source": [
    "from typing import List, Optional\n",
    "from pydantic import BaseModel, Field, validator\n",
    "import functools\n",
    "from langchain_core.tools import tool\n",
    "\n",
    "class Skill(BaseModel):\n",
    "    \"\"\"\n",
    "    Represents a professional skill or knwoledge of a person.\n",
    "    \"\"\"\n",
    "    name: str = Field(..., description=\"Sortened name of the skill\")\n",
    "\n",
    "@tool\n",
    "def retrieve_persons_given_set_of_skills(skills: List[Skill]) -> pd.DataFrame:\n",
    "    \"\"\"\n",
    "    Given a list of skills this function will retrieve top 10 relevant persons. \n",
    "    If the question contains multiple skills, only call the function once using the set of\n",
    "    skills as the argument for the function\n",
    "    Returns a top k, not all persons - do not use for aggregation questions. \n",
    "    \"\"\"\n",
    "    skills = [s.name for s in skills]\n",
    "    print(skills)\n",
    "    v_skills = embeddings.embed_documents(skills)\n",
    "    return driver.execute_query(\n",
    "        ''' \n",
    "            unwind $v_skills as v\n",
    "            call db.index.vector.queryNodes('ada_v', 10, toFloatList(v)) yield node\n",
    "            with v, collect(node)[0..3] as top3\n",
    "            unwind top3 as s\n",
    "            with collect(s) as skill_list \n",
    "            match (p:Person)-[:KNOWS]->(s)\n",
    "            where s in skill_list\n",
    "            with p, sum(reduce(res=0.0, x in $v_skills | res + vector.similarity.cosine(x,s.embedding))) as score\n",
    "            with\n",
    "                p.segmentId as community,\n",
    "                score as rank, \n",
    "                p.email as email, \n",
    "                p.name as person_name, \n",
    "                collect{ match (p)-[:KNOWS]->(anySkill) return anySkill.name order by anySkill.name} as skills\n",
    "            order by rank desc limit 10\n",
    "            return \n",
    "                community,\n",
    "                rank,\n",
    "                email,\n",
    "                person_name,\n",
    "                skills\n",
    "            order by community\n",
    "        ''',\n",
    "        database_=DATABASE,\n",
    "        v_skills=v_skills,\n",
    "        routing_=RoutingControl.READ,\n",
    "        result_transformer_= lambda r: r.to_df()\n",
    "    )"
   ],
   "outputs": [],
   "execution_count": 52
  },
  {
   "metadata": {
    "ExecuteTime": {
     "end_time": "2025-03-11T06:36:13.208084Z",
     "start_time": "2025-03-11T06:36:12.883334Z"
    }
   },
   "cell_type": "code",
   "source": [
    "@tool\n",
    "def retrieve_people_with_similar_skills(person_name: str, limit=5) -> pd.DataFrame:\n",
    "    \"\"\"Find people with similar skills to the provided person\"\"\"\n",
    "    #uses overlap query\n",
    "    return driver.execute_query(\n",
    "        ''' \n",
    "        match (p1:Person{name:$name})-[:KNOWS]->(s:Skill)<-[:KNOWS]-(p2)\n",
    "        where p1 <> p2\n",
    "        with p2.name as name, \n",
    "            p2.segmentId AS segmentId,\n",
    "            count{(p1)-[:KNOWS]->()} as p1Skills,\n",
    "            toFloat(count(s)) as sharedSkills,\n",
    "            collect(s.name) as sharedSkillsList\n",
    "        return name, segmentId, sharedSkills/p1Skills AS percentSharedSkills, sharedSkillsList\n",
    "        ORDER BY sharedSkills DESC LIMIT $limit\n",
    "        ''',\n",
    "        database_=DATABASE,\n",
    "        name=person_name,\n",
    "        limit=limit,\n",
    "        routing_=RoutingControl.READ,\n",
    "        result_transformer_= lambda r: r.to_df()\n",
    ")\n",
    "\n",
    "retrieve_people_with_similar_skills('Isabella Allen')"
   ],
   "outputs": [
    {
     "data": {
      "text/plain": [
       "             name  segmentId  percentSharedSkills   sharedSkillsList\n",
       "0     Lucy Turner          0             0.666667  [Security, Scala]\n",
       "1  Sophie Jackson          0             0.333333         [Security]\n",
       "2      Mia Nelson          0             0.333333         [Security]\n",
       "3     David Lopez          0             0.333333         [Security]\n",
       "4   Thomas Nelson          0             0.333333         [Security]"
      ],
      "text/html": [
       "<div>\n",
       "<style scoped>\n",
       "    .dataframe tbody tr th:only-of-type {\n",
       "        vertical-align: middle;\n",
       "    }\n",
       "\n",
       "    .dataframe tbody tr th {\n",
       "        vertical-align: top;\n",
       "    }\n",
       "\n",
       "    .dataframe thead th {\n",
       "        text-align: right;\n",
       "    }\n",
       "</style>\n",
       "<table border=\"1\" class=\"dataframe\">\n",
       "  <thead>\n",
       "    <tr style=\"text-align: right;\">\n",
       "      <th></th>\n",
       "      <th>name</th>\n",
       "      <th>segmentId</th>\n",
       "      <th>percentSharedSkills</th>\n",
       "      <th>sharedSkillsList</th>\n",
       "    </tr>\n",
       "  </thead>\n",
       "  <tbody>\n",
       "    <tr>\n",
       "      <th>0</th>\n",
       "      <td>Lucy Turner</td>\n",
       "      <td>0</td>\n",
       "      <td>0.666667</td>\n",
       "      <td>[Security, Scala]</td>\n",
       "    </tr>\n",
       "    <tr>\n",
       "      <th>1</th>\n",
       "      <td>Sophie Jackson</td>\n",
       "      <td>0</td>\n",
       "      <td>0.333333</td>\n",
       "      <td>[Security]</td>\n",
       "    </tr>\n",
       "    <tr>\n",
       "      <th>2</th>\n",
       "      <td>Mia Nelson</td>\n",
       "      <td>0</td>\n",
       "      <td>0.333333</td>\n",
       "      <td>[Security]</td>\n",
       "    </tr>\n",
       "    <tr>\n",
       "      <th>3</th>\n",
       "      <td>David Lopez</td>\n",
       "      <td>0</td>\n",
       "      <td>0.333333</td>\n",
       "      <td>[Security]</td>\n",
       "    </tr>\n",
       "    <tr>\n",
       "      <th>4</th>\n",
       "      <td>Thomas Nelson</td>\n",
       "      <td>0</td>\n",
       "      <td>0.333333</td>\n",
       "      <td>[Security]</td>\n",
       "    </tr>\n",
       "  </tbody>\n",
       "</table>\n",
       "</div>"
      ]
     },
     "execution_count": 53,
     "metadata": {},
     "output_type": "execute_result"
    }
   ],
   "execution_count": 53
  },
  {
   "metadata": {
    "ExecuteTime": {
     "end_time": "2025-03-11T06:36:14.248030Z",
     "start_time": "2025-03-11T06:36:14.159217Z"
    }
   },
   "cell_type": "code",
   "source": [
    "@tool\n",
    "def retrieve_people_with_similar_skills(person_name: str, limit=5) -> pd.DataFrame:\n",
    "    \"\"\"Find people with similar skills to the provided person\"\"\"\n",
    "    #uses overlap query\n",
    "    return driver.execute_query(\n",
    "        ''' \n",
    "        match (p1:Person{name:$name})-[:KNOWS]->(s:Skill)<-[:KNOWS]-(p2)\n",
    "        where p1 <> p2\n",
    "        with p2.name as name, \n",
    "            p2.segmentId AS segmentId,\n",
    "            count{(p1)-[:KNOWS]->()} as p1Skills,\n",
    "            toFloat(count(s)) as sharedSkills,\n",
    "            collect(s.name) as sharedSkillsList\n",
    "        return name, segmentId, sharedSkills/p1Skills AS percentSharedSkills, sharedSkillsList\n",
    "        ORDER BY sharedSkills DESC LIMIT $limit\n",
    "        ''',\n",
    "        database_=DATABASE,\n",
    "        name=person_name,\n",
    "        limit=limit,\n",
    "        routing_=RoutingControl.READ,\n",
    "        result_transformer_= lambda r: r.to_df()\n",
    "    )\n",
    "\n",
    "retrieve_people_with_similar_skills('Isabella Allen')"
   ],
   "outputs": [
    {
     "data": {
      "text/plain": [
       "             name  segmentId  percentSharedSkills   sharedSkillsList\n",
       "0     Lucy Turner          0             0.666667  [Security, Scala]\n",
       "1  Sophie Jackson          0             0.333333         [Security]\n",
       "2      Mia Nelson          0             0.333333         [Security]\n",
       "3     David Lopez          0             0.333333         [Security]\n",
       "4   Thomas Nelson          0             0.333333         [Security]"
      ],
      "text/html": [
       "<div>\n",
       "<style scoped>\n",
       "    .dataframe tbody tr th:only-of-type {\n",
       "        vertical-align: middle;\n",
       "    }\n",
       "\n",
       "    .dataframe tbody tr th {\n",
       "        vertical-align: top;\n",
       "    }\n",
       "\n",
       "    .dataframe thead th {\n",
       "        text-align: right;\n",
       "    }\n",
       "</style>\n",
       "<table border=\"1\" class=\"dataframe\">\n",
       "  <thead>\n",
       "    <tr style=\"text-align: right;\">\n",
       "      <th></th>\n",
       "      <th>name</th>\n",
       "      <th>segmentId</th>\n",
       "      <th>percentSharedSkills</th>\n",
       "      <th>sharedSkillsList</th>\n",
       "    </tr>\n",
       "  </thead>\n",
       "  <tbody>\n",
       "    <tr>\n",
       "      <th>0</th>\n",
       "      <td>Lucy Turner</td>\n",
       "      <td>0</td>\n",
       "      <td>0.666667</td>\n",
       "      <td>[Security, Scala]</td>\n",
       "    </tr>\n",
       "    <tr>\n",
       "      <th>1</th>\n",
       "      <td>Sophie Jackson</td>\n",
       "      <td>0</td>\n",
       "      <td>0.333333</td>\n",
       "      <td>[Security]</td>\n",
       "    </tr>\n",
       "    <tr>\n",
       "      <th>2</th>\n",
       "      <td>Mia Nelson</td>\n",
       "      <td>0</td>\n",
       "      <td>0.333333</td>\n",
       "      <td>[Security]</td>\n",
       "    </tr>\n",
       "    <tr>\n",
       "      <th>3</th>\n",
       "      <td>David Lopez</td>\n",
       "      <td>0</td>\n",
       "      <td>0.333333</td>\n",
       "      <td>[Security]</td>\n",
       "    </tr>\n",
       "    <tr>\n",
       "      <th>4</th>\n",
       "      <td>Thomas Nelson</td>\n",
       "      <td>0</td>\n",
       "      <td>0.333333</td>\n",
       "      <td>[Security]</td>\n",
       "    </tr>\n",
       "  </tbody>\n",
       "</table>\n",
       "</div>"
      ]
     },
     "execution_count": 54,
     "metadata": {},
     "output_type": "execute_result"
    }
   ],
   "execution_count": 54
  },
  {
   "metadata": {
    "ExecuteTime": {
     "end_time": "2025-03-11T06:36:17.057008Z",
     "start_time": "2025-03-11T06:36:15.118491Z"
    }
   },
   "cell_type": "code",
   "source": [
    "from langchain_core.prompts import PromptTemplate\n",
    "\n",
    "t2c_prompt =  PromptTemplate.from_template(\"\"\"\n",
    "Task: Generate a Cypher statement for querying a Neo4j graph database from a user input. \n",
    "- Do not include triple backticks ``` or ```cypher or any additional text except the generated Cypher statement in your response.\n",
    "- Do not use any properties or relationships not included in the schema.\n",
    "\n",
    "Schema:\n",
    "{schema}\n",
    "\n",
    "#User Input\n",
    "{question}\n",
    "\n",
    "\n",
    "Cypher query:\n",
    "\"\"\")\n",
    "\n",
    "annotated_schema = '''\n",
    "Nodes:\n",
    "  Person:\n",
    "    description: \"A person in our talent pool.\"\n",
    "    properties:\n",
    "      name:\n",
    "        type: \"string\"\n",
    "        description: \"The full name of the person. serves as a unique identifier.\"\n",
    "      email:\n",
    "        type: \"string\"\n",
    "        description: \"The email address of the person.\"\n",
    "      segmentId:\n",
    "        type: \"integer\"\n",
    "        description: \"The talent segment for the person.  People in the same talent segment share similar skills.\"\n",
    "  Skill:\n",
    "    description: \"A professional skill.\"\n",
    "    properties:\n",
    "      name:\n",
    "        type: \"string\"\n",
    "        description: \"The unique name of the skill.\"\n",
    "Relationships:\n",
    "    KNOWS:\n",
    "        description: \"A person knowing a skill.\"\n",
    "        query_pattern: \"(:Person)-[:KNOWS]->(:Skill)\"\n",
    "'''\n",
    "\n",
    "t2c_llm = ChatOpenAI(model='gpt-4', temperature=0)\n",
    "\n",
    "@tool\n",
    "def perform_aggregation_query(question: str) -> pd.DataFrame:\n",
    "    \"\"\"\n",
    "    perform an aggregation query on the Neo4j graph database and obtain the results.\n",
    "    \"\"\"\n",
    "    prompt = t2c_prompt.invoke({'schema': annotated_schema, 'question': question})\n",
    "    query = t2c_llm.invoke(prompt).content\n",
    "    print(f\"executing Cypher query:\\n{query}\")\n",
    "    return driver.execute_query(query,\n",
    "        database_=DATABASE,\n",
    "        routing_=RoutingControl.READ,\n",
    "        result_transformer_= lambda r: r.to_df()\n",
    "    )\n",
    "\n",
    "perform_aggregation_query(question='describe talent segments by skills') "
   ],
   "outputs": [
    {
     "name": "stdout",
     "output_type": "stream",
     "text": [
      "executing Cypher query:\n",
      "MATCH (p:Person)-[:KNOWS]->(s:Skill)\n",
      "RETURN p.segmentId AS Talent_Segment, collect(s.name) AS Skills\n"
     ]
    },
    {
     "data": {
      "text/plain": [
       "   Talent_Segment                                             Skills\n",
       "0             4.0  [API Design, API Design, API Design, API Desig...\n",
       "1             2.0  [API Design, AWS, Angular, Angular, Angular, A...\n",
       "2             0.0  [AWS, AWS, Angular, Angular, Angular, Big Data...\n",
       "3             3.0  [AWS, AWS, Angular, Blockchain, Blockchain, Bl...\n",
       "4             1.0  [AWS, Angular, Angular, Azure, Azure, Azure, B...\n",
       "5             NaN  [Cypher, Cypher Queries, Graph Technology, Jav..."
      ],
      "text/html": [
       "<div>\n",
       "<style scoped>\n",
       "    .dataframe tbody tr th:only-of-type {\n",
       "        vertical-align: middle;\n",
       "    }\n",
       "\n",
       "    .dataframe tbody tr th {\n",
       "        vertical-align: top;\n",
       "    }\n",
       "\n",
       "    .dataframe thead th {\n",
       "        text-align: right;\n",
       "    }\n",
       "</style>\n",
       "<table border=\"1\" class=\"dataframe\">\n",
       "  <thead>\n",
       "    <tr style=\"text-align: right;\">\n",
       "      <th></th>\n",
       "      <th>Talent_Segment</th>\n",
       "      <th>Skills</th>\n",
       "    </tr>\n",
       "  </thead>\n",
       "  <tbody>\n",
       "    <tr>\n",
       "      <th>0</th>\n",
       "      <td>4.0</td>\n",
       "      <td>[API Design, API Design, API Design, API Desig...</td>\n",
       "    </tr>\n",
       "    <tr>\n",
       "      <th>1</th>\n",
       "      <td>2.0</td>\n",
       "      <td>[API Design, AWS, Angular, Angular, Angular, A...</td>\n",
       "    </tr>\n",
       "    <tr>\n",
       "      <th>2</th>\n",
       "      <td>0.0</td>\n",
       "      <td>[AWS, AWS, Angular, Angular, Angular, Big Data...</td>\n",
       "    </tr>\n",
       "    <tr>\n",
       "      <th>3</th>\n",
       "      <td>3.0</td>\n",
       "      <td>[AWS, AWS, Angular, Blockchain, Blockchain, Bl...</td>\n",
       "    </tr>\n",
       "    <tr>\n",
       "      <th>4</th>\n",
       "      <td>1.0</td>\n",
       "      <td>[AWS, Angular, Angular, Azure, Azure, Azure, B...</td>\n",
       "    </tr>\n",
       "    <tr>\n",
       "      <th>5</th>\n",
       "      <td>NaN</td>\n",
       "      <td>[Cypher, Cypher Queries, Graph Technology, Jav...</td>\n",
       "    </tr>\n",
       "  </tbody>\n",
       "</table>\n",
       "</div>"
      ]
     },
     "execution_count": 55,
     "metadata": {},
     "output_type": "execute_result"
    }
   ],
   "execution_count": 55
  },
  {
   "metadata": {
    "ExecuteTime": {
     "end_time": "2025-03-11T06:36:20.847046Z",
     "start_time": "2025-03-11T06:36:17.961066Z"
    }
   },
   "cell_type": "code",
   "source": "perform_aggregation_query(question='how many people share skills with Isabella Allen, and what are the skills')",
   "outputs": [
    {
     "name": "stdout",
     "output_type": "stream",
     "text": [
      "executing Cypher query:\n",
      "MATCH (p:Person {name: \"Isabella Allen\"})-[:KNOWS]->(s:Skill)<-[:KNOWS]-(other:Person)\n",
      "RETURN COUNT(DISTINCT other) AS NumberOfPeople, COLLECT(DISTINCT s.name) AS SharedSkills\n"
     ]
    },
    {
     "data": {
      "text/plain": [
       "   NumberOfPeople                           SharedSkills\n",
       "0              29  [Security, Scala, Cloud Architecture]"
      ],
      "text/html": [
       "<div>\n",
       "<style scoped>\n",
       "    .dataframe tbody tr th:only-of-type {\n",
       "        vertical-align: middle;\n",
       "    }\n",
       "\n",
       "    .dataframe tbody tr th {\n",
       "        vertical-align: top;\n",
       "    }\n",
       "\n",
       "    .dataframe thead th {\n",
       "        text-align: right;\n",
       "    }\n",
       "</style>\n",
       "<table border=\"1\" class=\"dataframe\">\n",
       "  <thead>\n",
       "    <tr style=\"text-align: right;\">\n",
       "      <th></th>\n",
       "      <th>NumberOfPeople</th>\n",
       "      <th>SharedSkills</th>\n",
       "    </tr>\n",
       "  </thead>\n",
       "  <tbody>\n",
       "    <tr>\n",
       "      <th>0</th>\n",
       "      <td>29</td>\n",
       "      <td>[Security, Scala, Cloud Architecture]</td>\n",
       "    </tr>\n",
       "  </tbody>\n",
       "</table>\n",
       "</div>"
      ]
     },
     "execution_count": 56,
     "metadata": {},
     "output_type": "execute_result"
    }
   ],
   "execution_count": 56
  },
  {
   "metadata": {},
   "cell_type": "markdown",
   "source": "### Instantiate LLM and Bind Tools"
  },
  {
   "metadata": {
    "ExecuteTime": {
     "end_time": "2025-03-11T06:36:24.648186Z",
     "start_time": "2025-03-11T06:36:23.591086Z"
    }
   },
   "cell_type": "code",
   "source": [
    "from langchain_core.messages import HumanMessage\n",
    "\n",
    "llm = ChatOpenAI(model_name=\"gpt-4o\", temperature=0, openai_api_base=\"https://api.openai.com/v1\")\n",
    "\n",
    "response = llm.invoke([HumanMessage(content=\"hi!\")])\n",
    "response.content"
   ],
   "outputs": [
    {
     "data": {
      "text/plain": [
       "'Hello! How can I assist you today?'"
      ]
     },
     "execution_count": 57,
     "metadata": {},
     "output_type": "execute_result"
    }
   ],
   "execution_count": 57
  },
  {
   "metadata": {
    "ExecuteTime": {
     "end_time": "2025-03-11T06:36:25.734488Z",
     "start_time": "2025-03-11T06:36:25.724159Z"
    }
   },
   "cell_type": "code",
   "source": [
    "tools = [\n",
    "    retrieve_persons_given_set_of_skills,\n",
    "    retrieve_people_with_similar_skills,\n",
    "    perform_aggregation_query\n",
    "]\n",
    "\n",
    "llm_with_tools = llm.bind_tools(tools)"
   ],
   "outputs": [],
   "execution_count": 58
  },
  {
   "metadata": {
    "ExecuteTime": {
     "end_time": "2025-03-11T06:36:28.636746Z",
     "start_time": "2025-03-11T06:36:27.496030Z"
    }
   },
   "cell_type": "code",
   "source": [
    "response = llm_with_tools.invoke([HumanMessage(content=\"Who has front end development skills\")])\n",
    "\n",
    "print(f\"ContentString: {response.content}\")\n",
    "print(f\"ToolCalls: {response.tool_calls}\")"
   ],
   "outputs": [
    {
     "name": "stdout",
     "output_type": "stream",
     "text": [
      "ContentString: \n",
      "ToolCalls: [{'name': 'retrieve_persons_given_set_of_skills', 'args': {'skills': [{'name': 'front end development'}]}, 'id': 'call_cMKsE9ZcVzXYL2oPzzeESvrn', 'type': 'tool_call'}]\n"
     ]
    }
   ],
   "execution_count": 59
  },
  {
   "metadata": {},
   "cell_type": "markdown",
   "source": [
    "We can see that there's now no text content, but there is a tool call! It wants us to call the Tavily Search tool.\n",
    "This isn't calling that tool yet - it's just telling us to. In order to actually call it, we'll want to create our agent."
   ]
  },
  {
   "metadata": {},
   "cell_type": "markdown",
   "source": "### Running Agents with LangGraph"
  },
  {
   "metadata": {
    "ExecuteTime": {
     "end_time": "2025-03-11T06:36:29.464411Z",
     "start_time": "2025-03-11T06:36:29.448308Z"
    }
   },
   "cell_type": "code",
   "source": [
    "from langgraph.prebuilt import create_react_agent\n",
    "\n",
    "agent_executor = create_react_agent(llm, tools)"
   ],
   "outputs": [],
   "execution_count": 60
  },
  {
   "metadata": {
    "ExecuteTime": {
     "end_time": "2025-03-11T06:36:32.177776Z",
     "start_time": "2025-03-11T06:36:31.459041Z"
    }
   },
   "cell_type": "code",
   "source": [
    "response = agent_executor.invoke({\"messages\": [HumanMessage(content=\"hi!\")]})\n",
    "\n",
    "response[\"messages\"]"
   ],
   "outputs": [
    {
     "data": {
      "text/plain": [
       "[HumanMessage(content='hi!', additional_kwargs={}, response_metadata={}, id='38c2b4bc-cefb-4ba3-b11d-509629fb35f4'),\n",
       " AIMessage(content='Hello! How can I assist you today?', additional_kwargs={'refusal': None}, response_metadata={'token_usage': {'completion_tokens': 11, 'prompt_tokens': 211, 'total_tokens': 222, 'completion_tokens_details': {'accepted_prediction_tokens': 0, 'audio_tokens': 0, 'reasoning_tokens': 0, 'rejected_prediction_tokens': 0}, 'prompt_tokens_details': {'audio_tokens': 0, 'cached_tokens': 0}}, 'model_name': 'gpt-4o-2024-08-06', 'system_fingerprint': 'fp_eb9dce56a8', 'finish_reason': 'stop', 'logprobs': None}, id='run-130510bf-c375-48bb-af66-999ea45fa28b-0', usage_metadata={'input_tokens': 211, 'output_tokens': 11, 'total_tokens': 222, 'input_token_details': {'audio': 0, 'cache_read': 0}, 'output_token_details': {'audio': 0, 'reasoning': 0}})]"
      ]
     },
     "execution_count": 61,
     "metadata": {},
     "output_type": "execute_result"
    }
   ],
   "execution_count": 61
  },
  {
   "metadata": {
    "ExecuteTime": {
     "end_time": "2025-03-11T06:58:52.150062Z",
     "start_time": "2025-03-11T06:58:47.963914Z"
    }
   },
   "cell_type": "code",
   "source": [
    "# Streaming steps\n",
    "for step in agent_executor.stream(\n",
    "        {\"messages\": [HumanMessage(content=\"find a senior java developer that also knows cypher\")]},\n",
    "        stream_mode=\"values\",\n",
    "):\n",
    "    step[\"messages\"][-1].pretty_print()"
   ],
   "outputs": [
    {
     "name": "stdout",
     "output_type": "stream",
     "text": [
      "================================\u001B[1m Human Message \u001B[0m=================================\n",
      "\n",
      "find a senior java developer that also knows cypher\n",
      "==================================\u001B[1m Ai Message \u001B[0m==================================\n",
      "Tool Calls:\n",
      "  retrieve_persons_given_set_of_skills (call_VxrSTbWUMBMGeiLvEfH9AmOY)\n",
      " Call ID: call_VxrSTbWUMBMGeiLvEfH9AmOY\n",
      "  Args:\n",
      "    skills: [{'name': 'java'}, {'name': 'cypher'}]\n",
      "['java', 'cypher']\n",
      "=================================\u001B[1m Tool Message \u001B[0m=================================\n",
      "Name: retrieve_persons_given_set_of_skills\n",
      "\n",
      "   community      rank                     email      person_name  \\\n",
      "0        0.0  1.878038     amelia.davis@test.org     Amelia Davis   \n",
      "1        0.0  1.878038     thomas.brown@test.org     Thomas Brown   \n",
      "2        1.0  1.878038       david.hill@test.org       David Hill   \n",
      "3        3.0  1.878038   charles.taylor@test.org   Charles Taylor   \n",
      "4        3.0  1.878038  andrew.anderson@test.org  Andrew Anderson   \n",
      "5        3.0  1.878038  charlotte.adams@test.org  Charlotte Adams   \n",
      "6        3.0  1.878038    andrew.martin@test.org    Andrew Martin   \n",
      "7        4.0  1.878038    joseph.martin@test.org    Joseph Martin   \n",
      "8        4.0  1.878038    thomas.garcia@test.org    Thomas Garcia   \n",
      "9        NaN  1.878038  hakan.lofqvist@neo4j.com   Håkan Löfqvist   \n",
      "\n",
      "                                              skills  \n",
      "0           [Docker, HTML5, Java, PyTorch, Security]  \n",
      "1                        [Docker, Java, R, Security]  \n",
      "2                             [Angular, Java, Scrum]  \n",
      "3                          [CI/CD, Java, TensorFlow]  \n",
      "4  [Data Visualization, DevOps, Java, Node.js, Te...  \n",
      "5            [Blockchain, Java, Kubernetes, ReactJS]  \n",
      "6    [Cloud Architecture, Java, Node.js, R, Testing]  \n",
      "7            [Agile, Java, Linux, Power BI, ReactJS]  \n",
      "8           [Agile, Docker, Flask, Java, TensorFlow]  \n",
      "9           [Cypher Queries, Graph Technology, Java]  \n",
      "==================================\u001B[1m Ai Message \u001B[0m==================================\n",
      "\n",
      "Here is a senior Java developer who also knows Cypher:\n",
      "\n",
      "- **Name:** Håkan Löfqvist\n",
      "- **Email:** hakan.lofqvist@neo4j.com\n",
      "- **Skills:** Cypher Queries, Graph Technology, Java\n",
      "\n",
      "If you need more information or assistance, feel free to ask!\n"
     ]
    }
   ],
   "execution_count": 77
  },
  {
   "metadata": {},
   "cell_type": "markdown",
   "source": "### Conversation with Agent"
  },
  {
   "metadata": {
    "ExecuteTime": {
     "end_time": "2025-03-11T06:52:13.807189Z",
     "start_time": "2025-03-11T06:52:05.091704Z"
    }
   },
   "cell_type": "code",
   "source": [
    "messages = []\n",
    "for step in agent_executor.stream(\n",
    "        {\"messages\": [HumanMessage(content=\"Who has front end development skills?\")]},\n",
    "        stream_mode=\"values\",\n",
    "):\n",
    "    messages += step[\"messages\"]\n",
    "    step[\"messages\"][-1].pretty_print()"
   ],
   "outputs": [
    {
     "name": "stdout",
     "output_type": "stream",
     "text": [
      "================================\u001B[1m Human Message \u001B[0m=================================\n",
      "\n",
      "Who has front end development skills?\n",
      "==================================\u001B[1m Ai Message \u001B[0m==================================\n",
      "Tool Calls:\n",
      "  retrieve_persons_given_set_of_skills (call_DLAyL6sGi5CWNWv8SoIp8O6d)\n",
      " Call ID: call_DLAyL6sGi5CWNWv8SoIp8O6d\n",
      "  Args:\n",
      "    skills: [{'name': 'front end development'}]\n",
      "['front end development']\n",
      "=================================\u001B[1m Tool Message \u001B[0m=================================\n",
      "Name: retrieve_persons_given_set_of_skills\n",
      "\n",
      "   community      rank                       email        person_name  \\\n",
      "0          0  0.913499    amelia.phillips@test.org    Amelia Phillips   \n",
      "1          0  0.913499          ava.white@test.org          Ava White   \n",
      "2          0  0.913499     peter.martinez@test.org     Peter Martinez   \n",
      "3          2  0.913499         ryan.jones@test.org         Ryan Jones   \n",
      "4          2  0.913499      natalie.brown@test.org      Natalie Brown   \n",
      "5          2  0.913499      brian.jackson@test.org      Brian Jackson   \n",
      "6          2  0.913499  william.rodriguez@test.org  William Rodriguez   \n",
      "7          2  0.912831       daniel.smith@test.org       Daniel Smith   \n",
      "8          3  0.913499       john.johnson@test.org       John Johnson   \n",
      "9          3  0.912831    isabella.martin@test.org    Isabella Martin   \n",
      "\n",
      "                                              skills  \n",
      "0  [Angular, Docker, Project Management, Scala, T...  \n",
      "1  [CI/CD, Data Visualization, Project Management...  \n",
      "2                   [Docker, Go, Project Management]  \n",
      "3  [Angular, Jenkins, PHP, Project Management, Sp...  \n",
      "4  [CSS3, Go, Kubernetes, Pandas, Project Managem...  \n",
      "5  [API Design, Cloud Architecture, Jenkins, Proj...  \n",
      "6             [Jenkins, Project Management, PyTorch]  \n",
      "7                            [HTML5, Jenkins, Spark]  \n",
      "8  [AWS, Project Management, Python, TensorFlow, ...  \n",
      "9  [Blockchain, Data Visualization, HTML5, JavaSc...  \n",
      "==================================\u001B[1m Ai Message \u001B[0m==================================\n",
      "\n",
      "Here are some people with front end development skills:\n",
      "\n",
      "1. **Amelia Phillips** - Email: amelia.phillips@test.org\n",
      "   - Skills: Angular, Docker, Project Management, Scala, TypeScript, etc.\n",
      "\n",
      "2. **Ava White** - Email: ava.white@test.org\n",
      "   - Skills: CI/CD, Data Visualization, Project Management, etc.\n",
      "\n",
      "3. **Peter Martinez** - Email: peter.martinez@test.org\n",
      "   - Skills: Docker, Go, Project Management\n",
      "\n",
      "4. **Ryan Jones** - Email: ryan.jones@test.org\n",
      "   - Skills: Angular, Jenkins, PHP, Project Management, Spark, etc.\n",
      "\n",
      "5. **Natalie Brown** - Email: natalie.brown@test.org\n",
      "   - Skills: CSS3, Go, Kubernetes, Pandas, Project Management, etc.\n",
      "\n",
      "6. **Brian Jackson** - Email: brian.jackson@test.org\n",
      "   - Skills: API Design, Cloud Architecture, Jenkins, Project Management, etc.\n",
      "\n",
      "7. **William Rodriguez** - Email: william.rodriguez@test.org\n",
      "   - Skills: Jenkins, Project Management, PyTorch\n",
      "\n",
      "8. **Daniel Smith** - Email: daniel.smith@test.org\n",
      "   - Skills: HTML5, Jenkins, Spark\n",
      "\n",
      "9. **John Johnson** - Email: john.johnson@test.org\n",
      "   - Skills: AWS, Project Management, Python, TensorFlow, etc.\n",
      "\n",
      "10. **Isabella Martin** - Email: isabella.martin@test.org\n",
      "    - Skills: Blockchain, Data Visualization, HTML5, JavaScript, etc.\n"
     ]
    }
   ],
   "execution_count": 69
  },
  {
   "metadata": {
    "ExecuteTime": {
     "end_time": "2025-03-11T06:52:24.867673Z",
     "start_time": "2025-03-11T06:52:20.416137Z"
    }
   },
   "cell_type": "code",
   "source": [
    "for step in agent_executor.stream(\n",
    "        {\"messages\": messages + [HumanMessage(content=\"Amanda Phillips looks like a good fit but she is leaving.  Who are some good replacements?\")]},\n",
    "        stream_mode=\"values\",\n",
    "):\n",
    "    messages += step[\"messages\"]\n",
    "    step[\"messages\"][-1].pretty_print()"
   ],
   "outputs": [
    {
     "name": "stdout",
     "output_type": "stream",
     "text": [
      "================================\u001B[1m Human Message \u001B[0m=================================\n",
      "\n",
      "Amanda Phillips looks like a good fit but she is leaving.  Who are some good replacements?\n",
      "==================================\u001B[1m Ai Message \u001B[0m==================================\n",
      "Tool Calls:\n",
      "  retrieve_people_with_similar_skills (call_lXqbyZVvOqNNicIqaLXcw95I)\n",
      " Call ID: call_lXqbyZVvOqNNicIqaLXcw95I\n",
      "  Args:\n",
      "    person_name: Amelia Phillips\n",
      "=================================\u001B[1m Tool Message \u001B[0m=================================\n",
      "Name: retrieve_people_with_similar_skills\n",
      "\n",
      "           name  segmentId  percentSharedSkills               sharedSkillsList\n",
      "0  Kevin Garcia          4                  0.4              [Angular, Docker]\n",
      "1   Lucy Turner          0                  0.4                [Scala, Docker]\n",
      "2   Elena Young          3                  0.4               [Angular, Scala]\n",
      "3    Ryan Jones          2                  0.4  [Angular, Project Management]\n",
      "4     Ava White          0                  0.4    [Scala, Project Management]\n",
      "==================================\u001B[1m Ai Message \u001B[0m==================================\n",
      "\n",
      "Here are some potential replacements for Amelia Phillips, based on similar skills:\n",
      "\n",
      "1. **Kevin Garcia**\n",
      "   - Shared Skills: Angular, Docker\n",
      "   - Percent Shared Skills: 40%\n",
      "\n",
      "2. **Lucy Turner**\n",
      "   - Shared Skills: Scala, Docker\n",
      "   - Percent Shared Skills: 40%\n",
      "\n",
      "3. **Elena Young**\n",
      "   - Shared Skills: Angular, Scala\n",
      "   - Percent Shared Skills: 40%\n",
      "\n",
      "4. **Ryan Jones**\n",
      "   - Shared Skills: Angular, Project Management\n",
      "   - Percent Shared Skills: 40%\n",
      "\n",
      "5. **Ava White**\n",
      "   - Shared Skills: Scala, Project Management\n",
      "   - Percent Shared Skills: 40%\n"
     ]
    }
   ],
   "execution_count": 70
  },
  {
   "metadata": {
    "ExecuteTime": {
     "end_time": "2025-03-11T06:52:34.950587Z",
     "start_time": "2025-03-11T06:52:27.984752Z"
    }
   },
   "cell_type": "code",
   "source": [
    "for step in agent_executor.stream(\n",
    "        {\"messages\": messages + [HumanMessage(content=\"Angular and Docker is good. How many people have these skills? what are their names?\")]},\n",
    "        stream_mode=\"values\",\n",
    "):\n",
    "    messages += step[\"messages\"]\n",
    "    step[\"messages\"][-1].pretty_print()"
   ],
   "outputs": [
    {
     "name": "stdout",
     "output_type": "stream",
     "text": [
      "================================\u001B[1m Human Message \u001B[0m=================================\n",
      "\n",
      "Angular and Docker is good. How many people have these skills? what are their names?\n",
      "==================================\u001B[1m Ai Message \u001B[0m==================================\n",
      "Tool Calls:\n",
      "  perform_aggregation_query (call_Dq95HuMgQd5opyavk2nK5Hhx)\n",
      " Call ID: call_Dq95HuMgQd5opyavk2nK5Hhx\n",
      "  Args:\n",
      "    question: How many people have both Angular and Docker skills?\n",
      "executing Cypher query:\n",
      "MATCH (p:Person)-[:KNOWS]->(s:Skill)\n",
      "WHERE s.name IN ['Angular', 'Docker']\n",
      "WITH p, COUNT(s) AS skillCount\n",
      "WHERE skillCount = 2\n",
      "RETURN COUNT(p)\n",
      "=================================\u001B[1m Tool Message \u001B[0m=================================\n",
      "Name: perform_aggregation_query\n",
      "\n",
      "   COUNT(p)\n",
      "0         2\n",
      "==================================\u001B[1m Ai Message \u001B[0m==================================\n",
      "Tool Calls:\n",
      "  retrieve_persons_given_set_of_skills (call_fOn4hcs7yZNxmacU731BeVBN)\n",
      " Call ID: call_fOn4hcs7yZNxmacU731BeVBN\n",
      "  Args:\n",
      "    skills: [{'name': 'Angular'}, {'name': 'Docker'}]\n",
      "['Angular', 'Docker']\n",
      "=================================\u001B[1m Tool Message \u001B[0m=================================\n",
      "Name: retrieve_persons_given_set_of_skills\n",
      "\n",
      "   community      rank                      email       person_name  \\\n",
      "0          0  5.613126   amelia.phillips@test.org   Amelia Phillips   \n",
      "1          0  3.718535       lucy.turner@test.org       Lucy Turner   \n",
      "2          0  1.894591    sophie.jackson@test.org    Sophie Jackson   \n",
      "3          0  1.894591      thomas.brown@test.org      Thomas Brown   \n",
      "4          0  1.894591    peter.martinez@test.org    Peter Martinez   \n",
      "5          1  1.894591        david.hill@test.org        David Hill   \n",
      "6          2  1.894591  natalie.thompson@test.org  Natalie Thompson   \n",
      "7          3  3.718535       elena.young@test.org       Elena Young   \n",
      "8          4  3.789181      kevin.garcia@test.org      Kevin Garcia   \n",
      "9          4  1.894591    richard.taylor@test.org    Richard Taylor   \n",
      "\n",
      "                                              skills  \n",
      "0  [Angular, Docker, Project Management, Scala, T...  \n",
      "1    [Big Data, Docker, Express.js, Scala, Security]  \n",
      "2                 [Angular, Linux, Pandas, Security]  \n",
      "3                        [Docker, Java, R, Security]  \n",
      "4                   [Docker, Go, Project Management]  \n",
      "5                             [Angular, Java, Scrum]  \n",
      "6  [Angular, Jenkins, Spark, System Design, TypeS...  \n",
      "7           [Angular, Blockchain, Scala, TensorFlow]  \n",
      "8          [Agile, Angular, Docker, Power BI, Swift]  \n",
      "9       [Agile, Angular, Cloud Architecture, Kotlin]  \n",
      "==================================\u001B[1m Ai Message \u001B[0m==================================\n",
      "\n",
      "There are 2 people who have both Angular and Docker skills. Here are their names:\n",
      "\n",
      "1. **Amelia Phillips** - Email: amelia.phillips@test.org\n",
      "   - Skills: Angular, Docker, Project Management, Scala, TypeScript, etc.\n",
      "\n",
      "2. **Kevin Garcia** - Email: kevin.garcia@test.org\n",
      "   - Skills: Agile, Angular, Docker, Power BI, Swift\n"
     ]
    }
   ],
   "execution_count": 71
  },
  {
   "metadata": {
    "ExecuteTime": {
     "end_time": "2025-03-11T06:55:11.437844Z",
     "start_time": "2025-03-11T06:54:55.484031Z"
    }
   },
   "cell_type": "code",
   "source": [
    "for step in agent_executor.stream(\n",
    "        {\"messages\": messages + [HumanMessage(content=\"Can you describe my talent pool by segment?  What sorts of contracts we are well suited for and areas for growth given industry trends?\")]},\n",
    "        stream_mode=\"values\",\n",
    "):\n",
    "    messages += step[\"messages\"]\n",
    "    step[\"messages\"][-1].pretty_print()"
   ],
   "outputs": [
    {
     "name": "stdout",
     "output_type": "stream",
     "text": [
      "================================\u001B[1m Human Message \u001B[0m=================================\n",
      "\n",
      "Can you describe my talent pool by segment?  What sorts of contracts we are well suited for and areas for growth given industry trends?\n",
      "==================================\u001B[1m Ai Message \u001B[0m==================================\n",
      "Tool Calls:\n",
      "  perform_aggregation_query (call_yNp4v4uca9DXGuENrX9WJ099)\n",
      " Call ID: call_yNp4v4uca9DXGuENrX9WJ099\n",
      "  Args:\n",
      "    question: Describe the talent pool by segment, including skills and potential contract suitability, and identify areas for growth given industry trends.\n",
      "executing Cypher query:\n",
      "MATCH (p:Person)-[:KNOWS]->(s:Skill)\n",
      "RETURN p.segmentId AS Segment, collect(s.name) AS Skills, count(p) AS Potential_Contract_Suitability\n",
      "ORDER BY Potential_Contract_Suitability DESC\n",
      "=================================\u001B[1m Tool Message \u001B[0m=================================\n",
      "Name: perform_aggregation_query\n",
      "\n",
      "   Segment                                             Skills  \\\n",
      "0      2.0  [API Design, AWS, Angular, Angular, Angular, A...   \n",
      "1      4.0  [API Design, API Design, API Design, API Desig...   \n",
      "2      0.0  [AWS, AWS, Angular, Angular, Angular, Big Data...   \n",
      "3      3.0  [AWS, AWS, Angular, Blockchain, Blockchain, Bl...   \n",
      "4      1.0  [AWS, Angular, Angular, Azure, Azure, Azure, B...   \n",
      "5      NaN  [Cypher, Cypher Queries, Graph Technology, Jav...   \n",
      "\n",
      "   Potential_Contract_Suitability  \n",
      "0                             118  \n",
      "1                              83  \n",
      "2                              75  \n",
      "3                              69  \n",
      "4                              54  \n",
      "5                               5  \n",
      "==================================\u001B[1m Ai Message \u001B[0m==================================\n",
      "\n",
      "Here's an overview of your talent pool by segment, including skills, potential contract suitability, and areas for growth given industry trends:\n",
      "\n",
      "### Segment 2.0\n",
      "- **Skills**: API Design, AWS, Angular, Docker, Jenkins, Project Management, etc.\n",
      "- **Potential Contract Suitability**: 118\n",
      "- **Description**: This segment is strong in cloud services and front-end development, making it well-suited for contracts involving web application development, cloud integration, and API management.\n",
      "\n",
      "### Segment 4.0\n",
      "- **Skills**: API Design, Agile, Angular, Docker, Power BI, Swift, etc.\n",
      "- **Potential Contract Suitability**: 83\n",
      "- **Description**: This segment is versatile with skills in agile methodologies and data visualization, suitable for contracts in agile project management, business intelligence, and mobile app development.\n",
      "\n",
      "### Segment 0.0\n",
      "- **Skills**: AWS, Big Data, Docker, Express.js, Scala, Security, etc.\n",
      "- **Potential Contract Suitability**: 75\n",
      "- **Description**: With a focus on big data and security, this segment is ideal for contracts in data analytics, cybersecurity, and backend development.\n",
      "\n",
      "### Segment 3.0\n",
      "- **Skills**: AWS, Blockchain, Scala, TensorFlow, etc.\n",
      "- **Potential Contract Suitability**: 69\n",
      "- **Description**: This segment has expertise in blockchain and machine learning, making it suitable for contracts in blockchain development, AI solutions, and fintech applications.\n",
      "\n",
      "### Segment 1.0\n",
      "- **Skills**: AWS, Azure, Big Data, Cloud Architecture, etc.\n",
      "- **Potential Contract Suitability**: 54\n",
      "- **Description**: This segment is strong in cloud architecture and big data, suitable for contracts in cloud migration, data engineering, and enterprise IT solutions.\n",
      "\n",
      "### Segment NaN\n",
      "- **Skills**: Cypher, Cypher Queries, Graph Technology, Java, etc.\n",
      "- **Potential Contract Suitability**: 5\n",
      "- **Description**: This segment specializes in graph technology, suitable for contracts in graph database management, network analysis, and complex data relationships.\n",
      "\n",
      "### Areas for Growth Given Industry Trends\n",
      "\n",
      "- **AI and Machine Learning**: Expand capabilities in AI-driven analytics, natural language processing, and computer vision to capture opportunities in AI and automation.\n",
      "- **Cloud and DevOps**: Enhance skills in cloud-native development and DevOps practices to support digital transformation initiatives.\n",
      "- **Cybersecurity**: Focus on AI-driven threat detection and response systems to address growing cybersecurity challenges.\n",
      "- **Blockchain and Fintech**: Leverage blockchain expertise to explore opportunities in decentralized finance and secure transactions.\n",
      "\n",
      "By leveraging your existing strengths and focusing on these growth areas, you can position your talent pool to capture emerging opportunities in the technology landscape.\n"
     ]
    }
   ],
   "execution_count": 74
  }
 ],
 "metadata": {
  "colab": {
   "provenance": []
  },
  "kernelspec": {
   "display_name": "notebooks_new",
   "language": "python",
   "name": "python3"
  },
  "language_info": {
   "codemirror_mode": {
    "name": "ipython",
    "version": 3
   },
   "file_extension": ".py",
   "mimetype": "text/x-python",
   "name": "python",
   "nbconvert_exporter": "python",
   "pygments_lexer": "ipython3",
   "version": "3.11.0"
  }
 },
 "nbformat": 4,
 "nbformat_minor": 0
}
